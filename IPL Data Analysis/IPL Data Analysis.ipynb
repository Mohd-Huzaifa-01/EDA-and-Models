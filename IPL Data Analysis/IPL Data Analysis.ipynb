{
 "cells": [
  {
   "cell_type": "code",
   "execution_count": 1,
   "id": "e4f39f15",
   "metadata": {
    "execution": {
     "iopub.execute_input": "2024-03-18T06:08:05.736279Z",
     "iopub.status.busy": "2024-03-18T06:08:05.735800Z",
     "iopub.status.idle": "2024-03-18T06:08:08.827306Z",
     "shell.execute_reply": "2024-03-18T06:08:08.826092Z"
    },
    "papermill": {
     "duration": 3.106693,
     "end_time": "2024-03-18T06:08:08.830117",
     "exception": false,
     "start_time": "2024-03-18T06:08:05.723424",
     "status": "completed"
    },
    "tags": []
   },
   "outputs": [],
   "source": [
    "import pandas as pd\n",
    "import seaborn as sbs\n",
    "import numpy as np\n",
    "import matplotlib.pyplot as plt\n",
    "import requests\n",
    "import warnings\n",
    "import plotly.express as px\n",
    "import plotly.graph_objects as go"
   ]
  },
  {
   "cell_type": "code",
   "execution_count": 2,
   "id": "589c2651",
   "metadata": {
    "execution": {
     "iopub.execute_input": "2024-03-18T06:08:08.852858Z",
     "iopub.status.busy": "2024-03-18T06:08:08.851939Z",
     "iopub.status.idle": "2024-03-18T06:08:08.907402Z",
     "shell.execute_reply": "2024-03-18T06:08:08.906255Z"
    },
    "papermill": {
     "duration": 0.069806,
     "end_time": "2024-03-18T06:08:08.910161",
     "exception": false,
     "start_time": "2024-03-18T06:08:08.840355",
     "status": "completed"
    },
    "tags": []
   },
   "outputs": [],
   "source": [
    "data=  pd.read_csv(r\"C:\\Users\\moham\\Desktop\\git\\IPL cricket Data Analysis\\IPL data 2008-2023.csv\")"
   ]
  },
  {
   "cell_type": "code",
   "execution_count": 3,
   "id": "c0173b38",
   "metadata": {
    "execution": {
     "iopub.execute_input": "2024-03-18T06:08:08.932210Z",
     "iopub.status.busy": "2024-03-18T06:08:08.931732Z",
     "iopub.status.idle": "2024-03-18T06:08:08.968354Z",
     "shell.execute_reply": "2024-03-18T06:08:08.967174Z"
    },
    "papermill": {
     "duration": 0.050724,
     "end_time": "2024-03-18T06:08:08.971027",
     "exception": false,
     "start_time": "2024-03-18T06:08:08.920303",
     "status": "completed"
    },
    "tags": []
   },
   "outputs": [
    {
     "data": {
      "text/html": [
       "<div>\n",
       "<style scoped>\n",
       "    .dataframe tbody tr th:only-of-type {\n",
       "        vertical-align: middle;\n",
       "    }\n",
       "\n",
       "    .dataframe tbody tr th {\n",
       "        vertical-align: top;\n",
       "    }\n",
       "\n",
       "    .dataframe thead th {\n",
       "        text-align: right;\n",
       "    }\n",
       "</style>\n",
       "<table border=\"1\" class=\"dataframe\">\n",
       "  <thead>\n",
       "    <tr style=\"text-align: right;\">\n",
       "      <th></th>\n",
       "      <th>Unnamed: 0</th>\n",
       "      <th>season</th>\n",
       "      <th>id</th>\n",
       "      <th>name</th>\n",
       "      <th>short_name</th>\n",
       "      <th>description</th>\n",
       "      <th>home_team</th>\n",
       "      <th>away_team</th>\n",
       "      <th>toss_won</th>\n",
       "      <th>decision</th>\n",
       "      <th>...</th>\n",
       "      <th>home_playx1</th>\n",
       "      <th>away_playx1</th>\n",
       "      <th>away_key_batsman</th>\n",
       "      <th>away_key_bowler</th>\n",
       "      <th>match_days</th>\n",
       "      <th>umpire1</th>\n",
       "      <th>umpire2</th>\n",
       "      <th>tv_umpire</th>\n",
       "      <th>referee</th>\n",
       "      <th>reserve_umpire</th>\n",
       "    </tr>\n",
       "  </thead>\n",
       "  <tbody>\n",
       "    <tr>\n",
       "      <th>0</th>\n",
       "      <td>4</td>\n",
       "      <td>2023.0</td>\n",
       "      <td>1359544</td>\n",
       "      <td>Royal Challengers Bangalore v Gujarat Titans</td>\n",
       "      <td>RCB v GT</td>\n",
       "      <td>70th Match (N), Indian Premier League at Benga...</td>\n",
       "      <td>RCB</td>\n",
       "      <td>GT</td>\n",
       "      <td>GT</td>\n",
       "      <td>BOWL FIRST</td>\n",
       "      <td>...</td>\n",
       "      <td>Virat Kohli (UKN),Faf du Plessis (UKN),Glenn M...</td>\n",
       "      <td>Wriddhiman Saha (WK),Shubman Gill (UKN),Vijay ...</td>\n",
       "      <td>Shubman Gill,Vijay Shankar</td>\n",
       "      <td>Noor Ahmad,Rashid Khan</td>\n",
       "      <td>21 May 2023 - night match (20-over match)</td>\n",
       "      <td>Nitin Menon</td>\n",
       "      <td>Virender Sharma</td>\n",
       "      <td>Tapan Sharma</td>\n",
       "      <td>Javagal Srinath</td>\n",
       "      <td>VM  Dhokre</td>\n",
       "    </tr>\n",
       "    <tr>\n",
       "      <th>1</th>\n",
       "      <td>5</td>\n",
       "      <td>2023.0</td>\n",
       "      <td>1359543</td>\n",
       "      <td>Mumbai Indians v Sunrisers Hyderabad</td>\n",
       "      <td>MI v SRH</td>\n",
       "      <td>69th Match (D/N), Indian Premier League at Mum...</td>\n",
       "      <td>MI</td>\n",
       "      <td>SRH</td>\n",
       "      <td>MI</td>\n",
       "      <td>BOWL FIRST</td>\n",
       "      <td>...</td>\n",
       "      <td>Ishan Kishan (WK),Rohit Sharma (UKN),Cameron G...</td>\n",
       "      <td>Vivrant Sharma (AR),Mayank Agarwal (UKN),Heinr...</td>\n",
       "      <td>Mayank Agarwal,Vivrant Sharma</td>\n",
       "      <td>Bhuvneshwar Kumar,Mayank Dagar</td>\n",
       "      <td>21 May 2023 - day/night match (20-over match)</td>\n",
       "      <td>KN Ananthapadmanabhan</td>\n",
       "      <td>Rod Tucker</td>\n",
       "      <td>Rohan Pandit</td>\n",
       "      <td>Pankaj Dharmani</td>\n",
       "      <td>Parashar Joshi</td>\n",
       "    </tr>\n",
       "    <tr>\n",
       "      <th>2</th>\n",
       "      <td>6</td>\n",
       "      <td>2023.0</td>\n",
       "      <td>1359542</td>\n",
       "      <td>Kolkata Knight Riders v Lucknow Super Giants</td>\n",
       "      <td>KKR v LSG</td>\n",
       "      <td>68th Match (N), Indian Premier League at Kolka...</td>\n",
       "      <td>KKR</td>\n",
       "      <td>LSG</td>\n",
       "      <td>KKR</td>\n",
       "      <td>BOWL FIRST</td>\n",
       "      <td>...</td>\n",
       "      <td>Jason Roy (UKN),Venkatesh Iyer (AR),Nitish Ran...</td>\n",
       "      <td>Karan Sharma (AR),Quinton de Kock (WK),Prerak ...</td>\n",
       "      <td>Nicholas Pooran,Quinton de Kock</td>\n",
       "      <td>Ravi Bishnoi,Yash Thakur</td>\n",
       "      <td>20 May 2023 - night match (20-over match)</td>\n",
       "      <td>Ulhas Gandhe</td>\n",
       "      <td>Jayaraman Madanagopal</td>\n",
       "      <td>Yeshwant Barde</td>\n",
       "      <td>Manu Nayyar</td>\n",
       "      <td>Mohamed Rafi</td>\n",
       "    </tr>\n",
       "    <tr>\n",
       "      <th>3</th>\n",
       "      <td>7</td>\n",
       "      <td>2023.0</td>\n",
       "      <td>1359541</td>\n",
       "      <td>Delhi Capitals v Chennai Super Kings</td>\n",
       "      <td>DC v CSK</td>\n",
       "      <td>67th Match (D/N), Indian Premier League at Del...</td>\n",
       "      <td>DC</td>\n",
       "      <td>CSK</td>\n",
       "      <td>CSK</td>\n",
       "      <td>BAT FIRST</td>\n",
       "      <td>...</td>\n",
       "      <td>Prithvi Shaw (UKN),David Warner (UKN),Phil Sal...</td>\n",
       "      <td>Ruturaj Gaikwad (UKN),Devon Conway (UKN),Shiva...</td>\n",
       "      <td>Devon Conway,Ruturaj Gaikwad</td>\n",
       "      <td>Deepak Chahar,Matheesha Pathirana</td>\n",
       "      <td>20 May 2023 - day/night match (20-over match)</td>\n",
       "      <td>Chris Gaffaney</td>\n",
       "      <td>Nikhil Patwardhan</td>\n",
       "      <td>Anil Chaudhary</td>\n",
       "      <td>Sanjay Verma</td>\n",
       "      <td>Mohit Krishnadas</td>\n",
       "    </tr>\n",
       "    <tr>\n",
       "      <th>4</th>\n",
       "      <td>8</td>\n",
       "      <td>2023.0</td>\n",
       "      <td>1359540</td>\n",
       "      <td>Punjab Kings v Rajasthan Royals</td>\n",
       "      <td>PBKS v RR</td>\n",
       "      <td>66th Match (N), Indian Premier League at Dhara...</td>\n",
       "      <td>PBKS</td>\n",
       "      <td>RR</td>\n",
       "      <td>RR</td>\n",
       "      <td>BOWL FIRST</td>\n",
       "      <td>...</td>\n",
       "      <td>Prabhsimran Singh (UKN),Shikhar Dhawan (UKN),A...</td>\n",
       "      <td>Yashasvi Jaiswal (UKN),Jos Buttler (UKN),Devdu...</td>\n",
       "      <td>Devdutt Padikkal,Yashasvi Jaiswal</td>\n",
       "      <td>Navdeep Saini,Adam Zampa</td>\n",
       "      <td>19 May 2023 - night match (20-over match)</td>\n",
       "      <td>Nand Kishore</td>\n",
       "      <td>Rod Tucker</td>\n",
       "      <td>Navdeep Singh</td>\n",
       "      <td>Pankaj Dharmani</td>\n",
       "      <td>Parashar Joshi</td>\n",
       "    </tr>\n",
       "  </tbody>\n",
       "</table>\n",
       "<p>5 rows × 44 columns</p>\n",
       "</div>"
      ],
      "text/plain": [
       "   Unnamed: 0  season       id                                          name  \\\n",
       "0           4  2023.0  1359544  Royal Challengers Bangalore v Gujarat Titans   \n",
       "1           5  2023.0  1359543          Mumbai Indians v Sunrisers Hyderabad   \n",
       "2           6  2023.0  1359542  Kolkata Knight Riders v Lucknow Super Giants   \n",
       "3           7  2023.0  1359541          Delhi Capitals v Chennai Super Kings   \n",
       "4           8  2023.0  1359540               Punjab Kings v Rajasthan Royals   \n",
       "\n",
       "  short_name                                        description home_team  \\\n",
       "0   RCB v GT  70th Match (N), Indian Premier League at Benga...       RCB   \n",
       "1   MI v SRH  69th Match (D/N), Indian Premier League at Mum...        MI   \n",
       "2  KKR v LSG  68th Match (N), Indian Premier League at Kolka...       KKR   \n",
       "3   DC v CSK  67th Match (D/N), Indian Premier League at Del...        DC   \n",
       "4  PBKS v RR  66th Match (N), Indian Premier League at Dhara...      PBKS   \n",
       "\n",
       "  away_team toss_won    decision  ...  \\\n",
       "0        GT       GT  BOWL FIRST  ...   \n",
       "1       SRH       MI  BOWL FIRST  ...   \n",
       "2       LSG      KKR  BOWL FIRST  ...   \n",
       "3       CSK      CSK   BAT FIRST  ...   \n",
       "4        RR       RR  BOWL FIRST  ...   \n",
       "\n",
       "                                         home_playx1  \\\n",
       "0  Virat Kohli (UKN),Faf du Plessis (UKN),Glenn M...   \n",
       "1  Ishan Kishan (WK),Rohit Sharma (UKN),Cameron G...   \n",
       "2  Jason Roy (UKN),Venkatesh Iyer (AR),Nitish Ran...   \n",
       "3  Prithvi Shaw (UKN),David Warner (UKN),Phil Sal...   \n",
       "4  Prabhsimran Singh (UKN),Shikhar Dhawan (UKN),A...   \n",
       "\n",
       "                                         away_playx1  \\\n",
       "0  Wriddhiman Saha (WK),Shubman Gill (UKN),Vijay ...   \n",
       "1  Vivrant Sharma (AR),Mayank Agarwal (UKN),Heinr...   \n",
       "2  Karan Sharma (AR),Quinton de Kock (WK),Prerak ...   \n",
       "3  Ruturaj Gaikwad (UKN),Devon Conway (UKN),Shiva...   \n",
       "4  Yashasvi Jaiswal (UKN),Jos Buttler (UKN),Devdu...   \n",
       "\n",
       "                    away_key_batsman                    away_key_bowler  \\\n",
       "0         Shubman Gill,Vijay Shankar             Noor Ahmad,Rashid Khan   \n",
       "1      Mayank Agarwal,Vivrant Sharma     Bhuvneshwar Kumar,Mayank Dagar   \n",
       "2    Nicholas Pooran,Quinton de Kock           Ravi Bishnoi,Yash Thakur   \n",
       "3       Devon Conway,Ruturaj Gaikwad  Deepak Chahar,Matheesha Pathirana   \n",
       "4  Devdutt Padikkal,Yashasvi Jaiswal           Navdeep Saini,Adam Zampa   \n",
       "\n",
       "                                      match_days                umpire1  \\\n",
       "0      21 May 2023 - night match (20-over match)            Nitin Menon   \n",
       "1  21 May 2023 - day/night match (20-over match)  KN Ananthapadmanabhan   \n",
       "2      20 May 2023 - night match (20-over match)           Ulhas Gandhe   \n",
       "3  20 May 2023 - day/night match (20-over match)         Chris Gaffaney   \n",
       "4      19 May 2023 - night match (20-over match)           Nand Kishore   \n",
       "\n",
       "                 umpire2       tv_umpire          referee    reserve_umpire  \n",
       "0        Virender Sharma    Tapan Sharma  Javagal Srinath        VM  Dhokre  \n",
       "1             Rod Tucker    Rohan Pandit  Pankaj Dharmani    Parashar Joshi  \n",
       "2  Jayaraman Madanagopal  Yeshwant Barde      Manu Nayyar      Mohamed Rafi  \n",
       "3      Nikhil Patwardhan  Anil Chaudhary     Sanjay Verma  Mohit Krishnadas  \n",
       "4             Rod Tucker   Navdeep Singh  Pankaj Dharmani    Parashar Joshi  \n",
       "\n",
       "[5 rows x 44 columns]"
      ]
     },
     "execution_count": 3,
     "metadata": {},
     "output_type": "execute_result"
    }
   ],
   "source": [
    "data.head()"
   ]
  },
  {
   "cell_type": "code",
   "execution_count": 4,
   "id": "f20430bc",
   "metadata": {
    "execution": {
     "iopub.execute_input": "2024-03-18T06:08:08.994964Z",
     "iopub.status.busy": "2024-03-18T06:08:08.994568Z",
     "iopub.status.idle": "2024-03-18T06:08:09.001845Z",
     "shell.execute_reply": "2024-03-18T06:08:09.000585Z"
    },
    "papermill": {
     "duration": 0.022351,
     "end_time": "2024-03-18T06:08:09.004128",
     "exception": false,
     "start_time": "2024-03-18T06:08:08.981777",
     "status": "completed"
    },
    "tags": []
   },
   "outputs": [],
   "source": [
    "data.drop(columns=['Unnamed: 0'],inplace= True)"
   ]
  },
  {
   "cell_type": "code",
   "execution_count": 5,
   "id": "1e377560",
   "metadata": {
    "execution": {
     "iopub.execute_input": "2024-03-18T06:08:09.026832Z",
     "iopub.status.busy": "2024-03-18T06:08:09.026424Z",
     "iopub.status.idle": "2024-03-18T06:08:09.054450Z",
     "shell.execute_reply": "2024-03-18T06:08:09.053347Z"
    },
    "papermill": {
     "duration": 0.04243,
     "end_time": "2024-03-18T06:08:09.057167",
     "exception": false,
     "start_time": "2024-03-18T06:08:09.014737",
     "status": "completed"
    },
    "tags": []
   },
   "outputs": [
    {
     "name": "stdout",
     "output_type": "stream",
     "text": [
      "<class 'pandas.core.frame.DataFrame'>\n",
      "RangeIndex: 899 entries, 0 to 898\n",
      "Data columns (total 43 columns):\n",
      " #   Column            Non-Null Count  Dtype  \n",
      "---  ------            --------------  -----  \n",
      " 0   season            899 non-null    float64\n",
      " 1   id                899 non-null    int64  \n",
      " 2   name              899 non-null    object \n",
      " 3   short_name        899 non-null    object \n",
      " 4   description       899 non-null    object \n",
      " 5   home_team         899 non-null    object \n",
      " 6   away_team         899 non-null    object \n",
      " 7   toss_won          899 non-null    object \n",
      " 8   decision          899 non-null    object \n",
      " 9   1st_inning_score  899 non-null    object \n",
      " 10  2nd_inning_score  899 non-null    object \n",
      " 11  winner            899 non-null    object \n",
      " 12  result            899 non-null    object \n",
      " 13  start_date        899 non-null    object \n",
      " 14  end_date          899 non-null    object \n",
      " 15  venue_id          899 non-null    int64  \n",
      " 16  venue_name        899 non-null    object \n",
      " 17  home_captain      899 non-null    object \n",
      " 18  away_captain      899 non-null    object \n",
      " 19  pom               899 non-null    object \n",
      " 20  points            899 non-null    object \n",
      " 21  super_over        899 non-null    bool   \n",
      " 22  home_overs        899 non-null    float64\n",
      " 23  home_runs         899 non-null    float64\n",
      " 24  home_wickets      899 non-null    float64\n",
      " 25  home_boundaries   899 non-null    float64\n",
      " 26  away_overs        899 non-null    float64\n",
      " 27  away_runs         899 non-null    float64\n",
      " 28  away_wickets      899 non-null    float64\n",
      " 29  away_boundaries   899 non-null    float64\n",
      " 30  highlights        899 non-null    object \n",
      " 31  home_key_batsman  899 non-null    object \n",
      " 32  home_key_bowler   899 non-null    object \n",
      " 33  home_playx1       899 non-null    object \n",
      " 34  away_playx1       899 non-null    object \n",
      " 35  away_key_batsman  899 non-null    object \n",
      " 36  away_key_bowler   899 non-null    object \n",
      " 37  match_days        899 non-null    object \n",
      " 38  umpire1           899 non-null    object \n",
      " 39  umpire2           899 non-null    object \n",
      " 40  tv_umpire         899 non-null    object \n",
      " 41  referee           899 non-null    object \n",
      " 42  reserve_umpire    899 non-null    object \n",
      "dtypes: bool(1), float64(9), int64(2), object(31)\n",
      "memory usage: 296.0+ KB\n"
     ]
    }
   ],
   "source": [
    "data.info()"
   ]
  },
  {
   "cell_type": "code",
   "execution_count": 6,
   "id": "018978d6",
   "metadata": {
    "execution": {
     "iopub.execute_input": "2024-03-18T06:08:09.080566Z",
     "iopub.status.busy": "2024-03-18T06:08:09.080174Z",
     "iopub.status.idle": "2024-03-18T06:08:09.085070Z",
     "shell.execute_reply": "2024-03-18T06:08:09.084093Z"
    },
    "papermill": {
     "duration": 0.01955,
     "end_time": "2024-03-18T06:08:09.087401",
     "exception": false,
     "start_time": "2024-03-18T06:08:09.067851",
     "status": "completed"
    },
    "tags": []
   },
   "outputs": [],
   "source": [
    "pd.set_option('display.max_columns', None)"
   ]
  },
  {
   "cell_type": "code",
   "execution_count": 7,
   "id": "af40e08f",
   "metadata": {
    "execution": {
     "iopub.execute_input": "2024-03-18T06:08:09.114137Z",
     "iopub.status.busy": "2024-03-18T06:08:09.113142Z",
     "iopub.status.idle": "2024-03-18T06:08:09.153835Z",
     "shell.execute_reply": "2024-03-18T06:08:09.153018Z"
    },
    "papermill": {
     "duration": 0.057647,
     "end_time": "2024-03-18T06:08:09.155899",
     "exception": false,
     "start_time": "2024-03-18T06:08:09.098252",
     "status": "completed"
    },
    "tags": []
   },
   "outputs": [
    {
     "data": {
      "text/html": [
       "<div>\n",
       "<style scoped>\n",
       "    .dataframe tbody tr th:only-of-type {\n",
       "        vertical-align: middle;\n",
       "    }\n",
       "\n",
       "    .dataframe tbody tr th {\n",
       "        vertical-align: top;\n",
       "    }\n",
       "\n",
       "    .dataframe thead th {\n",
       "        text-align: right;\n",
       "    }\n",
       "</style>\n",
       "<table border=\"1\" class=\"dataframe\">\n",
       "  <thead>\n",
       "    <tr style=\"text-align: right;\">\n",
       "      <th></th>\n",
       "      <th>season</th>\n",
       "      <th>id</th>\n",
       "      <th>name</th>\n",
       "      <th>short_name</th>\n",
       "      <th>description</th>\n",
       "      <th>home_team</th>\n",
       "      <th>away_team</th>\n",
       "      <th>toss_won</th>\n",
       "      <th>decision</th>\n",
       "      <th>1st_inning_score</th>\n",
       "      <th>2nd_inning_score</th>\n",
       "      <th>winner</th>\n",
       "      <th>result</th>\n",
       "      <th>start_date</th>\n",
       "      <th>end_date</th>\n",
       "      <th>venue_id</th>\n",
       "      <th>venue_name</th>\n",
       "      <th>home_captain</th>\n",
       "      <th>away_captain</th>\n",
       "      <th>pom</th>\n",
       "      <th>points</th>\n",
       "      <th>super_over</th>\n",
       "      <th>home_overs</th>\n",
       "      <th>home_runs</th>\n",
       "      <th>home_wickets</th>\n",
       "      <th>home_boundaries</th>\n",
       "      <th>away_overs</th>\n",
       "      <th>away_runs</th>\n",
       "      <th>away_wickets</th>\n",
       "      <th>away_boundaries</th>\n",
       "      <th>highlights</th>\n",
       "      <th>home_key_batsman</th>\n",
       "      <th>home_key_bowler</th>\n",
       "      <th>home_playx1</th>\n",
       "      <th>away_playx1</th>\n",
       "      <th>away_key_batsman</th>\n",
       "      <th>away_key_bowler</th>\n",
       "      <th>match_days</th>\n",
       "      <th>umpire1</th>\n",
       "      <th>umpire2</th>\n",
       "      <th>tv_umpire</th>\n",
       "      <th>referee</th>\n",
       "      <th>reserve_umpire</th>\n",
       "    </tr>\n",
       "  </thead>\n",
       "  <tbody>\n",
       "    <tr>\n",
       "      <th>0</th>\n",
       "      <td>2023.0</td>\n",
       "      <td>1359544</td>\n",
       "      <td>Royal Challengers Bangalore v Gujarat Titans</td>\n",
       "      <td>RCB v GT</td>\n",
       "      <td>70th Match (N), Indian Premier League at Benga...</td>\n",
       "      <td>RCB</td>\n",
       "      <td>GT</td>\n",
       "      <td>GT</td>\n",
       "      <td>BOWL FIRST</td>\n",
       "      <td>197/5</td>\n",
       "      <td>198/4</td>\n",
       "      <td>GT</td>\n",
       "      <td>Titans won by 6 wkts (5b rem)</td>\n",
       "      <td>2023-05-21T14:00Z</td>\n",
       "      <td>2023-05-22T23:59Z</td>\n",
       "      <td>57897</td>\n",
       "      <td>M.Chinnaswamy Stadium, Bengaluru</td>\n",
       "      <td>Faf du Plessis</td>\n",
       "      <td>Hardik Pandya</td>\n",
       "      <td>Shubman Gill</td>\n",
       "      <td>Gujarat Titans 2, Royal Challengers Bangalore 0</td>\n",
       "      <td>False</td>\n",
       "      <td>20.0</td>\n",
       "      <td>197.0</td>\n",
       "      <td>5.0</td>\n",
       "      <td>28.0</td>\n",
       "      <td>19.1</td>\n",
       "      <td>198.0</td>\n",
       "      <td>4.0</td>\n",
       "      <td>25.0</td>\n",
       "      <td>Gill's second straight century trumps Kohli's ...</td>\n",
       "      <td>Virat Kohli,Faf du Plessis</td>\n",
       "      <td>Mohammed Siraj,Harshal Patel</td>\n",
       "      <td>Virat Kohli (UKN),Faf du Plessis (UKN),Glenn M...</td>\n",
       "      <td>Wriddhiman Saha (WK),Shubman Gill (UKN),Vijay ...</td>\n",
       "      <td>Shubman Gill,Vijay Shankar</td>\n",
       "      <td>Noor Ahmad,Rashid Khan</td>\n",
       "      <td>21 May 2023 - night match (20-over match)</td>\n",
       "      <td>Nitin Menon</td>\n",
       "      <td>Virender Sharma</td>\n",
       "      <td>Tapan Sharma</td>\n",
       "      <td>Javagal Srinath</td>\n",
       "      <td>VM  Dhokre</td>\n",
       "    </tr>\n",
       "    <tr>\n",
       "      <th>1</th>\n",
       "      <td>2023.0</td>\n",
       "      <td>1359543</td>\n",
       "      <td>Mumbai Indians v Sunrisers Hyderabad</td>\n",
       "      <td>MI v SRH</td>\n",
       "      <td>69th Match (D/N), Indian Premier League at Mum...</td>\n",
       "      <td>MI</td>\n",
       "      <td>SRH</td>\n",
       "      <td>MI</td>\n",
       "      <td>BOWL FIRST</td>\n",
       "      <td>200/5</td>\n",
       "      <td>201/2</td>\n",
       "      <td>MI</td>\n",
       "      <td>Mumbai won by 8 wkts (12b rem)</td>\n",
       "      <td>2023-05-21T10:00Z</td>\n",
       "      <td>2023-05-22T23:59Z</td>\n",
       "      <td>58324</td>\n",
       "      <td>Wankhede Stadium, Mumbai</td>\n",
       "      <td>Rohit Sharma</td>\n",
       "      <td>Aiden Markram</td>\n",
       "      <td>Cameron Green</td>\n",
       "      <td>Mumbai Indians 2, Sunrisers Hyderabad 0</td>\n",
       "      <td>False</td>\n",
       "      <td>18.0</td>\n",
       "      <td>201.0</td>\n",
       "      <td>2.0</td>\n",
       "      <td>31.0</td>\n",
       "      <td>20.0</td>\n",
       "      <td>200.0</td>\n",
       "      <td>5.0</td>\n",
       "      <td>27.0</td>\n",
       "      <td>Green century and Madhwal four-for help Mumbai...</td>\n",
       "      <td>Cameron Green,Rohit Sharma</td>\n",
       "      <td>Akash Madhwal,Chris Jordan</td>\n",
       "      <td>Ishan Kishan (WK),Rohit Sharma (UKN),Cameron G...</td>\n",
       "      <td>Vivrant Sharma (AR),Mayank Agarwal (UKN),Heinr...</td>\n",
       "      <td>Mayank Agarwal,Vivrant Sharma</td>\n",
       "      <td>Bhuvneshwar Kumar,Mayank Dagar</td>\n",
       "      <td>21 May 2023 - day/night match (20-over match)</td>\n",
       "      <td>KN Ananthapadmanabhan</td>\n",
       "      <td>Rod Tucker</td>\n",
       "      <td>Rohan Pandit</td>\n",
       "      <td>Pankaj Dharmani</td>\n",
       "      <td>Parashar Joshi</td>\n",
       "    </tr>\n",
       "    <tr>\n",
       "      <th>2</th>\n",
       "      <td>2023.0</td>\n",
       "      <td>1359542</td>\n",
       "      <td>Kolkata Knight Riders v Lucknow Super Giants</td>\n",
       "      <td>KKR v LSG</td>\n",
       "      <td>68th Match (N), Indian Premier League at Kolka...</td>\n",
       "      <td>KKR</td>\n",
       "      <td>LSG</td>\n",
       "      <td>KKR</td>\n",
       "      <td>BOWL FIRST</td>\n",
       "      <td>176/8</td>\n",
       "      <td>175/7</td>\n",
       "      <td>LSG</td>\n",
       "      <td>Super Giants won by 1 run</td>\n",
       "      <td>2023-05-20T14:00Z</td>\n",
       "      <td>2023-05-21T23:59Z</td>\n",
       "      <td>57980</td>\n",
       "      <td>Eden Gardens, Kolkata</td>\n",
       "      <td>Nitish Rana</td>\n",
       "      <td>Krunal Pandya</td>\n",
       "      <td>Nicholas Pooran</td>\n",
       "      <td>Lucknow Super Giants 2, Kolkata Knight Riders 0</td>\n",
       "      <td>False</td>\n",
       "      <td>20.0</td>\n",
       "      <td>175.0</td>\n",
       "      <td>7.0</td>\n",
       "      <td>24.0</td>\n",
       "      <td>20.0</td>\n",
       "      <td>176.0</td>\n",
       "      <td>8.0</td>\n",
       "      <td>22.0</td>\n",
       "      <td>Pooran, Bishnoi seal Lucknow Super Giants' pla...</td>\n",
       "      <td>Rinku Singh,Jason Roy</td>\n",
       "      <td>Sunil Narine,Shardul Thakur</td>\n",
       "      <td>Jason Roy (UKN),Venkatesh Iyer (AR),Nitish Ran...</td>\n",
       "      <td>Karan Sharma (AR),Quinton de Kock (WK),Prerak ...</td>\n",
       "      <td>Nicholas Pooran,Quinton de Kock</td>\n",
       "      <td>Ravi Bishnoi,Yash Thakur</td>\n",
       "      <td>20 May 2023 - night match (20-over match)</td>\n",
       "      <td>Ulhas Gandhe</td>\n",
       "      <td>Jayaraman Madanagopal</td>\n",
       "      <td>Yeshwant Barde</td>\n",
       "      <td>Manu Nayyar</td>\n",
       "      <td>Mohamed Rafi</td>\n",
       "    </tr>\n",
       "    <tr>\n",
       "      <th>3</th>\n",
       "      <td>2023.0</td>\n",
       "      <td>1359541</td>\n",
       "      <td>Delhi Capitals v Chennai Super Kings</td>\n",
       "      <td>DC v CSK</td>\n",
       "      <td>67th Match (D/N), Indian Premier League at Del...</td>\n",
       "      <td>DC</td>\n",
       "      <td>CSK</td>\n",
       "      <td>CSK</td>\n",
       "      <td>BAT FIRST</td>\n",
       "      <td>223/3</td>\n",
       "      <td>146/9</td>\n",
       "      <td>CSK</td>\n",
       "      <td>Super Kings won by 77 runs</td>\n",
       "      <td>2023-05-20T10:00Z</td>\n",
       "      <td>2023-05-21T23:59Z</td>\n",
       "      <td>58040</td>\n",
       "      <td>Arun Jaitley Stadium, Delhi</td>\n",
       "      <td>David Warner</td>\n",
       "      <td>MS Dhoni</td>\n",
       "      <td>Ruturaj Gaikwad</td>\n",
       "      <td>Chennai Super Kings 2, Delhi Capitals 0</td>\n",
       "      <td>False</td>\n",
       "      <td>20.0</td>\n",
       "      <td>146.0</td>\n",
       "      <td>9.0</td>\n",
       "      <td>17.0</td>\n",
       "      <td>20.0</td>\n",
       "      <td>223.0</td>\n",
       "      <td>3.0</td>\n",
       "      <td>31.0</td>\n",
       "      <td>Gaikwad, Conway script CSK's big win. For Delh...</td>\n",
       "      <td>David Warner,Axar Patel</td>\n",
       "      <td>Chetan Sakariya,Anrich Nortje</td>\n",
       "      <td>Prithvi Shaw (UKN),David Warner (UKN),Phil Sal...</td>\n",
       "      <td>Ruturaj Gaikwad (UKN),Devon Conway (UKN),Shiva...</td>\n",
       "      <td>Devon Conway,Ruturaj Gaikwad</td>\n",
       "      <td>Deepak Chahar,Matheesha Pathirana</td>\n",
       "      <td>20 May 2023 - day/night match (20-over match)</td>\n",
       "      <td>Chris Gaffaney</td>\n",
       "      <td>Nikhil Patwardhan</td>\n",
       "      <td>Anil Chaudhary</td>\n",
       "      <td>Sanjay Verma</td>\n",
       "      <td>Mohit Krishnadas</td>\n",
       "    </tr>\n",
       "    <tr>\n",
       "      <th>4</th>\n",
       "      <td>2023.0</td>\n",
       "      <td>1359540</td>\n",
       "      <td>Punjab Kings v Rajasthan Royals</td>\n",
       "      <td>PBKS v RR</td>\n",
       "      <td>66th Match (N), Indian Premier League at Dhara...</td>\n",
       "      <td>PBKS</td>\n",
       "      <td>RR</td>\n",
       "      <td>RR</td>\n",
       "      <td>BOWL FIRST</td>\n",
       "      <td>187/5</td>\n",
       "      <td>189/6</td>\n",
       "      <td>RR</td>\n",
       "      <td>Royals won by 4 wkts (2b rem)</td>\n",
       "      <td>2023-05-19T14:00Z</td>\n",
       "      <td>2023-05-20T23:59Z</td>\n",
       "      <td>58056</td>\n",
       "      <td>Himachal Pradesh Cricket Association Stadium, ...</td>\n",
       "      <td>Shikhar Dhawan</td>\n",
       "      <td>Sanju Samson</td>\n",
       "      <td>Devdutt Padikkal</td>\n",
       "      <td>Rajasthan Royals 2, Punjab Kings 0</td>\n",
       "      <td>False</td>\n",
       "      <td>20.0</td>\n",
       "      <td>187.0</td>\n",
       "      <td>5.0</td>\n",
       "      <td>26.0</td>\n",
       "      <td>19.4</td>\n",
       "      <td>189.0</td>\n",
       "      <td>6.0</td>\n",
       "      <td>27.0</td>\n",
       "      <td>Padikkal, Hetmyer keep Royals in the hunt with...</td>\n",
       "      <td>Sam Curran,Jitesh Sharma</td>\n",
       "      <td>Kagiso Rabada,Rahul Chahar</td>\n",
       "      <td>Prabhsimran Singh (UKN),Shikhar Dhawan (UKN),A...</td>\n",
       "      <td>Yashasvi Jaiswal (UKN),Jos Buttler (UKN),Devdu...</td>\n",
       "      <td>Devdutt Padikkal,Yashasvi Jaiswal</td>\n",
       "      <td>Navdeep Saini,Adam Zampa</td>\n",
       "      <td>19 May 2023 - night match (20-over match)</td>\n",
       "      <td>Nand Kishore</td>\n",
       "      <td>Rod Tucker</td>\n",
       "      <td>Navdeep Singh</td>\n",
       "      <td>Pankaj Dharmani</td>\n",
       "      <td>Parashar Joshi</td>\n",
       "    </tr>\n",
       "  </tbody>\n",
       "</table>\n",
       "</div>"
      ],
      "text/plain": [
       "   season       id                                          name short_name  \\\n",
       "0  2023.0  1359544  Royal Challengers Bangalore v Gujarat Titans   RCB v GT   \n",
       "1  2023.0  1359543          Mumbai Indians v Sunrisers Hyderabad   MI v SRH   \n",
       "2  2023.0  1359542  Kolkata Knight Riders v Lucknow Super Giants  KKR v LSG   \n",
       "3  2023.0  1359541          Delhi Capitals v Chennai Super Kings   DC v CSK   \n",
       "4  2023.0  1359540               Punjab Kings v Rajasthan Royals  PBKS v RR   \n",
       "\n",
       "                                         description home_team away_team  \\\n",
       "0  70th Match (N), Indian Premier League at Benga...       RCB        GT   \n",
       "1  69th Match (D/N), Indian Premier League at Mum...        MI       SRH   \n",
       "2  68th Match (N), Indian Premier League at Kolka...       KKR       LSG   \n",
       "3  67th Match (D/N), Indian Premier League at Del...        DC       CSK   \n",
       "4  66th Match (N), Indian Premier League at Dhara...      PBKS        RR   \n",
       "\n",
       "  toss_won    decision 1st_inning_score 2nd_inning_score winner  \\\n",
       "0       GT  BOWL FIRST            197/5            198/4     GT   \n",
       "1       MI  BOWL FIRST            200/5            201/2     MI   \n",
       "2      KKR  BOWL FIRST            176/8            175/7    LSG   \n",
       "3      CSK   BAT FIRST            223/3            146/9    CSK   \n",
       "4       RR  BOWL FIRST            187/5            189/6     RR   \n",
       "\n",
       "                           result         start_date           end_date  \\\n",
       "0   Titans won by 6 wkts (5b rem)  2023-05-21T14:00Z  2023-05-22T23:59Z   \n",
       "1  Mumbai won by 8 wkts (12b rem)  2023-05-21T10:00Z  2023-05-22T23:59Z   \n",
       "2       Super Giants won by 1 run  2023-05-20T14:00Z  2023-05-21T23:59Z   \n",
       "3      Super Kings won by 77 runs  2023-05-20T10:00Z  2023-05-21T23:59Z   \n",
       "4   Royals won by 4 wkts (2b rem)  2023-05-19T14:00Z  2023-05-20T23:59Z   \n",
       "\n",
       "   venue_id                                         venue_name  \\\n",
       "0     57897                   M.Chinnaswamy Stadium, Bengaluru   \n",
       "1     58324                           Wankhede Stadium, Mumbai   \n",
       "2     57980                              Eden Gardens, Kolkata   \n",
       "3     58040                        Arun Jaitley Stadium, Delhi   \n",
       "4     58056  Himachal Pradesh Cricket Association Stadium, ...   \n",
       "\n",
       "     home_captain   away_captain               pom  \\\n",
       "0  Faf du Plessis  Hardik Pandya      Shubman Gill   \n",
       "1    Rohit Sharma  Aiden Markram     Cameron Green   \n",
       "2     Nitish Rana  Krunal Pandya   Nicholas Pooran   \n",
       "3    David Warner       MS Dhoni   Ruturaj Gaikwad   \n",
       "4  Shikhar Dhawan   Sanju Samson  Devdutt Padikkal   \n",
       "\n",
       "                                            points  super_over  home_overs  \\\n",
       "0  Gujarat Titans 2, Royal Challengers Bangalore 0       False        20.0   \n",
       "1          Mumbai Indians 2, Sunrisers Hyderabad 0       False        18.0   \n",
       "2  Lucknow Super Giants 2, Kolkata Knight Riders 0       False        20.0   \n",
       "3          Chennai Super Kings 2, Delhi Capitals 0       False        20.0   \n",
       "4               Rajasthan Royals 2, Punjab Kings 0       False        20.0   \n",
       "\n",
       "   home_runs  home_wickets  home_boundaries  away_overs  away_runs  \\\n",
       "0      197.0           5.0             28.0        19.1      198.0   \n",
       "1      201.0           2.0             31.0        20.0      200.0   \n",
       "2      175.0           7.0             24.0        20.0      176.0   \n",
       "3      146.0           9.0             17.0        20.0      223.0   \n",
       "4      187.0           5.0             26.0        19.4      189.0   \n",
       "\n",
       "   away_wickets  away_boundaries  \\\n",
       "0           4.0             25.0   \n",
       "1           5.0             27.0   \n",
       "2           8.0             22.0   \n",
       "3           3.0             31.0   \n",
       "4           6.0             27.0   \n",
       "\n",
       "                                          highlights  \\\n",
       "0  Gill's second straight century trumps Kohli's ...   \n",
       "1  Green century and Madhwal four-for help Mumbai...   \n",
       "2  Pooran, Bishnoi seal Lucknow Super Giants' pla...   \n",
       "3  Gaikwad, Conway script CSK's big win. For Delh...   \n",
       "4  Padikkal, Hetmyer keep Royals in the hunt with...   \n",
       "\n",
       "             home_key_batsman                home_key_bowler  \\\n",
       "0  Virat Kohli,Faf du Plessis   Mohammed Siraj,Harshal Patel   \n",
       "1  Cameron Green,Rohit Sharma     Akash Madhwal,Chris Jordan   \n",
       "2       Rinku Singh,Jason Roy    Sunil Narine,Shardul Thakur   \n",
       "3     David Warner,Axar Patel  Chetan Sakariya,Anrich Nortje   \n",
       "4    Sam Curran,Jitesh Sharma     Kagiso Rabada,Rahul Chahar   \n",
       "\n",
       "                                         home_playx1  \\\n",
       "0  Virat Kohli (UKN),Faf du Plessis (UKN),Glenn M...   \n",
       "1  Ishan Kishan (WK),Rohit Sharma (UKN),Cameron G...   \n",
       "2  Jason Roy (UKN),Venkatesh Iyer (AR),Nitish Ran...   \n",
       "3  Prithvi Shaw (UKN),David Warner (UKN),Phil Sal...   \n",
       "4  Prabhsimran Singh (UKN),Shikhar Dhawan (UKN),A...   \n",
       "\n",
       "                                         away_playx1  \\\n",
       "0  Wriddhiman Saha (WK),Shubman Gill (UKN),Vijay ...   \n",
       "1  Vivrant Sharma (AR),Mayank Agarwal (UKN),Heinr...   \n",
       "2  Karan Sharma (AR),Quinton de Kock (WK),Prerak ...   \n",
       "3  Ruturaj Gaikwad (UKN),Devon Conway (UKN),Shiva...   \n",
       "4  Yashasvi Jaiswal (UKN),Jos Buttler (UKN),Devdu...   \n",
       "\n",
       "                    away_key_batsman                    away_key_bowler  \\\n",
       "0         Shubman Gill,Vijay Shankar             Noor Ahmad,Rashid Khan   \n",
       "1      Mayank Agarwal,Vivrant Sharma     Bhuvneshwar Kumar,Mayank Dagar   \n",
       "2    Nicholas Pooran,Quinton de Kock           Ravi Bishnoi,Yash Thakur   \n",
       "3       Devon Conway,Ruturaj Gaikwad  Deepak Chahar,Matheesha Pathirana   \n",
       "4  Devdutt Padikkal,Yashasvi Jaiswal           Navdeep Saini,Adam Zampa   \n",
       "\n",
       "                                      match_days                umpire1  \\\n",
       "0      21 May 2023 - night match (20-over match)            Nitin Menon   \n",
       "1  21 May 2023 - day/night match (20-over match)  KN Ananthapadmanabhan   \n",
       "2      20 May 2023 - night match (20-over match)           Ulhas Gandhe   \n",
       "3  20 May 2023 - day/night match (20-over match)         Chris Gaffaney   \n",
       "4      19 May 2023 - night match (20-over match)           Nand Kishore   \n",
       "\n",
       "                 umpire2       tv_umpire          referee    reserve_umpire  \n",
       "0        Virender Sharma    Tapan Sharma  Javagal Srinath        VM  Dhokre  \n",
       "1             Rod Tucker    Rohan Pandit  Pankaj Dharmani    Parashar Joshi  \n",
       "2  Jayaraman Madanagopal  Yeshwant Barde      Manu Nayyar      Mohamed Rafi  \n",
       "3      Nikhil Patwardhan  Anil Chaudhary     Sanjay Verma  Mohit Krishnadas  \n",
       "4             Rod Tucker   Navdeep Singh  Pankaj Dharmani    Parashar Joshi  "
      ]
     },
     "execution_count": 7,
     "metadata": {},
     "output_type": "execute_result"
    }
   ],
   "source": [
    "data.head()"
   ]
  },
  {
   "cell_type": "markdown",
   "id": "b9da6f96",
   "metadata": {
    "papermill": {
     "duration": 0.010729,
     "end_time": "2024-03-18T06:08:09.177920",
     "exception": false,
     "start_time": "2024-03-18T06:08:09.167191",
     "status": "completed"
    },
    "tags": []
   },
   "source": [
    "## Toss Ratio"
   ]
  },
  {
   "cell_type": "code",
   "execution_count": 8,
   "id": "42f99976",
   "metadata": {
    "execution": {
     "iopub.execute_input": "2024-03-18T06:08:09.201962Z",
     "iopub.status.busy": "2024-03-18T06:08:09.201569Z",
     "iopub.status.idle": "2024-03-18T06:08:09.206589Z",
     "shell.execute_reply": "2024-03-18T06:08:09.205555Z"
    },
    "papermill": {
     "duration": 0.019358,
     "end_time": "2024-03-18T06:08:09.208402",
     "exception": false,
     "start_time": "2024-03-18T06:08:09.189044",
     "status": "completed"
    },
    "tags": []
   },
   "outputs": [],
   "source": [
    "c = data['decision'].value_counts()"
   ]
  },
  {
   "cell_type": "code",
   "execution_count": 9,
   "id": "d90f5a5b",
   "metadata": {
    "execution": {
     "iopub.execute_input": "2024-03-18T06:08:09.232759Z",
     "iopub.status.busy": "2024-03-18T06:08:09.232322Z",
     "iopub.status.idle": "2024-03-18T06:08:11.088696Z",
     "shell.execute_reply": "2024-03-18T06:08:11.087470Z"
    },
    "papermill": {
     "duration": 1.871319,
     "end_time": "2024-03-18T06:08:11.091049",
     "exception": false,
     "start_time": "2024-03-18T06:08:09.219730",
     "status": "completed"
    },
    "tags": []
   },
   "outputs": [
    {
     "data": {
      "application/vnd.plotly.v1+json": {
       "config": {
        "plotlyServerURL": "https://plot.ly"
       },
       "data": [
        {
         "alignmentgroup": "True",
         "hovertemplate": "decision=%{x}<br>Count=%{y}<extra></extra>",
         "legendgroup": "",
         "marker": {
          "color": "#636efa",
          "pattern": {
           "shape": ""
          }
         },
         "name": "",
         "offsetgroup": "",
         "orientation": "v",
         "showlegend": false,
         "textposition": "auto",
         "type": "bar",
         "x": [
          "BOWL FIRST",
          "BAT FIRST"
         ],
         "xaxis": "x",
         "y": [
          576,
          323
         ],
         "yaxis": "y"
        }
       ],
       "layout": {
        "barmode": "relative",
        "legend": {
         "tracegroupgap": 0
        },
        "margin": {
         "t": 60
        },
        "template": {
         "data": {
          "bar": [
           {
            "error_x": {
             "color": "#2a3f5f"
            },
            "error_y": {
             "color": "#2a3f5f"
            },
            "marker": {
             "line": {
              "color": "#E5ECF6",
              "width": 0.5
             },
             "pattern": {
              "fillmode": "overlay",
              "size": 10,
              "solidity": 0.2
             }
            },
            "type": "bar"
           }
          ],
          "barpolar": [
           {
            "marker": {
             "line": {
              "color": "#E5ECF6",
              "width": 0.5
             },
             "pattern": {
              "fillmode": "overlay",
              "size": 10,
              "solidity": 0.2
             }
            },
            "type": "barpolar"
           }
          ],
          "carpet": [
           {
            "aaxis": {
             "endlinecolor": "#2a3f5f",
             "gridcolor": "white",
             "linecolor": "white",
             "minorgridcolor": "white",
             "startlinecolor": "#2a3f5f"
            },
            "baxis": {
             "endlinecolor": "#2a3f5f",
             "gridcolor": "white",
             "linecolor": "white",
             "minorgridcolor": "white",
             "startlinecolor": "#2a3f5f"
            },
            "type": "carpet"
           }
          ],
          "choropleth": [
           {
            "colorbar": {
             "outlinewidth": 0,
             "ticks": ""
            },
            "type": "choropleth"
           }
          ],
          "contour": [
           {
            "colorbar": {
             "outlinewidth": 0,
             "ticks": ""
            },
            "colorscale": [
             [
              0,
              "#0d0887"
             ],
             [
              0.1111111111111111,
              "#46039f"
             ],
             [
              0.2222222222222222,
              "#7201a8"
             ],
             [
              0.3333333333333333,
              "#9c179e"
             ],
             [
              0.4444444444444444,
              "#bd3786"
             ],
             [
              0.5555555555555556,
              "#d8576b"
             ],
             [
              0.6666666666666666,
              "#ed7953"
             ],
             [
              0.7777777777777778,
              "#fb9f3a"
             ],
             [
              0.8888888888888888,
              "#fdca26"
             ],
             [
              1,
              "#f0f921"
             ]
            ],
            "type": "contour"
           }
          ],
          "contourcarpet": [
           {
            "colorbar": {
             "outlinewidth": 0,
             "ticks": ""
            },
            "type": "contourcarpet"
           }
          ],
          "heatmap": [
           {
            "colorbar": {
             "outlinewidth": 0,
             "ticks": ""
            },
            "colorscale": [
             [
              0,
              "#0d0887"
             ],
             [
              0.1111111111111111,
              "#46039f"
             ],
             [
              0.2222222222222222,
              "#7201a8"
             ],
             [
              0.3333333333333333,
              "#9c179e"
             ],
             [
              0.4444444444444444,
              "#bd3786"
             ],
             [
              0.5555555555555556,
              "#d8576b"
             ],
             [
              0.6666666666666666,
              "#ed7953"
             ],
             [
              0.7777777777777778,
              "#fb9f3a"
             ],
             [
              0.8888888888888888,
              "#fdca26"
             ],
             [
              1,
              "#f0f921"
             ]
            ],
            "type": "heatmap"
           }
          ],
          "heatmapgl": [
           {
            "colorbar": {
             "outlinewidth": 0,
             "ticks": ""
            },
            "colorscale": [
             [
              0,
              "#0d0887"
             ],
             [
              0.1111111111111111,
              "#46039f"
             ],
             [
              0.2222222222222222,
              "#7201a8"
             ],
             [
              0.3333333333333333,
              "#9c179e"
             ],
             [
              0.4444444444444444,
              "#bd3786"
             ],
             [
              0.5555555555555556,
              "#d8576b"
             ],
             [
              0.6666666666666666,
              "#ed7953"
             ],
             [
              0.7777777777777778,
              "#fb9f3a"
             ],
             [
              0.8888888888888888,
              "#fdca26"
             ],
             [
              1,
              "#f0f921"
             ]
            ],
            "type": "heatmapgl"
           }
          ],
          "histogram": [
           {
            "marker": {
             "pattern": {
              "fillmode": "overlay",
              "size": 10,
              "solidity": 0.2
             }
            },
            "type": "histogram"
           }
          ],
          "histogram2d": [
           {
            "colorbar": {
             "outlinewidth": 0,
             "ticks": ""
            },
            "colorscale": [
             [
              0,
              "#0d0887"
             ],
             [
              0.1111111111111111,
              "#46039f"
             ],
             [
              0.2222222222222222,
              "#7201a8"
             ],
             [
              0.3333333333333333,
              "#9c179e"
             ],
             [
              0.4444444444444444,
              "#bd3786"
             ],
             [
              0.5555555555555556,
              "#d8576b"
             ],
             [
              0.6666666666666666,
              "#ed7953"
             ],
             [
              0.7777777777777778,
              "#fb9f3a"
             ],
             [
              0.8888888888888888,
              "#fdca26"
             ],
             [
              1,
              "#f0f921"
             ]
            ],
            "type": "histogram2d"
           }
          ],
          "histogram2dcontour": [
           {
            "colorbar": {
             "outlinewidth": 0,
             "ticks": ""
            },
            "colorscale": [
             [
              0,
              "#0d0887"
             ],
             [
              0.1111111111111111,
              "#46039f"
             ],
             [
              0.2222222222222222,
              "#7201a8"
             ],
             [
              0.3333333333333333,
              "#9c179e"
             ],
             [
              0.4444444444444444,
              "#bd3786"
             ],
             [
              0.5555555555555556,
              "#d8576b"
             ],
             [
              0.6666666666666666,
              "#ed7953"
             ],
             [
              0.7777777777777778,
              "#fb9f3a"
             ],
             [
              0.8888888888888888,
              "#fdca26"
             ],
             [
              1,
              "#f0f921"
             ]
            ],
            "type": "histogram2dcontour"
           }
          ],
          "mesh3d": [
           {
            "colorbar": {
             "outlinewidth": 0,
             "ticks": ""
            },
            "type": "mesh3d"
           }
          ],
          "parcoords": [
           {
            "line": {
             "colorbar": {
              "outlinewidth": 0,
              "ticks": ""
             }
            },
            "type": "parcoords"
           }
          ],
          "pie": [
           {
            "automargin": true,
            "type": "pie"
           }
          ],
          "scatter": [
           {
            "fillpattern": {
             "fillmode": "overlay",
             "size": 10,
             "solidity": 0.2
            },
            "type": "scatter"
           }
          ],
          "scatter3d": [
           {
            "line": {
             "colorbar": {
              "outlinewidth": 0,
              "ticks": ""
             }
            },
            "marker": {
             "colorbar": {
              "outlinewidth": 0,
              "ticks": ""
             }
            },
            "type": "scatter3d"
           }
          ],
          "scattercarpet": [
           {
            "marker": {
             "colorbar": {
              "outlinewidth": 0,
              "ticks": ""
             }
            },
            "type": "scattercarpet"
           }
          ],
          "scattergeo": [
           {
            "marker": {
             "colorbar": {
              "outlinewidth": 0,
              "ticks": ""
             }
            },
            "type": "scattergeo"
           }
          ],
          "scattergl": [
           {
            "marker": {
             "colorbar": {
              "outlinewidth": 0,
              "ticks": ""
             }
            },
            "type": "scattergl"
           }
          ],
          "scattermapbox": [
           {
            "marker": {
             "colorbar": {
              "outlinewidth": 0,
              "ticks": ""
             }
            },
            "type": "scattermapbox"
           }
          ],
          "scatterpolar": [
           {
            "marker": {
             "colorbar": {
              "outlinewidth": 0,
              "ticks": ""
             }
            },
            "type": "scatterpolar"
           }
          ],
          "scatterpolargl": [
           {
            "marker": {
             "colorbar": {
              "outlinewidth": 0,
              "ticks": ""
             }
            },
            "type": "scatterpolargl"
           }
          ],
          "scatterternary": [
           {
            "marker": {
             "colorbar": {
              "outlinewidth": 0,
              "ticks": ""
             }
            },
            "type": "scatterternary"
           }
          ],
          "surface": [
           {
            "colorbar": {
             "outlinewidth": 0,
             "ticks": ""
            },
            "colorscale": [
             [
              0,
              "#0d0887"
             ],
             [
              0.1111111111111111,
              "#46039f"
             ],
             [
              0.2222222222222222,
              "#7201a8"
             ],
             [
              0.3333333333333333,
              "#9c179e"
             ],
             [
              0.4444444444444444,
              "#bd3786"
             ],
             [
              0.5555555555555556,
              "#d8576b"
             ],
             [
              0.6666666666666666,
              "#ed7953"
             ],
             [
              0.7777777777777778,
              "#fb9f3a"
             ],
             [
              0.8888888888888888,
              "#fdca26"
             ],
             [
              1,
              "#f0f921"
             ]
            ],
            "type": "surface"
           }
          ],
          "table": [
           {
            "cells": {
             "fill": {
              "color": "#EBF0F8"
             },
             "line": {
              "color": "white"
             }
            },
            "header": {
             "fill": {
              "color": "#C8D4E3"
             },
             "line": {
              "color": "white"
             }
            },
            "type": "table"
           }
          ]
         },
         "layout": {
          "annotationdefaults": {
           "arrowcolor": "#2a3f5f",
           "arrowhead": 0,
           "arrowwidth": 1
          },
          "autotypenumbers": "strict",
          "coloraxis": {
           "colorbar": {
            "outlinewidth": 0,
            "ticks": ""
           }
          },
          "colorscale": {
           "diverging": [
            [
             0,
             "#8e0152"
            ],
            [
             0.1,
             "#c51b7d"
            ],
            [
             0.2,
             "#de77ae"
            ],
            [
             0.3,
             "#f1b6da"
            ],
            [
             0.4,
             "#fde0ef"
            ],
            [
             0.5,
             "#f7f7f7"
            ],
            [
             0.6,
             "#e6f5d0"
            ],
            [
             0.7,
             "#b8e186"
            ],
            [
             0.8,
             "#7fbc41"
            ],
            [
             0.9,
             "#4d9221"
            ],
            [
             1,
             "#276419"
            ]
           ],
           "sequential": [
            [
             0,
             "#0d0887"
            ],
            [
             0.1111111111111111,
             "#46039f"
            ],
            [
             0.2222222222222222,
             "#7201a8"
            ],
            [
             0.3333333333333333,
             "#9c179e"
            ],
            [
             0.4444444444444444,
             "#bd3786"
            ],
            [
             0.5555555555555556,
             "#d8576b"
            ],
            [
             0.6666666666666666,
             "#ed7953"
            ],
            [
             0.7777777777777778,
             "#fb9f3a"
            ],
            [
             0.8888888888888888,
             "#fdca26"
            ],
            [
             1,
             "#f0f921"
            ]
           ],
           "sequentialminus": [
            [
             0,
             "#0d0887"
            ],
            [
             0.1111111111111111,
             "#46039f"
            ],
            [
             0.2222222222222222,
             "#7201a8"
            ],
            [
             0.3333333333333333,
             "#9c179e"
            ],
            [
             0.4444444444444444,
             "#bd3786"
            ],
            [
             0.5555555555555556,
             "#d8576b"
            ],
            [
             0.6666666666666666,
             "#ed7953"
            ],
            [
             0.7777777777777778,
             "#fb9f3a"
            ],
            [
             0.8888888888888888,
             "#fdca26"
            ],
            [
             1,
             "#f0f921"
            ]
           ]
          },
          "colorway": [
           "#636efa",
           "#EF553B",
           "#00cc96",
           "#ab63fa",
           "#FFA15A",
           "#19d3f3",
           "#FF6692",
           "#B6E880",
           "#FF97FF",
           "#FECB52"
          ],
          "font": {
           "color": "#2a3f5f"
          },
          "geo": {
           "bgcolor": "white",
           "lakecolor": "white",
           "landcolor": "#E5ECF6",
           "showlakes": true,
           "showland": true,
           "subunitcolor": "white"
          },
          "hoverlabel": {
           "align": "left"
          },
          "hovermode": "closest",
          "mapbox": {
           "style": "light"
          },
          "paper_bgcolor": "white",
          "plot_bgcolor": "#E5ECF6",
          "polar": {
           "angularaxis": {
            "gridcolor": "white",
            "linecolor": "white",
            "ticks": ""
           },
           "bgcolor": "#E5ECF6",
           "radialaxis": {
            "gridcolor": "white",
            "linecolor": "white",
            "ticks": ""
           }
          },
          "scene": {
           "xaxis": {
            "backgroundcolor": "#E5ECF6",
            "gridcolor": "white",
            "gridwidth": 2,
            "linecolor": "white",
            "showbackground": true,
            "ticks": "",
            "zerolinecolor": "white"
           },
           "yaxis": {
            "backgroundcolor": "#E5ECF6",
            "gridcolor": "white",
            "gridwidth": 2,
            "linecolor": "white",
            "showbackground": true,
            "ticks": "",
            "zerolinecolor": "white"
           },
           "zaxis": {
            "backgroundcolor": "#E5ECF6",
            "gridcolor": "white",
            "gridwidth": 2,
            "linecolor": "white",
            "showbackground": true,
            "ticks": "",
            "zerolinecolor": "white"
           }
          },
          "shapedefaults": {
           "line": {
            "color": "#2a3f5f"
           }
          },
          "ternary": {
           "aaxis": {
            "gridcolor": "white",
            "linecolor": "white",
            "ticks": ""
           },
           "baxis": {
            "gridcolor": "white",
            "linecolor": "white",
            "ticks": ""
           },
           "bgcolor": "#E5ECF6",
           "caxis": {
            "gridcolor": "white",
            "linecolor": "white",
            "ticks": ""
           }
          },
          "title": {
           "x": 0.05
          },
          "xaxis": {
           "automargin": true,
           "gridcolor": "white",
           "linecolor": "white",
           "ticks": "",
           "title": {
            "standoff": 15
           },
           "zerolinecolor": "white",
           "zerolinewidth": 2
          },
          "yaxis": {
           "automargin": true,
           "gridcolor": "white",
           "linecolor": "white",
           "ticks": "",
           "title": {
            "standoff": 15
           },
           "zerolinecolor": "white",
           "zerolinewidth": 2
          }
         }
        },
        "title": {
         "text": "Count of Decisions"
        },
        "xaxis": {
         "anchor": "y",
         "domain": [
          0,
          1
         ],
         "title": {
          "text": "decision"
         }
        },
        "yaxis": {
         "anchor": "x",
         "domain": [
          0,
          1
         ],
         "title": {
          "text": "Count"
         }
        }
       }
      }
     },
     "metadata": {},
     "output_type": "display_data"
    }
   ],
   "source": [
    "fig = px.bar(c, x=c.index, y=c.values, labels={'x': 'Decision', 'y': 'Count'})\n",
    "fig.update_layout(title='Count of Decisions')\n",
    "fig.show()\n"
   ]
  },
  {
   "cell_type": "markdown",
   "id": "cced3195",
   "metadata": {
    "papermill": {
     "duration": 0.012463,
     "end_time": "2024-03-18T06:08:11.115549",
     "exception": false,
     "start_time": "2024-03-18T06:08:11.103086",
     "status": "completed"
    },
    "tags": []
   },
   "source": [
    "## How many teams won the toss"
   ]
  },
  {
   "cell_type": "code",
   "execution_count": 10,
   "id": "a3235e14",
   "metadata": {
    "execution": {
     "iopub.execute_input": "2024-03-18T06:08:11.141644Z",
     "iopub.status.busy": "2024-03-18T06:08:11.140906Z",
     "iopub.status.idle": "2024-03-18T06:08:11.147129Z",
     "shell.execute_reply": "2024-03-18T06:08:11.145929Z"
    },
    "papermill": {
     "duration": 0.021757,
     "end_time": "2024-03-18T06:08:11.149530",
     "exception": false,
     "start_time": "2024-03-18T06:08:11.127773",
     "status": "completed"
    },
    "tags": []
   },
   "outputs": [],
   "source": [
    "toss = data['toss_won'].value_counts()"
   ]
  },
  {
   "cell_type": "code",
   "execution_count": 11,
   "id": "52657c22",
   "metadata": {
    "execution": {
     "iopub.execute_input": "2024-03-18T06:08:11.175437Z",
     "iopub.status.busy": "2024-03-18T06:08:11.175022Z",
     "iopub.status.idle": "2024-03-18T06:08:11.182639Z",
     "shell.execute_reply": "2024-03-18T06:08:11.181567Z"
    },
    "papermill": {
     "duration": 0.022926,
     "end_time": "2024-03-18T06:08:11.184844",
     "exception": false,
     "start_time": "2024-03-18T06:08:11.161918",
     "status": "completed"
    },
    "tags": []
   },
   "outputs": [
    {
     "data": {
      "text/plain": [
       "15"
      ]
     },
     "execution_count": 11,
     "metadata": {},
     "output_type": "execute_result"
    }
   ],
   "source": [
    "data['toss_won'].nunique()"
   ]
  },
  {
   "cell_type": "code",
   "execution_count": 12,
   "id": "f6649d3e",
   "metadata": {
    "execution": {
     "iopub.execute_input": "2024-03-18T06:08:11.211227Z",
     "iopub.status.busy": "2024-03-18T06:08:11.210731Z",
     "iopub.status.idle": "2024-03-18T06:08:11.291033Z",
     "shell.execute_reply": "2024-03-18T06:08:11.289862Z"
    },
    "papermill": {
     "duration": 0.096892,
     "end_time": "2024-03-18T06:08:11.293582",
     "exception": false,
     "start_time": "2024-03-18T06:08:11.196690",
     "status": "completed"
    },
    "tags": []
   },
   "outputs": [
    {
     "data": {
      "application/vnd.plotly.v1+json": {
       "config": {
        "plotlyServerURL": "https://plot.ly"
       },
       "data": [
        {
         "domain": {
          "x": [
           0,
           1
          ],
          "y": [
           0,
           1
          ]
         },
         "hovertemplate": "label=%{label}<br>value=%{value}<extra></extra>",
         "labels": [
          "MI",
          "DC",
          "KKR",
          "RCB",
          "SRH",
          "RR",
          "CSK",
          "KXIP",
          "PWI",
          "GT",
          "GL",
          "RPS",
          "LSG",
          "Kochi",
          "PBKS"
         ],
         "legendgroup": "",
         "name": "",
         "showlegend": true,
         "type": "pie",
         "values": [
          116,
          110,
          105,
          101,
          100,
          98,
          97,
          89,
          20,
          17,
          15,
          10,
          8,
          8,
          5
         ]
        }
       ],
       "layout": {
        "legend": {
         "tracegroupgap": 0
        },
        "template": {
         "data": {
          "bar": [
           {
            "error_x": {
             "color": "#2a3f5f"
            },
            "error_y": {
             "color": "#2a3f5f"
            },
            "marker": {
             "line": {
              "color": "#E5ECF6",
              "width": 0.5
             },
             "pattern": {
              "fillmode": "overlay",
              "size": 10,
              "solidity": 0.2
             }
            },
            "type": "bar"
           }
          ],
          "barpolar": [
           {
            "marker": {
             "line": {
              "color": "#E5ECF6",
              "width": 0.5
             },
             "pattern": {
              "fillmode": "overlay",
              "size": 10,
              "solidity": 0.2
             }
            },
            "type": "barpolar"
           }
          ],
          "carpet": [
           {
            "aaxis": {
             "endlinecolor": "#2a3f5f",
             "gridcolor": "white",
             "linecolor": "white",
             "minorgridcolor": "white",
             "startlinecolor": "#2a3f5f"
            },
            "baxis": {
             "endlinecolor": "#2a3f5f",
             "gridcolor": "white",
             "linecolor": "white",
             "minorgridcolor": "white",
             "startlinecolor": "#2a3f5f"
            },
            "type": "carpet"
           }
          ],
          "choropleth": [
           {
            "colorbar": {
             "outlinewidth": 0,
             "ticks": ""
            },
            "type": "choropleth"
           }
          ],
          "contour": [
           {
            "colorbar": {
             "outlinewidth": 0,
             "ticks": ""
            },
            "colorscale": [
             [
              0,
              "#0d0887"
             ],
             [
              0.1111111111111111,
              "#46039f"
             ],
             [
              0.2222222222222222,
              "#7201a8"
             ],
             [
              0.3333333333333333,
              "#9c179e"
             ],
             [
              0.4444444444444444,
              "#bd3786"
             ],
             [
              0.5555555555555556,
              "#d8576b"
             ],
             [
              0.6666666666666666,
              "#ed7953"
             ],
             [
              0.7777777777777778,
              "#fb9f3a"
             ],
             [
              0.8888888888888888,
              "#fdca26"
             ],
             [
              1,
              "#f0f921"
             ]
            ],
            "type": "contour"
           }
          ],
          "contourcarpet": [
           {
            "colorbar": {
             "outlinewidth": 0,
             "ticks": ""
            },
            "type": "contourcarpet"
           }
          ],
          "heatmap": [
           {
            "colorbar": {
             "outlinewidth": 0,
             "ticks": ""
            },
            "colorscale": [
             [
              0,
              "#0d0887"
             ],
             [
              0.1111111111111111,
              "#46039f"
             ],
             [
              0.2222222222222222,
              "#7201a8"
             ],
             [
              0.3333333333333333,
              "#9c179e"
             ],
             [
              0.4444444444444444,
              "#bd3786"
             ],
             [
              0.5555555555555556,
              "#d8576b"
             ],
             [
              0.6666666666666666,
              "#ed7953"
             ],
             [
              0.7777777777777778,
              "#fb9f3a"
             ],
             [
              0.8888888888888888,
              "#fdca26"
             ],
             [
              1,
              "#f0f921"
             ]
            ],
            "type": "heatmap"
           }
          ],
          "heatmapgl": [
           {
            "colorbar": {
             "outlinewidth": 0,
             "ticks": ""
            },
            "colorscale": [
             [
              0,
              "#0d0887"
             ],
             [
              0.1111111111111111,
              "#46039f"
             ],
             [
              0.2222222222222222,
              "#7201a8"
             ],
             [
              0.3333333333333333,
              "#9c179e"
             ],
             [
              0.4444444444444444,
              "#bd3786"
             ],
             [
              0.5555555555555556,
              "#d8576b"
             ],
             [
              0.6666666666666666,
              "#ed7953"
             ],
             [
              0.7777777777777778,
              "#fb9f3a"
             ],
             [
              0.8888888888888888,
              "#fdca26"
             ],
             [
              1,
              "#f0f921"
             ]
            ],
            "type": "heatmapgl"
           }
          ],
          "histogram": [
           {
            "marker": {
             "pattern": {
              "fillmode": "overlay",
              "size": 10,
              "solidity": 0.2
             }
            },
            "type": "histogram"
           }
          ],
          "histogram2d": [
           {
            "colorbar": {
             "outlinewidth": 0,
             "ticks": ""
            },
            "colorscale": [
             [
              0,
              "#0d0887"
             ],
             [
              0.1111111111111111,
              "#46039f"
             ],
             [
              0.2222222222222222,
              "#7201a8"
             ],
             [
              0.3333333333333333,
              "#9c179e"
             ],
             [
              0.4444444444444444,
              "#bd3786"
             ],
             [
              0.5555555555555556,
              "#d8576b"
             ],
             [
              0.6666666666666666,
              "#ed7953"
             ],
             [
              0.7777777777777778,
              "#fb9f3a"
             ],
             [
              0.8888888888888888,
              "#fdca26"
             ],
             [
              1,
              "#f0f921"
             ]
            ],
            "type": "histogram2d"
           }
          ],
          "histogram2dcontour": [
           {
            "colorbar": {
             "outlinewidth": 0,
             "ticks": ""
            },
            "colorscale": [
             [
              0,
              "#0d0887"
             ],
             [
              0.1111111111111111,
              "#46039f"
             ],
             [
              0.2222222222222222,
              "#7201a8"
             ],
             [
              0.3333333333333333,
              "#9c179e"
             ],
             [
              0.4444444444444444,
              "#bd3786"
             ],
             [
              0.5555555555555556,
              "#d8576b"
             ],
             [
              0.6666666666666666,
              "#ed7953"
             ],
             [
              0.7777777777777778,
              "#fb9f3a"
             ],
             [
              0.8888888888888888,
              "#fdca26"
             ],
             [
              1,
              "#f0f921"
             ]
            ],
            "type": "histogram2dcontour"
           }
          ],
          "mesh3d": [
           {
            "colorbar": {
             "outlinewidth": 0,
             "ticks": ""
            },
            "type": "mesh3d"
           }
          ],
          "parcoords": [
           {
            "line": {
             "colorbar": {
              "outlinewidth": 0,
              "ticks": ""
             }
            },
            "type": "parcoords"
           }
          ],
          "pie": [
           {
            "automargin": true,
            "type": "pie"
           }
          ],
          "scatter": [
           {
            "fillpattern": {
             "fillmode": "overlay",
             "size": 10,
             "solidity": 0.2
            },
            "type": "scatter"
           }
          ],
          "scatter3d": [
           {
            "line": {
             "colorbar": {
              "outlinewidth": 0,
              "ticks": ""
             }
            },
            "marker": {
             "colorbar": {
              "outlinewidth": 0,
              "ticks": ""
             }
            },
            "type": "scatter3d"
           }
          ],
          "scattercarpet": [
           {
            "marker": {
             "colorbar": {
              "outlinewidth": 0,
              "ticks": ""
             }
            },
            "type": "scattercarpet"
           }
          ],
          "scattergeo": [
           {
            "marker": {
             "colorbar": {
              "outlinewidth": 0,
              "ticks": ""
             }
            },
            "type": "scattergeo"
           }
          ],
          "scattergl": [
           {
            "marker": {
             "colorbar": {
              "outlinewidth": 0,
              "ticks": ""
             }
            },
            "type": "scattergl"
           }
          ],
          "scattermapbox": [
           {
            "marker": {
             "colorbar": {
              "outlinewidth": 0,
              "ticks": ""
             }
            },
            "type": "scattermapbox"
           }
          ],
          "scatterpolar": [
           {
            "marker": {
             "colorbar": {
              "outlinewidth": 0,
              "ticks": ""
             }
            },
            "type": "scatterpolar"
           }
          ],
          "scatterpolargl": [
           {
            "marker": {
             "colorbar": {
              "outlinewidth": 0,
              "ticks": ""
             }
            },
            "type": "scatterpolargl"
           }
          ],
          "scatterternary": [
           {
            "marker": {
             "colorbar": {
              "outlinewidth": 0,
              "ticks": ""
             }
            },
            "type": "scatterternary"
           }
          ],
          "surface": [
           {
            "colorbar": {
             "outlinewidth": 0,
             "ticks": ""
            },
            "colorscale": [
             [
              0,
              "#0d0887"
             ],
             [
              0.1111111111111111,
              "#46039f"
             ],
             [
              0.2222222222222222,
              "#7201a8"
             ],
             [
              0.3333333333333333,
              "#9c179e"
             ],
             [
              0.4444444444444444,
              "#bd3786"
             ],
             [
              0.5555555555555556,
              "#d8576b"
             ],
             [
              0.6666666666666666,
              "#ed7953"
             ],
             [
              0.7777777777777778,
              "#fb9f3a"
             ],
             [
              0.8888888888888888,
              "#fdca26"
             ],
             [
              1,
              "#f0f921"
             ]
            ],
            "type": "surface"
           }
          ],
          "table": [
           {
            "cells": {
             "fill": {
              "color": "#EBF0F8"
             },
             "line": {
              "color": "white"
             }
            },
            "header": {
             "fill": {
              "color": "#C8D4E3"
             },
             "line": {
              "color": "white"
             }
            },
            "type": "table"
           }
          ]
         },
         "layout": {
          "annotationdefaults": {
           "arrowcolor": "#2a3f5f",
           "arrowhead": 0,
           "arrowwidth": 1
          },
          "autotypenumbers": "strict",
          "coloraxis": {
           "colorbar": {
            "outlinewidth": 0,
            "ticks": ""
           }
          },
          "colorscale": {
           "diverging": [
            [
             0,
             "#8e0152"
            ],
            [
             0.1,
             "#c51b7d"
            ],
            [
             0.2,
             "#de77ae"
            ],
            [
             0.3,
             "#f1b6da"
            ],
            [
             0.4,
             "#fde0ef"
            ],
            [
             0.5,
             "#f7f7f7"
            ],
            [
             0.6,
             "#e6f5d0"
            ],
            [
             0.7,
             "#b8e186"
            ],
            [
             0.8,
             "#7fbc41"
            ],
            [
             0.9,
             "#4d9221"
            ],
            [
             1,
             "#276419"
            ]
           ],
           "sequential": [
            [
             0,
             "#0d0887"
            ],
            [
             0.1111111111111111,
             "#46039f"
            ],
            [
             0.2222222222222222,
             "#7201a8"
            ],
            [
             0.3333333333333333,
             "#9c179e"
            ],
            [
             0.4444444444444444,
             "#bd3786"
            ],
            [
             0.5555555555555556,
             "#d8576b"
            ],
            [
             0.6666666666666666,
             "#ed7953"
            ],
            [
             0.7777777777777778,
             "#fb9f3a"
            ],
            [
             0.8888888888888888,
             "#fdca26"
            ],
            [
             1,
             "#f0f921"
            ]
           ],
           "sequentialminus": [
            [
             0,
             "#0d0887"
            ],
            [
             0.1111111111111111,
             "#46039f"
            ],
            [
             0.2222222222222222,
             "#7201a8"
            ],
            [
             0.3333333333333333,
             "#9c179e"
            ],
            [
             0.4444444444444444,
             "#bd3786"
            ],
            [
             0.5555555555555556,
             "#d8576b"
            ],
            [
             0.6666666666666666,
             "#ed7953"
            ],
            [
             0.7777777777777778,
             "#fb9f3a"
            ],
            [
             0.8888888888888888,
             "#fdca26"
            ],
            [
             1,
             "#f0f921"
            ]
           ]
          },
          "colorway": [
           "#636efa",
           "#EF553B",
           "#00cc96",
           "#ab63fa",
           "#FFA15A",
           "#19d3f3",
           "#FF6692",
           "#B6E880",
           "#FF97FF",
           "#FECB52"
          ],
          "font": {
           "color": "#2a3f5f"
          },
          "geo": {
           "bgcolor": "white",
           "lakecolor": "white",
           "landcolor": "#E5ECF6",
           "showlakes": true,
           "showland": true,
           "subunitcolor": "white"
          },
          "hoverlabel": {
           "align": "left"
          },
          "hovermode": "closest",
          "mapbox": {
           "style": "light"
          },
          "paper_bgcolor": "white",
          "plot_bgcolor": "#E5ECF6",
          "polar": {
           "angularaxis": {
            "gridcolor": "white",
            "linecolor": "white",
            "ticks": ""
           },
           "bgcolor": "#E5ECF6",
           "radialaxis": {
            "gridcolor": "white",
            "linecolor": "white",
            "ticks": ""
           }
          },
          "scene": {
           "xaxis": {
            "backgroundcolor": "#E5ECF6",
            "gridcolor": "white",
            "gridwidth": 2,
            "linecolor": "white",
            "showbackground": true,
            "ticks": "",
            "zerolinecolor": "white"
           },
           "yaxis": {
            "backgroundcolor": "#E5ECF6",
            "gridcolor": "white",
            "gridwidth": 2,
            "linecolor": "white",
            "showbackground": true,
            "ticks": "",
            "zerolinecolor": "white"
           },
           "zaxis": {
            "backgroundcolor": "#E5ECF6",
            "gridcolor": "white",
            "gridwidth": 2,
            "linecolor": "white",
            "showbackground": true,
            "ticks": "",
            "zerolinecolor": "white"
           }
          },
          "shapedefaults": {
           "line": {
            "color": "#2a3f5f"
           }
          },
          "ternary": {
           "aaxis": {
            "gridcolor": "white",
            "linecolor": "white",
            "ticks": ""
           },
           "baxis": {
            "gridcolor": "white",
            "linecolor": "white",
            "ticks": ""
           },
           "bgcolor": "#E5ECF6",
           "caxis": {
            "gridcolor": "white",
            "linecolor": "white",
            "ticks": ""
           }
          },
          "title": {
           "x": 0.05
          },
          "xaxis": {
           "automargin": true,
           "gridcolor": "white",
           "linecolor": "white",
           "ticks": "",
           "title": {
            "standoff": 15
           },
           "zerolinecolor": "white",
           "zerolinewidth": 2
          },
          "yaxis": {
           "automargin": true,
           "gridcolor": "white",
           "linecolor": "white",
           "ticks": "",
           "title": {
            "standoff": 15
           },
           "zerolinecolor": "white",
           "zerolinewidth": 2
          }
         }
        },
        "title": {
         "text": "Pie Chart of Decisions"
        }
       }
      }
     },
     "metadata": {},
     "output_type": "display_data"
    }
   ],
   "source": [
    "fig = px.pie(names=toss.index, values=toss.values, title='Pie Chart of Decisions')\n",
    "\n",
    "fig.show()"
   ]
  },
  {
   "cell_type": "markdown",
   "id": "eede9c01",
   "metadata": {
    "papermill": {
     "duration": 0.011642,
     "end_time": "2024-03-18T06:08:11.317619",
     "exception": false,
     "start_time": "2024-03-18T06:08:11.305977",
     "status": "completed"
    },
    "tags": []
   },
   "source": [
    "## Droping some more column."
   ]
  },
  {
   "cell_type": "code",
   "execution_count": 13,
   "id": "2dcb2cfb",
   "metadata": {
    "execution": {
     "iopub.execute_input": "2024-03-18T06:08:11.345547Z",
     "iopub.status.busy": "2024-03-18T06:08:11.344123Z",
     "iopub.status.idle": "2024-03-18T06:08:11.396286Z",
     "shell.execute_reply": "2024-03-18T06:08:11.395065Z"
    },
    "papermill": {
     "duration": 0.06855,
     "end_time": "2024-03-18T06:08:11.398796",
     "exception": false,
     "start_time": "2024-03-18T06:08:11.330246",
     "status": "completed"
    },
    "tags": []
   },
   "outputs": [
    {
     "data": {
      "text/html": [
       "<div>\n",
       "<style scoped>\n",
       "    .dataframe tbody tr th:only-of-type {\n",
       "        vertical-align: middle;\n",
       "    }\n",
       "\n",
       "    .dataframe tbody tr th {\n",
       "        vertical-align: top;\n",
       "    }\n",
       "\n",
       "    .dataframe thead th {\n",
       "        text-align: right;\n",
       "    }\n",
       "</style>\n",
       "<table border=\"1\" class=\"dataframe\">\n",
       "  <thead>\n",
       "    <tr style=\"text-align: right;\">\n",
       "      <th></th>\n",
       "      <th>count</th>\n",
       "      <th>mean</th>\n",
       "      <th>std</th>\n",
       "      <th>min</th>\n",
       "      <th>25%</th>\n",
       "      <th>50%</th>\n",
       "      <th>75%</th>\n",
       "      <th>max</th>\n",
       "    </tr>\n",
       "  </thead>\n",
       "  <tbody>\n",
       "    <tr>\n",
       "      <th>season</th>\n",
       "      <td>899.0</td>\n",
       "      <td>2015.729700</td>\n",
       "      <td>4.596323</td>\n",
       "      <td>2008.0</td>\n",
       "      <td>2012.0</td>\n",
       "      <td>2015.0</td>\n",
       "      <td>2020.0</td>\n",
       "      <td>2023.0</td>\n",
       "    </tr>\n",
       "    <tr>\n",
       "      <th>id</th>\n",
       "      <td>899.0</td>\n",
       "      <td>878206.164627</td>\n",
       "      <td>350142.842656</td>\n",
       "      <td>335982.0</td>\n",
       "      <td>548326.5</td>\n",
       "      <td>829815.0</td>\n",
       "      <td>1216509.5</td>\n",
       "      <td>1359544.0</td>\n",
       "    </tr>\n",
       "    <tr>\n",
       "      <th>venue_id</th>\n",
       "      <td>899.0</td>\n",
       "      <td>126636.385984</td>\n",
       "      <td>166074.196459</td>\n",
       "      <td>57851.0</td>\n",
       "      <td>57991.0</td>\n",
       "      <td>58150.0</td>\n",
       "      <td>59093.5</td>\n",
       "      <td>1070094.0</td>\n",
       "    </tr>\n",
       "    <tr>\n",
       "      <th>home_overs</th>\n",
       "      <td>899.0</td>\n",
       "      <td>19.116240</td>\n",
       "      <td>2.008041</td>\n",
       "      <td>4.5</td>\n",
       "      <td>19.2</td>\n",
       "      <td>20.0</td>\n",
       "      <td>20.0</td>\n",
       "      <td>20.0</td>\n",
       "    </tr>\n",
       "    <tr>\n",
       "      <th>home_runs</th>\n",
       "      <td>899.0</td>\n",
       "      <td>158.746385</td>\n",
       "      <td>31.665220</td>\n",
       "      <td>58.0</td>\n",
       "      <td>138.5</td>\n",
       "      <td>160.0</td>\n",
       "      <td>180.0</td>\n",
       "      <td>263.0</td>\n",
       "    </tr>\n",
       "    <tr>\n",
       "      <th>home_wickets</th>\n",
       "      <td>899.0</td>\n",
       "      <td>5.751947</td>\n",
       "      <td>2.390051</td>\n",
       "      <td>0.0</td>\n",
       "      <td>4.0</td>\n",
       "      <td>6.0</td>\n",
       "      <td>8.0</td>\n",
       "      <td>10.0</td>\n",
       "    </tr>\n",
       "    <tr>\n",
       "      <th>home_boundaries</th>\n",
       "      <td>899.0</td>\n",
       "      <td>19.484983</td>\n",
       "      <td>5.903506</td>\n",
       "      <td>3.0</td>\n",
       "      <td>15.0</td>\n",
       "      <td>19.0</td>\n",
       "      <td>24.0</td>\n",
       "      <td>42.0</td>\n",
       "    </tr>\n",
       "    <tr>\n",
       "      <th>away_overs</th>\n",
       "      <td>899.0</td>\n",
       "      <td>19.086318</td>\n",
       "      <td>2.072742</td>\n",
       "      <td>4.2</td>\n",
       "      <td>19.2</td>\n",
       "      <td>20.0</td>\n",
       "      <td>20.0</td>\n",
       "      <td>20.0</td>\n",
       "    </tr>\n",
       "    <tr>\n",
       "      <th>away_runs</th>\n",
       "      <td>899.0</td>\n",
       "      <td>155.814238</td>\n",
       "      <td>31.238539</td>\n",
       "      <td>44.0</td>\n",
       "      <td>136.0</td>\n",
       "      <td>158.0</td>\n",
       "      <td>176.0</td>\n",
       "      <td>257.0</td>\n",
       "    </tr>\n",
       "    <tr>\n",
       "      <th>away_wickets</th>\n",
       "      <td>899.0</td>\n",
       "      <td>5.905451</td>\n",
       "      <td>2.511657</td>\n",
       "      <td>0.0</td>\n",
       "      <td>4.0</td>\n",
       "      <td>6.0</td>\n",
       "      <td>8.0</td>\n",
       "      <td>10.0</td>\n",
       "    </tr>\n",
       "    <tr>\n",
       "      <th>away_boundaries</th>\n",
       "      <td>899.0</td>\n",
       "      <td>19.071190</td>\n",
       "      <td>5.692124</td>\n",
       "      <td>4.0</td>\n",
       "      <td>15.0</td>\n",
       "      <td>19.0</td>\n",
       "      <td>23.0</td>\n",
       "      <td>41.0</td>\n",
       "    </tr>\n",
       "  </tbody>\n",
       "</table>\n",
       "</div>"
      ],
      "text/plain": [
       "                 count           mean            std       min       25%  \\\n",
       "season           899.0    2015.729700       4.596323    2008.0    2012.0   \n",
       "id               899.0  878206.164627  350142.842656  335982.0  548326.5   \n",
       "venue_id         899.0  126636.385984  166074.196459   57851.0   57991.0   \n",
       "home_overs       899.0      19.116240       2.008041       4.5      19.2   \n",
       "home_runs        899.0     158.746385      31.665220      58.0     138.5   \n",
       "home_wickets     899.0       5.751947       2.390051       0.0       4.0   \n",
       "home_boundaries  899.0      19.484983       5.903506       3.0      15.0   \n",
       "away_overs       899.0      19.086318       2.072742       4.2      19.2   \n",
       "away_runs        899.0     155.814238      31.238539      44.0     136.0   \n",
       "away_wickets     899.0       5.905451       2.511657       0.0       4.0   \n",
       "away_boundaries  899.0      19.071190       5.692124       4.0      15.0   \n",
       "\n",
       "                      50%        75%        max  \n",
       "season             2015.0     2020.0     2023.0  \n",
       "id               829815.0  1216509.5  1359544.0  \n",
       "venue_id          58150.0    59093.5  1070094.0  \n",
       "home_overs           20.0       20.0       20.0  \n",
       "home_runs           160.0      180.0      263.0  \n",
       "home_wickets          6.0        8.0       10.0  \n",
       "home_boundaries      19.0       24.0       42.0  \n",
       "away_overs           20.0       20.0       20.0  \n",
       "away_runs           158.0      176.0      257.0  \n",
       "away_wickets          6.0        8.0       10.0  \n",
       "away_boundaries      19.0       23.0       41.0  "
      ]
     },
     "execution_count": 13,
     "metadata": {},
     "output_type": "execute_result"
    }
   ],
   "source": [
    "data.describe().T"
   ]
  },
  {
   "cell_type": "markdown",
   "id": "07162de9",
   "metadata": {
    "papermill": {
     "duration": 0.012105,
     "end_time": "2024-03-18T06:08:11.423333",
     "exception": false,
     "start_time": "2024-03-18T06:08:11.411228",
     "status": "completed"
    },
    "tags": []
   },
   "source": [
    " ## How many times a team win."
   ]
  },
  {
   "cell_type": "code",
   "execution_count": 14,
   "id": "2a0d786d",
   "metadata": {
    "execution": {
     "iopub.execute_input": "2024-03-18T06:08:11.450049Z",
     "iopub.status.busy": "2024-03-18T06:08:11.449216Z",
     "iopub.status.idle": "2024-03-18T06:08:11.454768Z",
     "shell.execute_reply": "2024-03-18T06:08:11.453565Z"
    },
    "papermill": {
     "duration": 0.021893,
     "end_time": "2024-03-18T06:08:11.457436",
     "exception": false,
     "start_time": "2024-03-18T06:08:11.435543",
     "status": "completed"
    },
    "tags": []
   },
   "outputs": [],
   "source": [
    "winner = data['winner'].value_counts()"
   ]
  },
  {
   "cell_type": "code",
   "execution_count": 15,
   "id": "d2870f86",
   "metadata": {
    "execution": {
     "iopub.execute_input": "2024-03-18T06:08:11.484598Z",
     "iopub.status.busy": "2024-03-18T06:08:11.484192Z",
     "iopub.status.idle": "2024-03-18T06:08:11.490926Z",
     "shell.execute_reply": "2024-03-18T06:08:11.489932Z"
    },
    "papermill": {
     "duration": 0.02342,
     "end_time": "2024-03-18T06:08:11.493636",
     "exception": false,
     "start_time": "2024-03-18T06:08:11.470216",
     "status": "completed"
    },
    "tags": []
   },
   "outputs": [
    {
     "data": {
      "text/plain": [
       "15"
      ]
     },
     "execution_count": 15,
     "metadata": {},
     "output_type": "execute_result"
    }
   ],
   "source": [
    "data['winner'].nunique()"
   ]
  },
  {
   "cell_type": "code",
   "execution_count": 16,
   "id": "182eef1b",
   "metadata": {
    "execution": {
     "iopub.execute_input": "2024-03-18T06:08:11.530609Z",
     "iopub.status.busy": "2024-03-18T06:08:11.529732Z",
     "iopub.status.idle": "2024-03-18T06:08:11.593095Z",
     "shell.execute_reply": "2024-03-18T06:08:11.591760Z"
    },
    "papermill": {
     "duration": 0.084838,
     "end_time": "2024-03-18T06:08:11.595947",
     "exception": false,
     "start_time": "2024-03-18T06:08:11.511109",
     "status": "completed"
    },
    "tags": []
   },
   "outputs": [
    {
     "data": {
      "application/vnd.plotly.v1+json": {
       "config": {
        "plotlyServerURL": "https://plot.ly"
       },
       "data": [
        {
         "domain": {
          "x": [
           0,
           1
          ],
          "y": [
           0,
           1
          ]
         },
         "hovertemplate": "label=%{label}<br>value=%{value}<extra></extra>",
         "labels": [
          "MI",
          "CSK",
          "KKR",
          "RCB",
          "SRH",
          "RR",
          "DC",
          "KXIP",
          "GT",
          "PBKS",
          "LSG",
          "RPS",
          "PWI",
          "GL",
          "Kochi"
         ],
         "legendgroup": "",
         "name": "",
         "showlegend": true,
         "type": "pie",
         "values": [
          125,
          110,
          105,
          102,
          93,
          92,
          92,
          82,
          20,
          19,
          16,
          14,
          12,
          11,
          6
         ]
        }
       ],
       "layout": {
        "legend": {
         "tracegroupgap": 0
        },
        "template": {
         "data": {
          "bar": [
           {
            "error_x": {
             "color": "#2a3f5f"
            },
            "error_y": {
             "color": "#2a3f5f"
            },
            "marker": {
             "line": {
              "color": "#E5ECF6",
              "width": 0.5
             },
             "pattern": {
              "fillmode": "overlay",
              "size": 10,
              "solidity": 0.2
             }
            },
            "type": "bar"
           }
          ],
          "barpolar": [
           {
            "marker": {
             "line": {
              "color": "#E5ECF6",
              "width": 0.5
             },
             "pattern": {
              "fillmode": "overlay",
              "size": 10,
              "solidity": 0.2
             }
            },
            "type": "barpolar"
           }
          ],
          "carpet": [
           {
            "aaxis": {
             "endlinecolor": "#2a3f5f",
             "gridcolor": "white",
             "linecolor": "white",
             "minorgridcolor": "white",
             "startlinecolor": "#2a3f5f"
            },
            "baxis": {
             "endlinecolor": "#2a3f5f",
             "gridcolor": "white",
             "linecolor": "white",
             "minorgridcolor": "white",
             "startlinecolor": "#2a3f5f"
            },
            "type": "carpet"
           }
          ],
          "choropleth": [
           {
            "colorbar": {
             "outlinewidth": 0,
             "ticks": ""
            },
            "type": "choropleth"
           }
          ],
          "contour": [
           {
            "colorbar": {
             "outlinewidth": 0,
             "ticks": ""
            },
            "colorscale": [
             [
              0,
              "#0d0887"
             ],
             [
              0.1111111111111111,
              "#46039f"
             ],
             [
              0.2222222222222222,
              "#7201a8"
             ],
             [
              0.3333333333333333,
              "#9c179e"
             ],
             [
              0.4444444444444444,
              "#bd3786"
             ],
             [
              0.5555555555555556,
              "#d8576b"
             ],
             [
              0.6666666666666666,
              "#ed7953"
             ],
             [
              0.7777777777777778,
              "#fb9f3a"
             ],
             [
              0.8888888888888888,
              "#fdca26"
             ],
             [
              1,
              "#f0f921"
             ]
            ],
            "type": "contour"
           }
          ],
          "contourcarpet": [
           {
            "colorbar": {
             "outlinewidth": 0,
             "ticks": ""
            },
            "type": "contourcarpet"
           }
          ],
          "heatmap": [
           {
            "colorbar": {
             "outlinewidth": 0,
             "ticks": ""
            },
            "colorscale": [
             [
              0,
              "#0d0887"
             ],
             [
              0.1111111111111111,
              "#46039f"
             ],
             [
              0.2222222222222222,
              "#7201a8"
             ],
             [
              0.3333333333333333,
              "#9c179e"
             ],
             [
              0.4444444444444444,
              "#bd3786"
             ],
             [
              0.5555555555555556,
              "#d8576b"
             ],
             [
              0.6666666666666666,
              "#ed7953"
             ],
             [
              0.7777777777777778,
              "#fb9f3a"
             ],
             [
              0.8888888888888888,
              "#fdca26"
             ],
             [
              1,
              "#f0f921"
             ]
            ],
            "type": "heatmap"
           }
          ],
          "heatmapgl": [
           {
            "colorbar": {
             "outlinewidth": 0,
             "ticks": ""
            },
            "colorscale": [
             [
              0,
              "#0d0887"
             ],
             [
              0.1111111111111111,
              "#46039f"
             ],
             [
              0.2222222222222222,
              "#7201a8"
             ],
             [
              0.3333333333333333,
              "#9c179e"
             ],
             [
              0.4444444444444444,
              "#bd3786"
             ],
             [
              0.5555555555555556,
              "#d8576b"
             ],
             [
              0.6666666666666666,
              "#ed7953"
             ],
             [
              0.7777777777777778,
              "#fb9f3a"
             ],
             [
              0.8888888888888888,
              "#fdca26"
             ],
             [
              1,
              "#f0f921"
             ]
            ],
            "type": "heatmapgl"
           }
          ],
          "histogram": [
           {
            "marker": {
             "pattern": {
              "fillmode": "overlay",
              "size": 10,
              "solidity": 0.2
             }
            },
            "type": "histogram"
           }
          ],
          "histogram2d": [
           {
            "colorbar": {
             "outlinewidth": 0,
             "ticks": ""
            },
            "colorscale": [
             [
              0,
              "#0d0887"
             ],
             [
              0.1111111111111111,
              "#46039f"
             ],
             [
              0.2222222222222222,
              "#7201a8"
             ],
             [
              0.3333333333333333,
              "#9c179e"
             ],
             [
              0.4444444444444444,
              "#bd3786"
             ],
             [
              0.5555555555555556,
              "#d8576b"
             ],
             [
              0.6666666666666666,
              "#ed7953"
             ],
             [
              0.7777777777777778,
              "#fb9f3a"
             ],
             [
              0.8888888888888888,
              "#fdca26"
             ],
             [
              1,
              "#f0f921"
             ]
            ],
            "type": "histogram2d"
           }
          ],
          "histogram2dcontour": [
           {
            "colorbar": {
             "outlinewidth": 0,
             "ticks": ""
            },
            "colorscale": [
             [
              0,
              "#0d0887"
             ],
             [
              0.1111111111111111,
              "#46039f"
             ],
             [
              0.2222222222222222,
              "#7201a8"
             ],
             [
              0.3333333333333333,
              "#9c179e"
             ],
             [
              0.4444444444444444,
              "#bd3786"
             ],
             [
              0.5555555555555556,
              "#d8576b"
             ],
             [
              0.6666666666666666,
              "#ed7953"
             ],
             [
              0.7777777777777778,
              "#fb9f3a"
             ],
             [
              0.8888888888888888,
              "#fdca26"
             ],
             [
              1,
              "#f0f921"
             ]
            ],
            "type": "histogram2dcontour"
           }
          ],
          "mesh3d": [
           {
            "colorbar": {
             "outlinewidth": 0,
             "ticks": ""
            },
            "type": "mesh3d"
           }
          ],
          "parcoords": [
           {
            "line": {
             "colorbar": {
              "outlinewidth": 0,
              "ticks": ""
             }
            },
            "type": "parcoords"
           }
          ],
          "pie": [
           {
            "automargin": true,
            "type": "pie"
           }
          ],
          "scatter": [
           {
            "fillpattern": {
             "fillmode": "overlay",
             "size": 10,
             "solidity": 0.2
            },
            "type": "scatter"
           }
          ],
          "scatter3d": [
           {
            "line": {
             "colorbar": {
              "outlinewidth": 0,
              "ticks": ""
             }
            },
            "marker": {
             "colorbar": {
              "outlinewidth": 0,
              "ticks": ""
             }
            },
            "type": "scatter3d"
           }
          ],
          "scattercarpet": [
           {
            "marker": {
             "colorbar": {
              "outlinewidth": 0,
              "ticks": ""
             }
            },
            "type": "scattercarpet"
           }
          ],
          "scattergeo": [
           {
            "marker": {
             "colorbar": {
              "outlinewidth": 0,
              "ticks": ""
             }
            },
            "type": "scattergeo"
           }
          ],
          "scattergl": [
           {
            "marker": {
             "colorbar": {
              "outlinewidth": 0,
              "ticks": ""
             }
            },
            "type": "scattergl"
           }
          ],
          "scattermapbox": [
           {
            "marker": {
             "colorbar": {
              "outlinewidth": 0,
              "ticks": ""
             }
            },
            "type": "scattermapbox"
           }
          ],
          "scatterpolar": [
           {
            "marker": {
             "colorbar": {
              "outlinewidth": 0,
              "ticks": ""
             }
            },
            "type": "scatterpolar"
           }
          ],
          "scatterpolargl": [
           {
            "marker": {
             "colorbar": {
              "outlinewidth": 0,
              "ticks": ""
             }
            },
            "type": "scatterpolargl"
           }
          ],
          "scatterternary": [
           {
            "marker": {
             "colorbar": {
              "outlinewidth": 0,
              "ticks": ""
             }
            },
            "type": "scatterternary"
           }
          ],
          "surface": [
           {
            "colorbar": {
             "outlinewidth": 0,
             "ticks": ""
            },
            "colorscale": [
             [
              0,
              "#0d0887"
             ],
             [
              0.1111111111111111,
              "#46039f"
             ],
             [
              0.2222222222222222,
              "#7201a8"
             ],
             [
              0.3333333333333333,
              "#9c179e"
             ],
             [
              0.4444444444444444,
              "#bd3786"
             ],
             [
              0.5555555555555556,
              "#d8576b"
             ],
             [
              0.6666666666666666,
              "#ed7953"
             ],
             [
              0.7777777777777778,
              "#fb9f3a"
             ],
             [
              0.8888888888888888,
              "#fdca26"
             ],
             [
              1,
              "#f0f921"
             ]
            ],
            "type": "surface"
           }
          ],
          "table": [
           {
            "cells": {
             "fill": {
              "color": "#EBF0F8"
             },
             "line": {
              "color": "white"
             }
            },
            "header": {
             "fill": {
              "color": "#C8D4E3"
             },
             "line": {
              "color": "white"
             }
            },
            "type": "table"
           }
          ]
         },
         "layout": {
          "annotationdefaults": {
           "arrowcolor": "#2a3f5f",
           "arrowhead": 0,
           "arrowwidth": 1
          },
          "autotypenumbers": "strict",
          "coloraxis": {
           "colorbar": {
            "outlinewidth": 0,
            "ticks": ""
           }
          },
          "colorscale": {
           "diverging": [
            [
             0,
             "#8e0152"
            ],
            [
             0.1,
             "#c51b7d"
            ],
            [
             0.2,
             "#de77ae"
            ],
            [
             0.3,
             "#f1b6da"
            ],
            [
             0.4,
             "#fde0ef"
            ],
            [
             0.5,
             "#f7f7f7"
            ],
            [
             0.6,
             "#e6f5d0"
            ],
            [
             0.7,
             "#b8e186"
            ],
            [
             0.8,
             "#7fbc41"
            ],
            [
             0.9,
             "#4d9221"
            ],
            [
             1,
             "#276419"
            ]
           ],
           "sequential": [
            [
             0,
             "#0d0887"
            ],
            [
             0.1111111111111111,
             "#46039f"
            ],
            [
             0.2222222222222222,
             "#7201a8"
            ],
            [
             0.3333333333333333,
             "#9c179e"
            ],
            [
             0.4444444444444444,
             "#bd3786"
            ],
            [
             0.5555555555555556,
             "#d8576b"
            ],
            [
             0.6666666666666666,
             "#ed7953"
            ],
            [
             0.7777777777777778,
             "#fb9f3a"
            ],
            [
             0.8888888888888888,
             "#fdca26"
            ],
            [
             1,
             "#f0f921"
            ]
           ],
           "sequentialminus": [
            [
             0,
             "#0d0887"
            ],
            [
             0.1111111111111111,
             "#46039f"
            ],
            [
             0.2222222222222222,
             "#7201a8"
            ],
            [
             0.3333333333333333,
             "#9c179e"
            ],
            [
             0.4444444444444444,
             "#bd3786"
            ],
            [
             0.5555555555555556,
             "#d8576b"
            ],
            [
             0.6666666666666666,
             "#ed7953"
            ],
            [
             0.7777777777777778,
             "#fb9f3a"
            ],
            [
             0.8888888888888888,
             "#fdca26"
            ],
            [
             1,
             "#f0f921"
            ]
           ]
          },
          "colorway": [
           "#636efa",
           "#EF553B",
           "#00cc96",
           "#ab63fa",
           "#FFA15A",
           "#19d3f3",
           "#FF6692",
           "#B6E880",
           "#FF97FF",
           "#FECB52"
          ],
          "font": {
           "color": "#2a3f5f"
          },
          "geo": {
           "bgcolor": "white",
           "lakecolor": "white",
           "landcolor": "#E5ECF6",
           "showlakes": true,
           "showland": true,
           "subunitcolor": "white"
          },
          "hoverlabel": {
           "align": "left"
          },
          "hovermode": "closest",
          "mapbox": {
           "style": "light"
          },
          "paper_bgcolor": "white",
          "plot_bgcolor": "#E5ECF6",
          "polar": {
           "angularaxis": {
            "gridcolor": "white",
            "linecolor": "white",
            "ticks": ""
           },
           "bgcolor": "#E5ECF6",
           "radialaxis": {
            "gridcolor": "white",
            "linecolor": "white",
            "ticks": ""
           }
          },
          "scene": {
           "xaxis": {
            "backgroundcolor": "#E5ECF6",
            "gridcolor": "white",
            "gridwidth": 2,
            "linecolor": "white",
            "showbackground": true,
            "ticks": "",
            "zerolinecolor": "white"
           },
           "yaxis": {
            "backgroundcolor": "#E5ECF6",
            "gridcolor": "white",
            "gridwidth": 2,
            "linecolor": "white",
            "showbackground": true,
            "ticks": "",
            "zerolinecolor": "white"
           },
           "zaxis": {
            "backgroundcolor": "#E5ECF6",
            "gridcolor": "white",
            "gridwidth": 2,
            "linecolor": "white",
            "showbackground": true,
            "ticks": "",
            "zerolinecolor": "white"
           }
          },
          "shapedefaults": {
           "line": {
            "color": "#2a3f5f"
           }
          },
          "ternary": {
           "aaxis": {
            "gridcolor": "white",
            "linecolor": "white",
            "ticks": ""
           },
           "baxis": {
            "gridcolor": "white",
            "linecolor": "white",
            "ticks": ""
           },
           "bgcolor": "#E5ECF6",
           "caxis": {
            "gridcolor": "white",
            "linecolor": "white",
            "ticks": ""
           }
          },
          "title": {
           "x": 0.05
          },
          "xaxis": {
           "automargin": true,
           "gridcolor": "white",
           "linecolor": "white",
           "ticks": "",
           "title": {
            "standoff": 15
           },
           "zerolinecolor": "white",
           "zerolinewidth": 2
          },
          "yaxis": {
           "automargin": true,
           "gridcolor": "white",
           "linecolor": "white",
           "ticks": "",
           "title": {
            "standoff": 15
           },
           "zerolinecolor": "white",
           "zerolinewidth": 2
          }
         }
        },
        "title": {
         "text": "Pie Chart of Winners in the Match"
        }
       }
      }
     },
     "metadata": {},
     "output_type": "display_data"
    }
   ],
   "source": [
    "fig = px.pie(names=winner.index, values=winner.values, title='Pie Chart of Winners in the Match')\n",
    "fig.show()"
   ]
  },
  {
   "cell_type": "markdown",
   "id": "16275d88",
   "metadata": {
    "papermill": {
     "duration": 0.015169,
     "end_time": "2024-03-18T06:08:11.628535",
     "exception": false,
     "start_time": "2024-03-18T06:08:11.613366",
     "status": "completed"
    },
    "tags": []
   },
   "source": [
    "## How many times does the player gets the Player of the match title."
   ]
  },
  {
   "cell_type": "code",
   "execution_count": 17,
   "id": "98ea3ab6",
   "metadata": {
    "execution": {
     "iopub.execute_input": "2024-03-18T06:08:11.656764Z",
     "iopub.status.busy": "2024-03-18T06:08:11.656372Z",
     "iopub.status.idle": "2024-03-18T06:08:11.662135Z",
     "shell.execute_reply": "2024-03-18T06:08:11.660913Z"
    },
    "papermill": {
     "duration": 0.022254,
     "end_time": "2024-03-18T06:08:11.664304",
     "exception": false,
     "start_time": "2024-03-18T06:08:11.642050",
     "status": "completed"
    },
    "tags": []
   },
   "outputs": [],
   "source": [
    "pom=data['pom'].value_counts().head(20)"
   ]
  },
  {
   "cell_type": "code",
   "execution_count": 18,
   "id": "bdd7887c",
   "metadata": {
    "execution": {
     "iopub.execute_input": "2024-03-18T06:08:11.769987Z",
     "iopub.status.busy": "2024-03-18T06:08:11.769120Z",
     "iopub.status.idle": "2024-03-18T06:08:11.776709Z",
     "shell.execute_reply": "2024-03-18T06:08:11.775750Z"
    },
    "papermill": {
     "duration": 0.029049,
     "end_time": "2024-03-18T06:08:11.779372",
     "exception": false,
     "start_time": "2024-03-18T06:08:11.750323",
     "status": "completed"
    },
    "tags": []
   },
   "outputs": [
    {
     "data": {
      "text/plain": [
       "265"
      ]
     },
     "execution_count": 18,
     "metadata": {},
     "output_type": "execute_result"
    }
   ],
   "source": [
    "data['pom'].nunique()"
   ]
  },
  {
   "cell_type": "code",
   "execution_count": 19,
   "id": "9edc8b02",
   "metadata": {
    "execution": {
     "iopub.execute_input": "2024-03-18T06:08:11.808209Z",
     "iopub.status.busy": "2024-03-18T06:08:11.807759Z",
     "iopub.status.idle": "2024-03-18T06:08:11.869675Z",
     "shell.execute_reply": "2024-03-18T06:08:11.868538Z"
    },
    "papermill": {
     "duration": 0.078733,
     "end_time": "2024-03-18T06:08:11.872160",
     "exception": false,
     "start_time": "2024-03-18T06:08:11.793427",
     "status": "completed"
    },
    "tags": []
   },
   "outputs": [
    {
     "data": {
      "application/vnd.plotly.v1+json": {
       "config": {
        "plotlyServerURL": "https://plot.ly"
       },
       "data": [
        {
         "alignmentgroup": "True",
         "hovertemplate": "Count=%{x}<br>pom=%{y}<extra></extra>",
         "legendgroup": "",
         "marker": {
          "color": "#636efa",
          "pattern": {
           "shape": ""
          }
         },
         "name": "",
         "offsetgroup": "",
         "orientation": "h",
         "showlegend": false,
         "textposition": "auto",
         "type": "bar",
         "x": [
          22,
          21,
          18,
          16,
          14,
          14,
          14,
          13,
          13,
          12,
          12,
          12,
          11,
          11,
          11,
          11,
          11,
          11,
          10,
          10
         ],
         "xaxis": "x",
         "y": [
          "AB de Villiers",
          "Chris Gayle",
          "Rohit Sharma",
          "David Warner",
          "MS Dhoni",
          "Virat Kohli",
          "Ravindra Jadeja",
          "Yusuf Pathan",
          "Shane Watson",
          "Ajinkya Rahane",
          "KL Rahul",
          "Gautam Gambhir",
          "Amit Mishra",
          "Shikhar Dhawan",
          "Dwayne Smith",
          "Sunil Narine",
          "Michael Hussey",
          "Kieron Pollard",
          "Jos Buttler",
          "Rashid Khan"
         ],
         "yaxis": "y"
        }
       ],
       "layout": {
        "barmode": "relative",
        "legend": {
         "tracegroupgap": 0
        },
        "template": {
         "data": {
          "bar": [
           {
            "error_x": {
             "color": "#2a3f5f"
            },
            "error_y": {
             "color": "#2a3f5f"
            },
            "marker": {
             "line": {
              "color": "#E5ECF6",
              "width": 0.5
             },
             "pattern": {
              "fillmode": "overlay",
              "size": 10,
              "solidity": 0.2
             }
            },
            "type": "bar"
           }
          ],
          "barpolar": [
           {
            "marker": {
             "line": {
              "color": "#E5ECF6",
              "width": 0.5
             },
             "pattern": {
              "fillmode": "overlay",
              "size": 10,
              "solidity": 0.2
             }
            },
            "type": "barpolar"
           }
          ],
          "carpet": [
           {
            "aaxis": {
             "endlinecolor": "#2a3f5f",
             "gridcolor": "white",
             "linecolor": "white",
             "minorgridcolor": "white",
             "startlinecolor": "#2a3f5f"
            },
            "baxis": {
             "endlinecolor": "#2a3f5f",
             "gridcolor": "white",
             "linecolor": "white",
             "minorgridcolor": "white",
             "startlinecolor": "#2a3f5f"
            },
            "type": "carpet"
           }
          ],
          "choropleth": [
           {
            "colorbar": {
             "outlinewidth": 0,
             "ticks": ""
            },
            "type": "choropleth"
           }
          ],
          "contour": [
           {
            "colorbar": {
             "outlinewidth": 0,
             "ticks": ""
            },
            "colorscale": [
             [
              0,
              "#0d0887"
             ],
             [
              0.1111111111111111,
              "#46039f"
             ],
             [
              0.2222222222222222,
              "#7201a8"
             ],
             [
              0.3333333333333333,
              "#9c179e"
             ],
             [
              0.4444444444444444,
              "#bd3786"
             ],
             [
              0.5555555555555556,
              "#d8576b"
             ],
             [
              0.6666666666666666,
              "#ed7953"
             ],
             [
              0.7777777777777778,
              "#fb9f3a"
             ],
             [
              0.8888888888888888,
              "#fdca26"
             ],
             [
              1,
              "#f0f921"
             ]
            ],
            "type": "contour"
           }
          ],
          "contourcarpet": [
           {
            "colorbar": {
             "outlinewidth": 0,
             "ticks": ""
            },
            "type": "contourcarpet"
           }
          ],
          "heatmap": [
           {
            "colorbar": {
             "outlinewidth": 0,
             "ticks": ""
            },
            "colorscale": [
             [
              0,
              "#0d0887"
             ],
             [
              0.1111111111111111,
              "#46039f"
             ],
             [
              0.2222222222222222,
              "#7201a8"
             ],
             [
              0.3333333333333333,
              "#9c179e"
             ],
             [
              0.4444444444444444,
              "#bd3786"
             ],
             [
              0.5555555555555556,
              "#d8576b"
             ],
             [
              0.6666666666666666,
              "#ed7953"
             ],
             [
              0.7777777777777778,
              "#fb9f3a"
             ],
             [
              0.8888888888888888,
              "#fdca26"
             ],
             [
              1,
              "#f0f921"
             ]
            ],
            "type": "heatmap"
           }
          ],
          "heatmapgl": [
           {
            "colorbar": {
             "outlinewidth": 0,
             "ticks": ""
            },
            "colorscale": [
             [
              0,
              "#0d0887"
             ],
             [
              0.1111111111111111,
              "#46039f"
             ],
             [
              0.2222222222222222,
              "#7201a8"
             ],
             [
              0.3333333333333333,
              "#9c179e"
             ],
             [
              0.4444444444444444,
              "#bd3786"
             ],
             [
              0.5555555555555556,
              "#d8576b"
             ],
             [
              0.6666666666666666,
              "#ed7953"
             ],
             [
              0.7777777777777778,
              "#fb9f3a"
             ],
             [
              0.8888888888888888,
              "#fdca26"
             ],
             [
              1,
              "#f0f921"
             ]
            ],
            "type": "heatmapgl"
           }
          ],
          "histogram": [
           {
            "marker": {
             "pattern": {
              "fillmode": "overlay",
              "size": 10,
              "solidity": 0.2
             }
            },
            "type": "histogram"
           }
          ],
          "histogram2d": [
           {
            "colorbar": {
             "outlinewidth": 0,
             "ticks": ""
            },
            "colorscale": [
             [
              0,
              "#0d0887"
             ],
             [
              0.1111111111111111,
              "#46039f"
             ],
             [
              0.2222222222222222,
              "#7201a8"
             ],
             [
              0.3333333333333333,
              "#9c179e"
             ],
             [
              0.4444444444444444,
              "#bd3786"
             ],
             [
              0.5555555555555556,
              "#d8576b"
             ],
             [
              0.6666666666666666,
              "#ed7953"
             ],
             [
              0.7777777777777778,
              "#fb9f3a"
             ],
             [
              0.8888888888888888,
              "#fdca26"
             ],
             [
              1,
              "#f0f921"
             ]
            ],
            "type": "histogram2d"
           }
          ],
          "histogram2dcontour": [
           {
            "colorbar": {
             "outlinewidth": 0,
             "ticks": ""
            },
            "colorscale": [
             [
              0,
              "#0d0887"
             ],
             [
              0.1111111111111111,
              "#46039f"
             ],
             [
              0.2222222222222222,
              "#7201a8"
             ],
             [
              0.3333333333333333,
              "#9c179e"
             ],
             [
              0.4444444444444444,
              "#bd3786"
             ],
             [
              0.5555555555555556,
              "#d8576b"
             ],
             [
              0.6666666666666666,
              "#ed7953"
             ],
             [
              0.7777777777777778,
              "#fb9f3a"
             ],
             [
              0.8888888888888888,
              "#fdca26"
             ],
             [
              1,
              "#f0f921"
             ]
            ],
            "type": "histogram2dcontour"
           }
          ],
          "mesh3d": [
           {
            "colorbar": {
             "outlinewidth": 0,
             "ticks": ""
            },
            "type": "mesh3d"
           }
          ],
          "parcoords": [
           {
            "line": {
             "colorbar": {
              "outlinewidth": 0,
              "ticks": ""
             }
            },
            "type": "parcoords"
           }
          ],
          "pie": [
           {
            "automargin": true,
            "type": "pie"
           }
          ],
          "scatter": [
           {
            "fillpattern": {
             "fillmode": "overlay",
             "size": 10,
             "solidity": 0.2
            },
            "type": "scatter"
           }
          ],
          "scatter3d": [
           {
            "line": {
             "colorbar": {
              "outlinewidth": 0,
              "ticks": ""
             }
            },
            "marker": {
             "colorbar": {
              "outlinewidth": 0,
              "ticks": ""
             }
            },
            "type": "scatter3d"
           }
          ],
          "scattercarpet": [
           {
            "marker": {
             "colorbar": {
              "outlinewidth": 0,
              "ticks": ""
             }
            },
            "type": "scattercarpet"
           }
          ],
          "scattergeo": [
           {
            "marker": {
             "colorbar": {
              "outlinewidth": 0,
              "ticks": ""
             }
            },
            "type": "scattergeo"
           }
          ],
          "scattergl": [
           {
            "marker": {
             "colorbar": {
              "outlinewidth": 0,
              "ticks": ""
             }
            },
            "type": "scattergl"
           }
          ],
          "scattermapbox": [
           {
            "marker": {
             "colorbar": {
              "outlinewidth": 0,
              "ticks": ""
             }
            },
            "type": "scattermapbox"
           }
          ],
          "scatterpolar": [
           {
            "marker": {
             "colorbar": {
              "outlinewidth": 0,
              "ticks": ""
             }
            },
            "type": "scatterpolar"
           }
          ],
          "scatterpolargl": [
           {
            "marker": {
             "colorbar": {
              "outlinewidth": 0,
              "ticks": ""
             }
            },
            "type": "scatterpolargl"
           }
          ],
          "scatterternary": [
           {
            "marker": {
             "colorbar": {
              "outlinewidth": 0,
              "ticks": ""
             }
            },
            "type": "scatterternary"
           }
          ],
          "surface": [
           {
            "colorbar": {
             "outlinewidth": 0,
             "ticks": ""
            },
            "colorscale": [
             [
              0,
              "#0d0887"
             ],
             [
              0.1111111111111111,
              "#46039f"
             ],
             [
              0.2222222222222222,
              "#7201a8"
             ],
             [
              0.3333333333333333,
              "#9c179e"
             ],
             [
              0.4444444444444444,
              "#bd3786"
             ],
             [
              0.5555555555555556,
              "#d8576b"
             ],
             [
              0.6666666666666666,
              "#ed7953"
             ],
             [
              0.7777777777777778,
              "#fb9f3a"
             ],
             [
              0.8888888888888888,
              "#fdca26"
             ],
             [
              1,
              "#f0f921"
             ]
            ],
            "type": "surface"
           }
          ],
          "table": [
           {
            "cells": {
             "fill": {
              "color": "#EBF0F8"
             },
             "line": {
              "color": "white"
             }
            },
            "header": {
             "fill": {
              "color": "#C8D4E3"
             },
             "line": {
              "color": "white"
             }
            },
            "type": "table"
           }
          ]
         },
         "layout": {
          "annotationdefaults": {
           "arrowcolor": "#2a3f5f",
           "arrowhead": 0,
           "arrowwidth": 1
          },
          "autotypenumbers": "strict",
          "coloraxis": {
           "colorbar": {
            "outlinewidth": 0,
            "ticks": ""
           }
          },
          "colorscale": {
           "diverging": [
            [
             0,
             "#8e0152"
            ],
            [
             0.1,
             "#c51b7d"
            ],
            [
             0.2,
             "#de77ae"
            ],
            [
             0.3,
             "#f1b6da"
            ],
            [
             0.4,
             "#fde0ef"
            ],
            [
             0.5,
             "#f7f7f7"
            ],
            [
             0.6,
             "#e6f5d0"
            ],
            [
             0.7,
             "#b8e186"
            ],
            [
             0.8,
             "#7fbc41"
            ],
            [
             0.9,
             "#4d9221"
            ],
            [
             1,
             "#276419"
            ]
           ],
           "sequential": [
            [
             0,
             "#0d0887"
            ],
            [
             0.1111111111111111,
             "#46039f"
            ],
            [
             0.2222222222222222,
             "#7201a8"
            ],
            [
             0.3333333333333333,
             "#9c179e"
            ],
            [
             0.4444444444444444,
             "#bd3786"
            ],
            [
             0.5555555555555556,
             "#d8576b"
            ],
            [
             0.6666666666666666,
             "#ed7953"
            ],
            [
             0.7777777777777778,
             "#fb9f3a"
            ],
            [
             0.8888888888888888,
             "#fdca26"
            ],
            [
             1,
             "#f0f921"
            ]
           ],
           "sequentialminus": [
            [
             0,
             "#0d0887"
            ],
            [
             0.1111111111111111,
             "#46039f"
            ],
            [
             0.2222222222222222,
             "#7201a8"
            ],
            [
             0.3333333333333333,
             "#9c179e"
            ],
            [
             0.4444444444444444,
             "#bd3786"
            ],
            [
             0.5555555555555556,
             "#d8576b"
            ],
            [
             0.6666666666666666,
             "#ed7953"
            ],
            [
             0.7777777777777778,
             "#fb9f3a"
            ],
            [
             0.8888888888888888,
             "#fdca26"
            ],
            [
             1,
             "#f0f921"
            ]
           ]
          },
          "colorway": [
           "#636efa",
           "#EF553B",
           "#00cc96",
           "#ab63fa",
           "#FFA15A",
           "#19d3f3",
           "#FF6692",
           "#B6E880",
           "#FF97FF",
           "#FECB52"
          ],
          "font": {
           "color": "#2a3f5f"
          },
          "geo": {
           "bgcolor": "white",
           "lakecolor": "white",
           "landcolor": "#E5ECF6",
           "showlakes": true,
           "showland": true,
           "subunitcolor": "white"
          },
          "hoverlabel": {
           "align": "left"
          },
          "hovermode": "closest",
          "mapbox": {
           "style": "light"
          },
          "paper_bgcolor": "white",
          "plot_bgcolor": "#E5ECF6",
          "polar": {
           "angularaxis": {
            "gridcolor": "white",
            "linecolor": "white",
            "ticks": ""
           },
           "bgcolor": "#E5ECF6",
           "radialaxis": {
            "gridcolor": "white",
            "linecolor": "white",
            "ticks": ""
           }
          },
          "scene": {
           "xaxis": {
            "backgroundcolor": "#E5ECF6",
            "gridcolor": "white",
            "gridwidth": 2,
            "linecolor": "white",
            "showbackground": true,
            "ticks": "",
            "zerolinecolor": "white"
           },
           "yaxis": {
            "backgroundcolor": "#E5ECF6",
            "gridcolor": "white",
            "gridwidth": 2,
            "linecolor": "white",
            "showbackground": true,
            "ticks": "",
            "zerolinecolor": "white"
           },
           "zaxis": {
            "backgroundcolor": "#E5ECF6",
            "gridcolor": "white",
            "gridwidth": 2,
            "linecolor": "white",
            "showbackground": true,
            "ticks": "",
            "zerolinecolor": "white"
           }
          },
          "shapedefaults": {
           "line": {
            "color": "#2a3f5f"
           }
          },
          "ternary": {
           "aaxis": {
            "gridcolor": "white",
            "linecolor": "white",
            "ticks": ""
           },
           "baxis": {
            "gridcolor": "white",
            "linecolor": "white",
            "ticks": ""
           },
           "bgcolor": "#E5ECF6",
           "caxis": {
            "gridcolor": "white",
            "linecolor": "white",
            "ticks": ""
           }
          },
          "title": {
           "x": 0.05
          },
          "xaxis": {
           "automargin": true,
           "gridcolor": "white",
           "linecolor": "white",
           "ticks": "",
           "title": {
            "standoff": 15
           },
           "zerolinecolor": "white",
           "zerolinewidth": 2
          },
          "yaxis": {
           "automargin": true,
           "gridcolor": "white",
           "linecolor": "white",
           "ticks": "",
           "title": {
            "standoff": 15
           },
           "zerolinecolor": "white",
           "zerolinewidth": 2
          }
         }
        },
        "title": {
         "text": "Top 20 Player of the Match Winners"
        },
        "xaxis": {
         "anchor": "y",
         "domain": [
          0,
          1
         ],
         "title": {
          "text": "Count"
         }
        },
        "yaxis": {
         "anchor": "x",
         "domain": [
          0,
          1
         ],
         "title": {
          "text": "pom"
         }
        }
       }
      }
     },
     "metadata": {},
     "output_type": "display_data"
    }
   ],
   "source": [
    "fig = px.bar(pom, y=pom.index, x=pom.values, orientation='h', \n",
    "             labels={'x': 'Count', 'y': 'Player of the Match'}, title='Top 20 Player of the Match Winners')\n",
    "fig.show()"
   ]
  },
  {
   "cell_type": "code",
   "execution_count": 20,
   "id": "94e46c51",
   "metadata": {
    "execution": {
     "iopub.execute_input": "2024-03-18T06:08:11.901182Z",
     "iopub.status.busy": "2024-03-18T06:08:11.900726Z",
     "iopub.status.idle": "2024-03-18T06:08:11.907194Z",
     "shell.execute_reply": "2024-03-18T06:08:11.905968Z"
    },
    "papermill": {
     "duration": 0.023612,
     "end_time": "2024-03-18T06:08:11.909427",
     "exception": false,
     "start_time": "2024-03-18T06:08:11.885815",
     "status": "completed"
    },
    "tags": []
   },
   "outputs": [],
   "source": [
    "ump1 = data['umpire1'].value_counts()"
   ]
  },
  {
   "cell_type": "code",
   "execution_count": 21,
   "id": "7be6eba8",
   "metadata": {
    "execution": {
     "iopub.execute_input": "2024-03-18T06:08:11.939060Z",
     "iopub.status.busy": "2024-03-18T06:08:11.937893Z",
     "iopub.status.idle": "2024-03-18T06:08:11.945344Z",
     "shell.execute_reply": "2024-03-18T06:08:11.944473Z"
    },
    "papermill": {
     "duration": 0.024546,
     "end_time": "2024-03-18T06:08:11.947370",
     "exception": false,
     "start_time": "2024-03-18T06:08:11.922824",
     "status": "completed"
    },
    "tags": []
   },
   "outputs": [
    {
     "data": {
      "text/plain": [
       "62"
      ]
     },
     "execution_count": 21,
     "metadata": {},
     "output_type": "execute_result"
    }
   ],
   "source": [
    "data['umpire1'].nunique()"
   ]
  },
  {
   "cell_type": "code",
   "execution_count": 22,
   "id": "465febed",
   "metadata": {
    "execution": {
     "iopub.execute_input": "2024-03-18T06:08:11.977825Z",
     "iopub.status.busy": "2024-03-18T06:08:11.977094Z",
     "iopub.status.idle": "2024-03-18T06:08:11.982409Z",
     "shell.execute_reply": "2024-03-18T06:08:11.981480Z"
    },
    "papermill": {
     "duration": 0.023408,
     "end_time": "2024-03-18T06:08:11.984621",
     "exception": false,
     "start_time": "2024-03-18T06:08:11.961213",
     "status": "completed"
    },
    "tags": []
   },
   "outputs": [],
   "source": [
    "ump2 = data['umpire2'].value_counts()"
   ]
  },
  {
   "cell_type": "code",
   "execution_count": 23,
   "id": "f838c106",
   "metadata": {
    "execution": {
     "iopub.execute_input": "2024-03-18T06:08:12.013693Z",
     "iopub.status.busy": "2024-03-18T06:08:12.013017Z",
     "iopub.status.idle": "2024-03-18T06:08:12.019094Z",
     "shell.execute_reply": "2024-03-18T06:08:12.018098Z"
    },
    "papermill": {
     "duration": 0.023278,
     "end_time": "2024-03-18T06:08:12.021308",
     "exception": false,
     "start_time": "2024-03-18T06:08:11.998030",
     "status": "completed"
    },
    "tags": []
   },
   "outputs": [
    {
     "data": {
      "text/plain": [
       "64"
      ]
     },
     "execution_count": 23,
     "metadata": {},
     "output_type": "execute_result"
    }
   ],
   "source": [
    "data['umpire2'].nunique()"
   ]
  },
  {
   "cell_type": "code",
   "execution_count": 24,
   "id": "e1321d6a",
   "metadata": {
    "execution": {
     "iopub.execute_input": "2024-03-18T06:08:12.051740Z",
     "iopub.status.busy": "2024-03-18T06:08:12.051021Z",
     "iopub.status.idle": "2024-03-18T06:08:12.056243Z",
     "shell.execute_reply": "2024-03-18T06:08:12.055271Z"
    },
    "papermill": {
     "duration": 0.023232,
     "end_time": "2024-03-18T06:08:12.058510",
     "exception": false,
     "start_time": "2024-03-18T06:08:12.035278",
     "status": "completed"
    },
    "tags": []
   },
   "outputs": [],
   "source": [
    "tvunp = data['tv_umpire'].value_counts()"
   ]
  },
  {
   "cell_type": "code",
   "execution_count": 25,
   "id": "87115b41",
   "metadata": {
    "execution": {
     "iopub.execute_input": "2024-03-18T06:08:12.088608Z",
     "iopub.status.busy": "2024-03-18T06:08:12.087662Z",
     "iopub.status.idle": "2024-03-18T06:08:12.094979Z",
     "shell.execute_reply": "2024-03-18T06:08:12.093948Z"
    },
    "papermill": {
     "duration": 0.02465,
     "end_time": "2024-03-18T06:08:12.097229",
     "exception": false,
     "start_time": "2024-03-18T06:08:12.072579",
     "status": "completed"
    },
    "tags": []
   },
   "outputs": [
    {
     "data": {
      "text/plain": [
       "68"
      ]
     },
     "execution_count": 25,
     "metadata": {},
     "output_type": "execute_result"
    }
   ],
   "source": [
    "data['tv_umpire'].nunique()"
   ]
  },
  {
   "cell_type": "markdown",
   "id": "db4dc2ea",
   "metadata": {
    "papermill": {
     "duration": 0.013272,
     "end_time": "2024-03-18T06:08:12.124156",
     "exception": false,
     "start_time": "2024-03-18T06:08:12.110884",
     "status": "completed"
    },
    "tags": []
   },
   "source": [
    "## Umpire "
   ]
  },
  {
   "cell_type": "code",
   "execution_count": 26,
   "id": "634bbfd9",
   "metadata": {
    "execution": {
     "iopub.execute_input": "2024-03-18T06:08:12.153770Z",
     "iopub.status.busy": "2024-03-18T06:08:12.152959Z",
     "iopub.status.idle": "2024-03-18T06:08:12.211675Z",
     "shell.execute_reply": "2024-03-18T06:08:12.210499Z"
    },
    "papermill": {
     "duration": 0.076535,
     "end_time": "2024-03-18T06:08:12.214136",
     "exception": false,
     "start_time": "2024-03-18T06:08:12.137601",
     "status": "completed"
    },
    "tags": []
   },
   "outputs": [
    {
     "data": {
      "application/vnd.plotly.v1+json": {
       "config": {
        "plotlyServerURL": "https://plot.ly"
       },
       "data": [
        {
         "alignmentgroup": "True",
         "hovertemplate": "Count=%{x}<br>umpire1=%{y}<extra></extra>",
         "legendgroup": "",
         "marker": {
          "color": "#636efa",
          "pattern": {
           "shape": ""
          }
         },
         "name": "",
         "offsetgroup": "",
         "orientation": "h",
         "showlegend": false,
         "textposition": "auto",
         "type": "bar",
         "x": [
          62,
          56,
          52,
          52,
          51,
          36,
          36,
          36,
          33,
          28,
          27,
          27,
          25,
          25,
          23,
          20,
          19,
          18,
          18,
          16,
          15,
          13,
          13,
          12,
          12,
          12,
          12,
          12,
          12,
          11,
          9,
          8,
          8,
          7,
          7,
          6,
          6,
          6,
          6,
          5,
          5,
          5,
          4,
          4,
          3,
          3,
          3,
          2,
          2,
          2,
          2,
          2,
          1,
          1,
          1,
          1,
          1,
          1,
          1,
          1,
          1,
          1
         ],
         "xaxis": "x",
         "y": [
          "KN Ananthapadmanabhan",
          "Kumar Dharmasena",
          "Anil Chaudhary",
          "Chettithody Shamshuddin",
          "Chris Gaffaney",
          "Nitin Menon",
          "Rod Tucker",
          "Vineet Kulkarni",
          "Asad Rauf",
          "Bruce Oxenford",
          "Anil Dandekar",
          "Shavir Tarapore",
          "Marais Erasmus",
          "Yeshwant Barde",
          "Russell Tiffin",
          "Rudi Koertzen",
          "Amiesh Saheba",
          "Nigel Llong",
          "Ulhas Gandhe",
          "Billy Bowden",
          "Johan Cloete",
          "Nand Kishore",
          "Simon Taufel",
          "Jayaraman Madanagopal",
          "Virender Sharma",
          "Aleem Dar",
          "Daryl Harper",
          "Krishna Hariharan",
          "Krishnaraj Srinath",
          "Mark Benson",
          "Sudhir Asnani",
          "Sanjay Hazare",
          "Saiyed Khalid",
          "Billy Doctrove",
          "Michael Gough",
          "Nandan",
          "Rajesh Deshpande",
          "Richard Illingworth",
          "Pashchim Pathak",
          "Gary Baxter",
          "Abhijit Deshmukh",
          "Sundaram Ravi",
          "Navdeep Singh",
          "Paul Reiffel",
          "Steve Davis",
          "Rohan Pandit",
          "Tapan Sharma",
          "Tyron Wijewardene",
          "Ian Howell",
          "Simon Fry",
          "Sadashiv Iyer",
          "Ian Gould",
          "Nikhil Patwardhan",
          "Krishnamachari Bharatan",
          "Saidharshan Kumar",
          "Shashank Ranade",
          "Akshay Totre",
          "Brian Jerling",
          "Narendra Menon",
          "Suresh Shastri",
          "Arani Jayaprakash",
          "Ivaturi Shivram"
         ],
         "yaxis": "y"
        }
       ],
       "layout": {
        "barmode": "relative",
        "legend": {
         "tracegroupgap": 0
        },
        "template": {
         "data": {
          "bar": [
           {
            "error_x": {
             "color": "#2a3f5f"
            },
            "error_y": {
             "color": "#2a3f5f"
            },
            "marker": {
             "line": {
              "color": "#E5ECF6",
              "width": 0.5
             },
             "pattern": {
              "fillmode": "overlay",
              "size": 10,
              "solidity": 0.2
             }
            },
            "type": "bar"
           }
          ],
          "barpolar": [
           {
            "marker": {
             "line": {
              "color": "#E5ECF6",
              "width": 0.5
             },
             "pattern": {
              "fillmode": "overlay",
              "size": 10,
              "solidity": 0.2
             }
            },
            "type": "barpolar"
           }
          ],
          "carpet": [
           {
            "aaxis": {
             "endlinecolor": "#2a3f5f",
             "gridcolor": "white",
             "linecolor": "white",
             "minorgridcolor": "white",
             "startlinecolor": "#2a3f5f"
            },
            "baxis": {
             "endlinecolor": "#2a3f5f",
             "gridcolor": "white",
             "linecolor": "white",
             "minorgridcolor": "white",
             "startlinecolor": "#2a3f5f"
            },
            "type": "carpet"
           }
          ],
          "choropleth": [
           {
            "colorbar": {
             "outlinewidth": 0,
             "ticks": ""
            },
            "type": "choropleth"
           }
          ],
          "contour": [
           {
            "colorbar": {
             "outlinewidth": 0,
             "ticks": ""
            },
            "colorscale": [
             [
              0,
              "#0d0887"
             ],
             [
              0.1111111111111111,
              "#46039f"
             ],
             [
              0.2222222222222222,
              "#7201a8"
             ],
             [
              0.3333333333333333,
              "#9c179e"
             ],
             [
              0.4444444444444444,
              "#bd3786"
             ],
             [
              0.5555555555555556,
              "#d8576b"
             ],
             [
              0.6666666666666666,
              "#ed7953"
             ],
             [
              0.7777777777777778,
              "#fb9f3a"
             ],
             [
              0.8888888888888888,
              "#fdca26"
             ],
             [
              1,
              "#f0f921"
             ]
            ],
            "type": "contour"
           }
          ],
          "contourcarpet": [
           {
            "colorbar": {
             "outlinewidth": 0,
             "ticks": ""
            },
            "type": "contourcarpet"
           }
          ],
          "heatmap": [
           {
            "colorbar": {
             "outlinewidth": 0,
             "ticks": ""
            },
            "colorscale": [
             [
              0,
              "#0d0887"
             ],
             [
              0.1111111111111111,
              "#46039f"
             ],
             [
              0.2222222222222222,
              "#7201a8"
             ],
             [
              0.3333333333333333,
              "#9c179e"
             ],
             [
              0.4444444444444444,
              "#bd3786"
             ],
             [
              0.5555555555555556,
              "#d8576b"
             ],
             [
              0.6666666666666666,
              "#ed7953"
             ],
             [
              0.7777777777777778,
              "#fb9f3a"
             ],
             [
              0.8888888888888888,
              "#fdca26"
             ],
             [
              1,
              "#f0f921"
             ]
            ],
            "type": "heatmap"
           }
          ],
          "heatmapgl": [
           {
            "colorbar": {
             "outlinewidth": 0,
             "ticks": ""
            },
            "colorscale": [
             [
              0,
              "#0d0887"
             ],
             [
              0.1111111111111111,
              "#46039f"
             ],
             [
              0.2222222222222222,
              "#7201a8"
             ],
             [
              0.3333333333333333,
              "#9c179e"
             ],
             [
              0.4444444444444444,
              "#bd3786"
             ],
             [
              0.5555555555555556,
              "#d8576b"
             ],
             [
              0.6666666666666666,
              "#ed7953"
             ],
             [
              0.7777777777777778,
              "#fb9f3a"
             ],
             [
              0.8888888888888888,
              "#fdca26"
             ],
             [
              1,
              "#f0f921"
             ]
            ],
            "type": "heatmapgl"
           }
          ],
          "histogram": [
           {
            "marker": {
             "pattern": {
              "fillmode": "overlay",
              "size": 10,
              "solidity": 0.2
             }
            },
            "type": "histogram"
           }
          ],
          "histogram2d": [
           {
            "colorbar": {
             "outlinewidth": 0,
             "ticks": ""
            },
            "colorscale": [
             [
              0,
              "#0d0887"
             ],
             [
              0.1111111111111111,
              "#46039f"
             ],
             [
              0.2222222222222222,
              "#7201a8"
             ],
             [
              0.3333333333333333,
              "#9c179e"
             ],
             [
              0.4444444444444444,
              "#bd3786"
             ],
             [
              0.5555555555555556,
              "#d8576b"
             ],
             [
              0.6666666666666666,
              "#ed7953"
             ],
             [
              0.7777777777777778,
              "#fb9f3a"
             ],
             [
              0.8888888888888888,
              "#fdca26"
             ],
             [
              1,
              "#f0f921"
             ]
            ],
            "type": "histogram2d"
           }
          ],
          "histogram2dcontour": [
           {
            "colorbar": {
             "outlinewidth": 0,
             "ticks": ""
            },
            "colorscale": [
             [
              0,
              "#0d0887"
             ],
             [
              0.1111111111111111,
              "#46039f"
             ],
             [
              0.2222222222222222,
              "#7201a8"
             ],
             [
              0.3333333333333333,
              "#9c179e"
             ],
             [
              0.4444444444444444,
              "#bd3786"
             ],
             [
              0.5555555555555556,
              "#d8576b"
             ],
             [
              0.6666666666666666,
              "#ed7953"
             ],
             [
              0.7777777777777778,
              "#fb9f3a"
             ],
             [
              0.8888888888888888,
              "#fdca26"
             ],
             [
              1,
              "#f0f921"
             ]
            ],
            "type": "histogram2dcontour"
           }
          ],
          "mesh3d": [
           {
            "colorbar": {
             "outlinewidth": 0,
             "ticks": ""
            },
            "type": "mesh3d"
           }
          ],
          "parcoords": [
           {
            "line": {
             "colorbar": {
              "outlinewidth": 0,
              "ticks": ""
             }
            },
            "type": "parcoords"
           }
          ],
          "pie": [
           {
            "automargin": true,
            "type": "pie"
           }
          ],
          "scatter": [
           {
            "fillpattern": {
             "fillmode": "overlay",
             "size": 10,
             "solidity": 0.2
            },
            "type": "scatter"
           }
          ],
          "scatter3d": [
           {
            "line": {
             "colorbar": {
              "outlinewidth": 0,
              "ticks": ""
             }
            },
            "marker": {
             "colorbar": {
              "outlinewidth": 0,
              "ticks": ""
             }
            },
            "type": "scatter3d"
           }
          ],
          "scattercarpet": [
           {
            "marker": {
             "colorbar": {
              "outlinewidth": 0,
              "ticks": ""
             }
            },
            "type": "scattercarpet"
           }
          ],
          "scattergeo": [
           {
            "marker": {
             "colorbar": {
              "outlinewidth": 0,
              "ticks": ""
             }
            },
            "type": "scattergeo"
           }
          ],
          "scattergl": [
           {
            "marker": {
             "colorbar": {
              "outlinewidth": 0,
              "ticks": ""
             }
            },
            "type": "scattergl"
           }
          ],
          "scattermapbox": [
           {
            "marker": {
             "colorbar": {
              "outlinewidth": 0,
              "ticks": ""
             }
            },
            "type": "scattermapbox"
           }
          ],
          "scatterpolar": [
           {
            "marker": {
             "colorbar": {
              "outlinewidth": 0,
              "ticks": ""
             }
            },
            "type": "scatterpolar"
           }
          ],
          "scatterpolargl": [
           {
            "marker": {
             "colorbar": {
              "outlinewidth": 0,
              "ticks": ""
             }
            },
            "type": "scatterpolargl"
           }
          ],
          "scatterternary": [
           {
            "marker": {
             "colorbar": {
              "outlinewidth": 0,
              "ticks": ""
             }
            },
            "type": "scatterternary"
           }
          ],
          "surface": [
           {
            "colorbar": {
             "outlinewidth": 0,
             "ticks": ""
            },
            "colorscale": [
             [
              0,
              "#0d0887"
             ],
             [
              0.1111111111111111,
              "#46039f"
             ],
             [
              0.2222222222222222,
              "#7201a8"
             ],
             [
              0.3333333333333333,
              "#9c179e"
             ],
             [
              0.4444444444444444,
              "#bd3786"
             ],
             [
              0.5555555555555556,
              "#d8576b"
             ],
             [
              0.6666666666666666,
              "#ed7953"
             ],
             [
              0.7777777777777778,
              "#fb9f3a"
             ],
             [
              0.8888888888888888,
              "#fdca26"
             ],
             [
              1,
              "#f0f921"
             ]
            ],
            "type": "surface"
           }
          ],
          "table": [
           {
            "cells": {
             "fill": {
              "color": "#EBF0F8"
             },
             "line": {
              "color": "white"
             }
            },
            "header": {
             "fill": {
              "color": "#C8D4E3"
             },
             "line": {
              "color": "white"
             }
            },
            "type": "table"
           }
          ]
         },
         "layout": {
          "annotationdefaults": {
           "arrowcolor": "#2a3f5f",
           "arrowhead": 0,
           "arrowwidth": 1
          },
          "autotypenumbers": "strict",
          "coloraxis": {
           "colorbar": {
            "outlinewidth": 0,
            "ticks": ""
           }
          },
          "colorscale": {
           "diverging": [
            [
             0,
             "#8e0152"
            ],
            [
             0.1,
             "#c51b7d"
            ],
            [
             0.2,
             "#de77ae"
            ],
            [
             0.3,
             "#f1b6da"
            ],
            [
             0.4,
             "#fde0ef"
            ],
            [
             0.5,
             "#f7f7f7"
            ],
            [
             0.6,
             "#e6f5d0"
            ],
            [
             0.7,
             "#b8e186"
            ],
            [
             0.8,
             "#7fbc41"
            ],
            [
             0.9,
             "#4d9221"
            ],
            [
             1,
             "#276419"
            ]
           ],
           "sequential": [
            [
             0,
             "#0d0887"
            ],
            [
             0.1111111111111111,
             "#46039f"
            ],
            [
             0.2222222222222222,
             "#7201a8"
            ],
            [
             0.3333333333333333,
             "#9c179e"
            ],
            [
             0.4444444444444444,
             "#bd3786"
            ],
            [
             0.5555555555555556,
             "#d8576b"
            ],
            [
             0.6666666666666666,
             "#ed7953"
            ],
            [
             0.7777777777777778,
             "#fb9f3a"
            ],
            [
             0.8888888888888888,
             "#fdca26"
            ],
            [
             1,
             "#f0f921"
            ]
           ],
           "sequentialminus": [
            [
             0,
             "#0d0887"
            ],
            [
             0.1111111111111111,
             "#46039f"
            ],
            [
             0.2222222222222222,
             "#7201a8"
            ],
            [
             0.3333333333333333,
             "#9c179e"
            ],
            [
             0.4444444444444444,
             "#bd3786"
            ],
            [
             0.5555555555555556,
             "#d8576b"
            ],
            [
             0.6666666666666666,
             "#ed7953"
            ],
            [
             0.7777777777777778,
             "#fb9f3a"
            ],
            [
             0.8888888888888888,
             "#fdca26"
            ],
            [
             1,
             "#f0f921"
            ]
           ]
          },
          "colorway": [
           "#636efa",
           "#EF553B",
           "#00cc96",
           "#ab63fa",
           "#FFA15A",
           "#19d3f3",
           "#FF6692",
           "#B6E880",
           "#FF97FF",
           "#FECB52"
          ],
          "font": {
           "color": "#2a3f5f"
          },
          "geo": {
           "bgcolor": "white",
           "lakecolor": "white",
           "landcolor": "#E5ECF6",
           "showlakes": true,
           "showland": true,
           "subunitcolor": "white"
          },
          "hoverlabel": {
           "align": "left"
          },
          "hovermode": "closest",
          "mapbox": {
           "style": "light"
          },
          "paper_bgcolor": "white",
          "plot_bgcolor": "#E5ECF6",
          "polar": {
           "angularaxis": {
            "gridcolor": "white",
            "linecolor": "white",
            "ticks": ""
           },
           "bgcolor": "#E5ECF6",
           "radialaxis": {
            "gridcolor": "white",
            "linecolor": "white",
            "ticks": ""
           }
          },
          "scene": {
           "xaxis": {
            "backgroundcolor": "#E5ECF6",
            "gridcolor": "white",
            "gridwidth": 2,
            "linecolor": "white",
            "showbackground": true,
            "ticks": "",
            "zerolinecolor": "white"
           },
           "yaxis": {
            "backgroundcolor": "#E5ECF6",
            "gridcolor": "white",
            "gridwidth": 2,
            "linecolor": "white",
            "showbackground": true,
            "ticks": "",
            "zerolinecolor": "white"
           },
           "zaxis": {
            "backgroundcolor": "#E5ECF6",
            "gridcolor": "white",
            "gridwidth": 2,
            "linecolor": "white",
            "showbackground": true,
            "ticks": "",
            "zerolinecolor": "white"
           }
          },
          "shapedefaults": {
           "line": {
            "color": "#2a3f5f"
           }
          },
          "ternary": {
           "aaxis": {
            "gridcolor": "white",
            "linecolor": "white",
            "ticks": ""
           },
           "baxis": {
            "gridcolor": "white",
            "linecolor": "white",
            "ticks": ""
           },
           "bgcolor": "#E5ECF6",
           "caxis": {
            "gridcolor": "white",
            "linecolor": "white",
            "ticks": ""
           }
          },
          "title": {
           "x": 0.05
          },
          "xaxis": {
           "automargin": true,
           "gridcolor": "white",
           "linecolor": "white",
           "ticks": "",
           "title": {
            "standoff": 15
           },
           "zerolinecolor": "white",
           "zerolinewidth": 2
          },
          "yaxis": {
           "automargin": true,
           "gridcolor": "white",
           "linecolor": "white",
           "ticks": "",
           "title": {
            "standoff": 15
           },
           "zerolinecolor": "white",
           "zerolinewidth": 2
          }
         }
        },
        "title": {
         "text": "Top frequent Umpire"
        },
        "xaxis": {
         "anchor": "y",
         "domain": [
          0,
          1
         ],
         "title": {
          "text": "Count"
         }
        },
        "yaxis": {
         "anchor": "x",
         "domain": [
          0,
          1
         ],
         "title": {
          "text": "umpire1"
         }
        }
       }
      }
     },
     "metadata": {},
     "output_type": "display_data"
    }
   ],
   "source": [
    "fig = px.bar(ump1, y=ump1.index, x=ump1.values, orientation='h', \n",
    "             labels={'x': 'Count', 'y': 'Umpire of the Match'}, title='Top frequent Umpire')\n",
    "fig.show()"
   ]
  },
  {
   "cell_type": "code",
   "execution_count": 27,
   "id": "20d774fa",
   "metadata": {
    "execution": {
     "iopub.execute_input": "2024-03-18T06:08:12.251576Z",
     "iopub.status.busy": "2024-03-18T06:08:12.250824Z",
     "iopub.status.idle": "2024-03-18T06:08:12.311104Z",
     "shell.execute_reply": "2024-03-18T06:08:12.310039Z"
    },
    "papermill": {
     "duration": 0.077701,
     "end_time": "2024-03-18T06:08:12.313541",
     "exception": false,
     "start_time": "2024-03-18T06:08:12.235840",
     "status": "completed"
    },
    "tags": []
   },
   "outputs": [
    {
     "data": {
      "application/vnd.plotly.v1+json": {
       "config": {
        "plotlyServerURL": "https://plot.ly"
       },
       "data": [
        {
         "alignmentgroup": "True",
         "hovertemplate": "Count=%{x}<br>umpire2=%{y}<extra></extra>",
         "legendgroup": "",
         "marker": {
          "color": "#636efa",
          "pattern": {
           "shape": ""
          }
         },
         "name": "",
         "offsetgroup": "",
         "orientation": "h",
         "showlegend": false,
         "textposition": "auto",
         "type": "bar",
         "x": [
          112,
          57,
          46,
          42,
          38,
          35,
          29,
          28,
          27,
          26,
          26,
          24,
          22,
          21,
          20,
          18,
          17,
          15,
          14,
          13,
          13,
          12,
          12,
          11,
          11,
          11,
          10,
          9,
          9,
          9,
          9,
          8,
          8,
          8,
          8,
          8,
          7,
          7,
          7,
          7,
          7,
          6,
          6,
          5,
          5,
          5,
          5,
          4,
          4,
          4,
          4,
          4,
          4,
          3,
          3,
          3,
          3,
          2,
          2,
          2,
          1,
          1,
          1,
          1
         ],
         "xaxis": "x",
         "y": [
          "Sundaram Ravi",
          "Anil Chaudhary",
          "Nandan",
          "Nitin Menon",
          "Virender Sharma",
          "Marais Erasmus",
          "Richard Illingworth",
          "Chettithody Shamshuddin",
          "Bruce Oxenford",
          "Simon Taufel",
          "Billy Doctrove",
          "Aleem Dar",
          "Kumar Dharmasena",
          "Sudhir Asnani",
          "Paul Reiffel",
          "Rod Tucker",
          "Nand Kishore",
          "Subrat Das",
          "Chris Gaffaney",
          "Rudi Koertzen",
          "Brian Jerling",
          "Billy Bowden",
          "Vineet Kulkarni",
          "Nigel Llong",
          "Nikhil Patwardhan",
          "Suresh Shastri",
          "Sadashiv Iyer",
          "Asad Rauf",
          "Daryl Harper",
          "Michael Gough",
          "Pashchim Pathak",
          "Yeshwant Barde",
          "Ian Howell",
          "Rohan Pandit",
          "Sanjay Hazare",
          "Tapan Sharma",
          "Abhijit Deshmukh",
          "Krishna Hariharan",
          "Vinod Seshan",
          "Krishnamachari Srinivasan",
          "Navdeep Singh",
          "Nitin Pandit",
          "Tony Hill",
          "Akshay Totre",
          "Chirra Ravikanthreddy",
          "Saidharshan Kumar",
          "Jayaraman Madanagopal",
          "Anil Dandekar",
          "Saiyed Khalid",
          "Arani Jayaprakash",
          "Ulhas Gandhe",
          "Ivaturi Shivram",
          "Simon Fry",
          "Tyron Wijewardene",
          "GA Pratapkumar",
          "Ian Gould",
          "Krishnaraj Srinath",
          "Shavir Tarapore",
          "Russell Tiffin",
          "Steve Davis",
          "Shashank Ranade",
          "Gary Baxter",
          "Subroto Das",
          "Rajesh Deshpande"
         ],
         "yaxis": "y"
        }
       ],
       "layout": {
        "barmode": "relative",
        "legend": {
         "tracegroupgap": 0
        },
        "template": {
         "data": {
          "bar": [
           {
            "error_x": {
             "color": "#2a3f5f"
            },
            "error_y": {
             "color": "#2a3f5f"
            },
            "marker": {
             "line": {
              "color": "#E5ECF6",
              "width": 0.5
             },
             "pattern": {
              "fillmode": "overlay",
              "size": 10,
              "solidity": 0.2
             }
            },
            "type": "bar"
           }
          ],
          "barpolar": [
           {
            "marker": {
             "line": {
              "color": "#E5ECF6",
              "width": 0.5
             },
             "pattern": {
              "fillmode": "overlay",
              "size": 10,
              "solidity": 0.2
             }
            },
            "type": "barpolar"
           }
          ],
          "carpet": [
           {
            "aaxis": {
             "endlinecolor": "#2a3f5f",
             "gridcolor": "white",
             "linecolor": "white",
             "minorgridcolor": "white",
             "startlinecolor": "#2a3f5f"
            },
            "baxis": {
             "endlinecolor": "#2a3f5f",
             "gridcolor": "white",
             "linecolor": "white",
             "minorgridcolor": "white",
             "startlinecolor": "#2a3f5f"
            },
            "type": "carpet"
           }
          ],
          "choropleth": [
           {
            "colorbar": {
             "outlinewidth": 0,
             "ticks": ""
            },
            "type": "choropleth"
           }
          ],
          "contour": [
           {
            "colorbar": {
             "outlinewidth": 0,
             "ticks": ""
            },
            "colorscale": [
             [
              0,
              "#0d0887"
             ],
             [
              0.1111111111111111,
              "#46039f"
             ],
             [
              0.2222222222222222,
              "#7201a8"
             ],
             [
              0.3333333333333333,
              "#9c179e"
             ],
             [
              0.4444444444444444,
              "#bd3786"
             ],
             [
              0.5555555555555556,
              "#d8576b"
             ],
             [
              0.6666666666666666,
              "#ed7953"
             ],
             [
              0.7777777777777778,
              "#fb9f3a"
             ],
             [
              0.8888888888888888,
              "#fdca26"
             ],
             [
              1,
              "#f0f921"
             ]
            ],
            "type": "contour"
           }
          ],
          "contourcarpet": [
           {
            "colorbar": {
             "outlinewidth": 0,
             "ticks": ""
            },
            "type": "contourcarpet"
           }
          ],
          "heatmap": [
           {
            "colorbar": {
             "outlinewidth": 0,
             "ticks": ""
            },
            "colorscale": [
             [
              0,
              "#0d0887"
             ],
             [
              0.1111111111111111,
              "#46039f"
             ],
             [
              0.2222222222222222,
              "#7201a8"
             ],
             [
              0.3333333333333333,
              "#9c179e"
             ],
             [
              0.4444444444444444,
              "#bd3786"
             ],
             [
              0.5555555555555556,
              "#d8576b"
             ],
             [
              0.6666666666666666,
              "#ed7953"
             ],
             [
              0.7777777777777778,
              "#fb9f3a"
             ],
             [
              0.8888888888888888,
              "#fdca26"
             ],
             [
              1,
              "#f0f921"
             ]
            ],
            "type": "heatmap"
           }
          ],
          "heatmapgl": [
           {
            "colorbar": {
             "outlinewidth": 0,
             "ticks": ""
            },
            "colorscale": [
             [
              0,
              "#0d0887"
             ],
             [
              0.1111111111111111,
              "#46039f"
             ],
             [
              0.2222222222222222,
              "#7201a8"
             ],
             [
              0.3333333333333333,
              "#9c179e"
             ],
             [
              0.4444444444444444,
              "#bd3786"
             ],
             [
              0.5555555555555556,
              "#d8576b"
             ],
             [
              0.6666666666666666,
              "#ed7953"
             ],
             [
              0.7777777777777778,
              "#fb9f3a"
             ],
             [
              0.8888888888888888,
              "#fdca26"
             ],
             [
              1,
              "#f0f921"
             ]
            ],
            "type": "heatmapgl"
           }
          ],
          "histogram": [
           {
            "marker": {
             "pattern": {
              "fillmode": "overlay",
              "size": 10,
              "solidity": 0.2
             }
            },
            "type": "histogram"
           }
          ],
          "histogram2d": [
           {
            "colorbar": {
             "outlinewidth": 0,
             "ticks": ""
            },
            "colorscale": [
             [
              0,
              "#0d0887"
             ],
             [
              0.1111111111111111,
              "#46039f"
             ],
             [
              0.2222222222222222,
              "#7201a8"
             ],
             [
              0.3333333333333333,
              "#9c179e"
             ],
             [
              0.4444444444444444,
              "#bd3786"
             ],
             [
              0.5555555555555556,
              "#d8576b"
             ],
             [
              0.6666666666666666,
              "#ed7953"
             ],
             [
              0.7777777777777778,
              "#fb9f3a"
             ],
             [
              0.8888888888888888,
              "#fdca26"
             ],
             [
              1,
              "#f0f921"
             ]
            ],
            "type": "histogram2d"
           }
          ],
          "histogram2dcontour": [
           {
            "colorbar": {
             "outlinewidth": 0,
             "ticks": ""
            },
            "colorscale": [
             [
              0,
              "#0d0887"
             ],
             [
              0.1111111111111111,
              "#46039f"
             ],
             [
              0.2222222222222222,
              "#7201a8"
             ],
             [
              0.3333333333333333,
              "#9c179e"
             ],
             [
              0.4444444444444444,
              "#bd3786"
             ],
             [
              0.5555555555555556,
              "#d8576b"
             ],
             [
              0.6666666666666666,
              "#ed7953"
             ],
             [
              0.7777777777777778,
              "#fb9f3a"
             ],
             [
              0.8888888888888888,
              "#fdca26"
             ],
             [
              1,
              "#f0f921"
             ]
            ],
            "type": "histogram2dcontour"
           }
          ],
          "mesh3d": [
           {
            "colorbar": {
             "outlinewidth": 0,
             "ticks": ""
            },
            "type": "mesh3d"
           }
          ],
          "parcoords": [
           {
            "line": {
             "colorbar": {
              "outlinewidth": 0,
              "ticks": ""
             }
            },
            "type": "parcoords"
           }
          ],
          "pie": [
           {
            "automargin": true,
            "type": "pie"
           }
          ],
          "scatter": [
           {
            "fillpattern": {
             "fillmode": "overlay",
             "size": 10,
             "solidity": 0.2
            },
            "type": "scatter"
           }
          ],
          "scatter3d": [
           {
            "line": {
             "colorbar": {
              "outlinewidth": 0,
              "ticks": ""
             }
            },
            "marker": {
             "colorbar": {
              "outlinewidth": 0,
              "ticks": ""
             }
            },
            "type": "scatter3d"
           }
          ],
          "scattercarpet": [
           {
            "marker": {
             "colorbar": {
              "outlinewidth": 0,
              "ticks": ""
             }
            },
            "type": "scattercarpet"
           }
          ],
          "scattergeo": [
           {
            "marker": {
             "colorbar": {
              "outlinewidth": 0,
              "ticks": ""
             }
            },
            "type": "scattergeo"
           }
          ],
          "scattergl": [
           {
            "marker": {
             "colorbar": {
              "outlinewidth": 0,
              "ticks": ""
             }
            },
            "type": "scattergl"
           }
          ],
          "scattermapbox": [
           {
            "marker": {
             "colorbar": {
              "outlinewidth": 0,
              "ticks": ""
             }
            },
            "type": "scattermapbox"
           }
          ],
          "scatterpolar": [
           {
            "marker": {
             "colorbar": {
              "outlinewidth": 0,
              "ticks": ""
             }
            },
            "type": "scatterpolar"
           }
          ],
          "scatterpolargl": [
           {
            "marker": {
             "colorbar": {
              "outlinewidth": 0,
              "ticks": ""
             }
            },
            "type": "scatterpolargl"
           }
          ],
          "scatterternary": [
           {
            "marker": {
             "colorbar": {
              "outlinewidth": 0,
              "ticks": ""
             }
            },
            "type": "scatterternary"
           }
          ],
          "surface": [
           {
            "colorbar": {
             "outlinewidth": 0,
             "ticks": ""
            },
            "colorscale": [
             [
              0,
              "#0d0887"
             ],
             [
              0.1111111111111111,
              "#46039f"
             ],
             [
              0.2222222222222222,
              "#7201a8"
             ],
             [
              0.3333333333333333,
              "#9c179e"
             ],
             [
              0.4444444444444444,
              "#bd3786"
             ],
             [
              0.5555555555555556,
              "#d8576b"
             ],
             [
              0.6666666666666666,
              "#ed7953"
             ],
             [
              0.7777777777777778,
              "#fb9f3a"
             ],
             [
              0.8888888888888888,
              "#fdca26"
             ],
             [
              1,
              "#f0f921"
             ]
            ],
            "type": "surface"
           }
          ],
          "table": [
           {
            "cells": {
             "fill": {
              "color": "#EBF0F8"
             },
             "line": {
              "color": "white"
             }
            },
            "header": {
             "fill": {
              "color": "#C8D4E3"
             },
             "line": {
              "color": "white"
             }
            },
            "type": "table"
           }
          ]
         },
         "layout": {
          "annotationdefaults": {
           "arrowcolor": "#2a3f5f",
           "arrowhead": 0,
           "arrowwidth": 1
          },
          "autotypenumbers": "strict",
          "coloraxis": {
           "colorbar": {
            "outlinewidth": 0,
            "ticks": ""
           }
          },
          "colorscale": {
           "diverging": [
            [
             0,
             "#8e0152"
            ],
            [
             0.1,
             "#c51b7d"
            ],
            [
             0.2,
             "#de77ae"
            ],
            [
             0.3,
             "#f1b6da"
            ],
            [
             0.4,
             "#fde0ef"
            ],
            [
             0.5,
             "#f7f7f7"
            ],
            [
             0.6,
             "#e6f5d0"
            ],
            [
             0.7,
             "#b8e186"
            ],
            [
             0.8,
             "#7fbc41"
            ],
            [
             0.9,
             "#4d9221"
            ],
            [
             1,
             "#276419"
            ]
           ],
           "sequential": [
            [
             0,
             "#0d0887"
            ],
            [
             0.1111111111111111,
             "#46039f"
            ],
            [
             0.2222222222222222,
             "#7201a8"
            ],
            [
             0.3333333333333333,
             "#9c179e"
            ],
            [
             0.4444444444444444,
             "#bd3786"
            ],
            [
             0.5555555555555556,
             "#d8576b"
            ],
            [
             0.6666666666666666,
             "#ed7953"
            ],
            [
             0.7777777777777778,
             "#fb9f3a"
            ],
            [
             0.8888888888888888,
             "#fdca26"
            ],
            [
             1,
             "#f0f921"
            ]
           ],
           "sequentialminus": [
            [
             0,
             "#0d0887"
            ],
            [
             0.1111111111111111,
             "#46039f"
            ],
            [
             0.2222222222222222,
             "#7201a8"
            ],
            [
             0.3333333333333333,
             "#9c179e"
            ],
            [
             0.4444444444444444,
             "#bd3786"
            ],
            [
             0.5555555555555556,
             "#d8576b"
            ],
            [
             0.6666666666666666,
             "#ed7953"
            ],
            [
             0.7777777777777778,
             "#fb9f3a"
            ],
            [
             0.8888888888888888,
             "#fdca26"
            ],
            [
             1,
             "#f0f921"
            ]
           ]
          },
          "colorway": [
           "#636efa",
           "#EF553B",
           "#00cc96",
           "#ab63fa",
           "#FFA15A",
           "#19d3f3",
           "#FF6692",
           "#B6E880",
           "#FF97FF",
           "#FECB52"
          ],
          "font": {
           "color": "#2a3f5f"
          },
          "geo": {
           "bgcolor": "white",
           "lakecolor": "white",
           "landcolor": "#E5ECF6",
           "showlakes": true,
           "showland": true,
           "subunitcolor": "white"
          },
          "hoverlabel": {
           "align": "left"
          },
          "hovermode": "closest",
          "mapbox": {
           "style": "light"
          },
          "paper_bgcolor": "white",
          "plot_bgcolor": "#E5ECF6",
          "polar": {
           "angularaxis": {
            "gridcolor": "white",
            "linecolor": "white",
            "ticks": ""
           },
           "bgcolor": "#E5ECF6",
           "radialaxis": {
            "gridcolor": "white",
            "linecolor": "white",
            "ticks": ""
           }
          },
          "scene": {
           "xaxis": {
            "backgroundcolor": "#E5ECF6",
            "gridcolor": "white",
            "gridwidth": 2,
            "linecolor": "white",
            "showbackground": true,
            "ticks": "",
            "zerolinecolor": "white"
           },
           "yaxis": {
            "backgroundcolor": "#E5ECF6",
            "gridcolor": "white",
            "gridwidth": 2,
            "linecolor": "white",
            "showbackground": true,
            "ticks": "",
            "zerolinecolor": "white"
           },
           "zaxis": {
            "backgroundcolor": "#E5ECF6",
            "gridcolor": "white",
            "gridwidth": 2,
            "linecolor": "white",
            "showbackground": true,
            "ticks": "",
            "zerolinecolor": "white"
           }
          },
          "shapedefaults": {
           "line": {
            "color": "#2a3f5f"
           }
          },
          "ternary": {
           "aaxis": {
            "gridcolor": "white",
            "linecolor": "white",
            "ticks": ""
           },
           "baxis": {
            "gridcolor": "white",
            "linecolor": "white",
            "ticks": ""
           },
           "bgcolor": "#E5ECF6",
           "caxis": {
            "gridcolor": "white",
            "linecolor": "white",
            "ticks": ""
           }
          },
          "title": {
           "x": 0.05
          },
          "xaxis": {
           "automargin": true,
           "gridcolor": "white",
           "linecolor": "white",
           "ticks": "",
           "title": {
            "standoff": 15
           },
           "zerolinecolor": "white",
           "zerolinewidth": 2
          },
          "yaxis": {
           "automargin": true,
           "gridcolor": "white",
           "linecolor": "white",
           "ticks": "",
           "title": {
            "standoff": 15
           },
           "zerolinecolor": "white",
           "zerolinewidth": 2
          }
         }
        },
        "title": {
         "text": "Top frequent Umpire"
        },
        "xaxis": {
         "anchor": "y",
         "domain": [
          0,
          1
         ],
         "title": {
          "text": "Count"
         }
        },
        "yaxis": {
         "anchor": "x",
         "domain": [
          0,
          1
         ],
         "title": {
          "text": "umpire2"
         }
        }
       }
      }
     },
     "metadata": {},
     "output_type": "display_data"
    }
   ],
   "source": [
    "fig = px.bar(ump2, y=ump2.index, x=ump2.values, orientation='h', \n",
    "             labels={'x': 'Count', 'y': 'Umpire of the Match'}, title='Top frequent Umpire')\n",
    "fig.show()"
   ]
  },
  {
   "cell_type": "markdown",
   "id": "0ca22f95",
   "metadata": {
    "papermill": {
     "duration": 0.013799,
     "end_time": "2024-03-18T06:08:12.341628",
     "exception": false,
     "start_time": "2024-03-18T06:08:12.327829",
     "status": "completed"
    },
    "tags": []
   },
   "source": [
    "## Tv_umpire"
   ]
  },
  {
   "cell_type": "code",
   "execution_count": 28,
   "id": "1442d875",
   "metadata": {
    "execution": {
     "iopub.execute_input": "2024-03-18T06:08:12.372156Z",
     "iopub.status.busy": "2024-03-18T06:08:12.371359Z",
     "iopub.status.idle": "2024-03-18T06:08:12.433757Z",
     "shell.execute_reply": "2024-03-18T06:08:12.432490Z"
    },
    "papermill": {
     "duration": 0.081313,
     "end_time": "2024-03-18T06:08:12.436966",
     "exception": false,
     "start_time": "2024-03-18T06:08:12.355653",
     "status": "completed"
    },
    "tags": []
   },
   "outputs": [
    {
     "data": {
      "application/vnd.plotly.v1+json": {
       "config": {
        "plotlyServerURL": "https://plot.ly"
       },
       "data": [
        {
         "alignmentgroup": "True",
         "hovertemplate": "Count=%{x}<br>tv_umpire=%{y}<extra></extra>",
         "legendgroup": "",
         "marker": {
          "color": "#636efa",
          "pattern": {
           "shape": ""
          }
         },
         "name": "",
         "offsetgroup": "",
         "orientation": "h",
         "showlegend": false,
         "textposition": "auto",
         "type": "bar",
         "x": [
          56,
          54,
          44,
          36,
          36,
          35,
          34,
          33,
          32,
          31,
          27,
          23,
          21,
          20,
          20,
          19,
          17,
          17,
          17,
          17,
          16,
          15,
          15,
          14,
          13,
          13,
          12,
          11,
          11,
          11,
          11,
          10,
          10,
          10,
          10,
          10,
          9,
          8,
          8,
          7,
          7,
          7,
          6,
          5,
          5,
          4,
          4,
          4,
          4,
          4,
          4,
          4,
          3,
          3,
          2,
          2,
          2,
          2,
          2,
          2,
          2,
          2,
          1,
          1,
          1,
          1,
          1,
          1
         ],
         "xaxis": "x",
         "y": [
          "Anil Chaudhary",
          "Sundaram Ravi",
          "Chettithody Shamshuddin",
          "Nandan",
          "KN Ananthapadmanabhan",
          "Chris Gaffaney",
          "Nitin Menon",
          "Vineet Kulkarni",
          "Sudhir Asnani",
          "Virender Sharma",
          "Yeshwant Barde",
          "Bruce Oxenford",
          "Anil Dandekar",
          "Krishnaraj Srinath",
          "Kumar Dharmasena",
          "Shavir Tarapore",
          "Marais Erasmus",
          "Sanjay Hazare",
          "Krishna Hariharan",
          "Nand Kishore",
          "Subrat Das",
          "Pashchim Pathak",
          "Jayaraman Madanagopal",
          "Suresh Shastri",
          "Amiesh Saheba",
          "Rod Tucker",
          "Ulhas Gandhe",
          "Billy Bowden",
          "Johan Cloete",
          "Krishnamachari Srinivasan",
          "Rajesh Deshpande",
          "Navdeep Singh",
          "Russell Tiffin",
          "Brian Jerling",
          "Aleem Dar",
          "Paul Reiffel",
          "Saiyed Khalid",
          "Simon Taufel",
          "Michael Gough",
          "Billy Doctrove",
          "Nigel Llong",
          "Richard Illingworth",
          "Asad Rauf",
          "Tapan Sharma",
          "Krishnamachari Bharatan",
          "Daryl Harper",
          "Steve Davis",
          "Abhijit Deshmukh",
          "Ivaturi Shivram",
          "Mark Benson",
          "Shashank Ranade",
          "Rudi Koertzen",
          "Rohan Pandit",
          "Tyron Wijewardene",
          "Ian Howell",
          "Gary Baxter",
          "Simon Fry",
          "Akshay Totre",
          "Sadashiv Iyer",
          "Saidharshan Kumar",
          "Tony Hill",
          "Ian Gould",
          "Vinod Seshan",
          "Nikhil Patwardhan",
          "Arani Jayaprakash",
          "Subroto Das",
          "GA Pratapkumar",
          "Jasbir Singh"
         ],
         "yaxis": "y"
        }
       ],
       "layout": {
        "barmode": "relative",
        "legend": {
         "tracegroupgap": 0
        },
        "template": {
         "data": {
          "bar": [
           {
            "error_x": {
             "color": "#2a3f5f"
            },
            "error_y": {
             "color": "#2a3f5f"
            },
            "marker": {
             "line": {
              "color": "#E5ECF6",
              "width": 0.5
             },
             "pattern": {
              "fillmode": "overlay",
              "size": 10,
              "solidity": 0.2
             }
            },
            "type": "bar"
           }
          ],
          "barpolar": [
           {
            "marker": {
             "line": {
              "color": "#E5ECF6",
              "width": 0.5
             },
             "pattern": {
              "fillmode": "overlay",
              "size": 10,
              "solidity": 0.2
             }
            },
            "type": "barpolar"
           }
          ],
          "carpet": [
           {
            "aaxis": {
             "endlinecolor": "#2a3f5f",
             "gridcolor": "white",
             "linecolor": "white",
             "minorgridcolor": "white",
             "startlinecolor": "#2a3f5f"
            },
            "baxis": {
             "endlinecolor": "#2a3f5f",
             "gridcolor": "white",
             "linecolor": "white",
             "minorgridcolor": "white",
             "startlinecolor": "#2a3f5f"
            },
            "type": "carpet"
           }
          ],
          "choropleth": [
           {
            "colorbar": {
             "outlinewidth": 0,
             "ticks": ""
            },
            "type": "choropleth"
           }
          ],
          "contour": [
           {
            "colorbar": {
             "outlinewidth": 0,
             "ticks": ""
            },
            "colorscale": [
             [
              0,
              "#0d0887"
             ],
             [
              0.1111111111111111,
              "#46039f"
             ],
             [
              0.2222222222222222,
              "#7201a8"
             ],
             [
              0.3333333333333333,
              "#9c179e"
             ],
             [
              0.4444444444444444,
              "#bd3786"
             ],
             [
              0.5555555555555556,
              "#d8576b"
             ],
             [
              0.6666666666666666,
              "#ed7953"
             ],
             [
              0.7777777777777778,
              "#fb9f3a"
             ],
             [
              0.8888888888888888,
              "#fdca26"
             ],
             [
              1,
              "#f0f921"
             ]
            ],
            "type": "contour"
           }
          ],
          "contourcarpet": [
           {
            "colorbar": {
             "outlinewidth": 0,
             "ticks": ""
            },
            "type": "contourcarpet"
           }
          ],
          "heatmap": [
           {
            "colorbar": {
             "outlinewidth": 0,
             "ticks": ""
            },
            "colorscale": [
             [
              0,
              "#0d0887"
             ],
             [
              0.1111111111111111,
              "#46039f"
             ],
             [
              0.2222222222222222,
              "#7201a8"
             ],
             [
              0.3333333333333333,
              "#9c179e"
             ],
             [
              0.4444444444444444,
              "#bd3786"
             ],
             [
              0.5555555555555556,
              "#d8576b"
             ],
             [
              0.6666666666666666,
              "#ed7953"
             ],
             [
              0.7777777777777778,
              "#fb9f3a"
             ],
             [
              0.8888888888888888,
              "#fdca26"
             ],
             [
              1,
              "#f0f921"
             ]
            ],
            "type": "heatmap"
           }
          ],
          "heatmapgl": [
           {
            "colorbar": {
             "outlinewidth": 0,
             "ticks": ""
            },
            "colorscale": [
             [
              0,
              "#0d0887"
             ],
             [
              0.1111111111111111,
              "#46039f"
             ],
             [
              0.2222222222222222,
              "#7201a8"
             ],
             [
              0.3333333333333333,
              "#9c179e"
             ],
             [
              0.4444444444444444,
              "#bd3786"
             ],
             [
              0.5555555555555556,
              "#d8576b"
             ],
             [
              0.6666666666666666,
              "#ed7953"
             ],
             [
              0.7777777777777778,
              "#fb9f3a"
             ],
             [
              0.8888888888888888,
              "#fdca26"
             ],
             [
              1,
              "#f0f921"
             ]
            ],
            "type": "heatmapgl"
           }
          ],
          "histogram": [
           {
            "marker": {
             "pattern": {
              "fillmode": "overlay",
              "size": 10,
              "solidity": 0.2
             }
            },
            "type": "histogram"
           }
          ],
          "histogram2d": [
           {
            "colorbar": {
             "outlinewidth": 0,
             "ticks": ""
            },
            "colorscale": [
             [
              0,
              "#0d0887"
             ],
             [
              0.1111111111111111,
              "#46039f"
             ],
             [
              0.2222222222222222,
              "#7201a8"
             ],
             [
              0.3333333333333333,
              "#9c179e"
             ],
             [
              0.4444444444444444,
              "#bd3786"
             ],
             [
              0.5555555555555556,
              "#d8576b"
             ],
             [
              0.6666666666666666,
              "#ed7953"
             ],
             [
              0.7777777777777778,
              "#fb9f3a"
             ],
             [
              0.8888888888888888,
              "#fdca26"
             ],
             [
              1,
              "#f0f921"
             ]
            ],
            "type": "histogram2d"
           }
          ],
          "histogram2dcontour": [
           {
            "colorbar": {
             "outlinewidth": 0,
             "ticks": ""
            },
            "colorscale": [
             [
              0,
              "#0d0887"
             ],
             [
              0.1111111111111111,
              "#46039f"
             ],
             [
              0.2222222222222222,
              "#7201a8"
             ],
             [
              0.3333333333333333,
              "#9c179e"
             ],
             [
              0.4444444444444444,
              "#bd3786"
             ],
             [
              0.5555555555555556,
              "#d8576b"
             ],
             [
              0.6666666666666666,
              "#ed7953"
             ],
             [
              0.7777777777777778,
              "#fb9f3a"
             ],
             [
              0.8888888888888888,
              "#fdca26"
             ],
             [
              1,
              "#f0f921"
             ]
            ],
            "type": "histogram2dcontour"
           }
          ],
          "mesh3d": [
           {
            "colorbar": {
             "outlinewidth": 0,
             "ticks": ""
            },
            "type": "mesh3d"
           }
          ],
          "parcoords": [
           {
            "line": {
             "colorbar": {
              "outlinewidth": 0,
              "ticks": ""
             }
            },
            "type": "parcoords"
           }
          ],
          "pie": [
           {
            "automargin": true,
            "type": "pie"
           }
          ],
          "scatter": [
           {
            "fillpattern": {
             "fillmode": "overlay",
             "size": 10,
             "solidity": 0.2
            },
            "type": "scatter"
           }
          ],
          "scatter3d": [
           {
            "line": {
             "colorbar": {
              "outlinewidth": 0,
              "ticks": ""
             }
            },
            "marker": {
             "colorbar": {
              "outlinewidth": 0,
              "ticks": ""
             }
            },
            "type": "scatter3d"
           }
          ],
          "scattercarpet": [
           {
            "marker": {
             "colorbar": {
              "outlinewidth": 0,
              "ticks": ""
             }
            },
            "type": "scattercarpet"
           }
          ],
          "scattergeo": [
           {
            "marker": {
             "colorbar": {
              "outlinewidth": 0,
              "ticks": ""
             }
            },
            "type": "scattergeo"
           }
          ],
          "scattergl": [
           {
            "marker": {
             "colorbar": {
              "outlinewidth": 0,
              "ticks": ""
             }
            },
            "type": "scattergl"
           }
          ],
          "scattermapbox": [
           {
            "marker": {
             "colorbar": {
              "outlinewidth": 0,
              "ticks": ""
             }
            },
            "type": "scattermapbox"
           }
          ],
          "scatterpolar": [
           {
            "marker": {
             "colorbar": {
              "outlinewidth": 0,
              "ticks": ""
             }
            },
            "type": "scatterpolar"
           }
          ],
          "scatterpolargl": [
           {
            "marker": {
             "colorbar": {
              "outlinewidth": 0,
              "ticks": ""
             }
            },
            "type": "scatterpolargl"
           }
          ],
          "scatterternary": [
           {
            "marker": {
             "colorbar": {
              "outlinewidth": 0,
              "ticks": ""
             }
            },
            "type": "scatterternary"
           }
          ],
          "surface": [
           {
            "colorbar": {
             "outlinewidth": 0,
             "ticks": ""
            },
            "colorscale": [
             [
              0,
              "#0d0887"
             ],
             [
              0.1111111111111111,
              "#46039f"
             ],
             [
              0.2222222222222222,
              "#7201a8"
             ],
             [
              0.3333333333333333,
              "#9c179e"
             ],
             [
              0.4444444444444444,
              "#bd3786"
             ],
             [
              0.5555555555555556,
              "#d8576b"
             ],
             [
              0.6666666666666666,
              "#ed7953"
             ],
             [
              0.7777777777777778,
              "#fb9f3a"
             ],
             [
              0.8888888888888888,
              "#fdca26"
             ],
             [
              1,
              "#f0f921"
             ]
            ],
            "type": "surface"
           }
          ],
          "table": [
           {
            "cells": {
             "fill": {
              "color": "#EBF0F8"
             },
             "line": {
              "color": "white"
             }
            },
            "header": {
             "fill": {
              "color": "#C8D4E3"
             },
             "line": {
              "color": "white"
             }
            },
            "type": "table"
           }
          ]
         },
         "layout": {
          "annotationdefaults": {
           "arrowcolor": "#2a3f5f",
           "arrowhead": 0,
           "arrowwidth": 1
          },
          "autotypenumbers": "strict",
          "coloraxis": {
           "colorbar": {
            "outlinewidth": 0,
            "ticks": ""
           }
          },
          "colorscale": {
           "diverging": [
            [
             0,
             "#8e0152"
            ],
            [
             0.1,
             "#c51b7d"
            ],
            [
             0.2,
             "#de77ae"
            ],
            [
             0.3,
             "#f1b6da"
            ],
            [
             0.4,
             "#fde0ef"
            ],
            [
             0.5,
             "#f7f7f7"
            ],
            [
             0.6,
             "#e6f5d0"
            ],
            [
             0.7,
             "#b8e186"
            ],
            [
             0.8,
             "#7fbc41"
            ],
            [
             0.9,
             "#4d9221"
            ],
            [
             1,
             "#276419"
            ]
           ],
           "sequential": [
            [
             0,
             "#0d0887"
            ],
            [
             0.1111111111111111,
             "#46039f"
            ],
            [
             0.2222222222222222,
             "#7201a8"
            ],
            [
             0.3333333333333333,
             "#9c179e"
            ],
            [
             0.4444444444444444,
             "#bd3786"
            ],
            [
             0.5555555555555556,
             "#d8576b"
            ],
            [
             0.6666666666666666,
             "#ed7953"
            ],
            [
             0.7777777777777778,
             "#fb9f3a"
            ],
            [
             0.8888888888888888,
             "#fdca26"
            ],
            [
             1,
             "#f0f921"
            ]
           ],
           "sequentialminus": [
            [
             0,
             "#0d0887"
            ],
            [
             0.1111111111111111,
             "#46039f"
            ],
            [
             0.2222222222222222,
             "#7201a8"
            ],
            [
             0.3333333333333333,
             "#9c179e"
            ],
            [
             0.4444444444444444,
             "#bd3786"
            ],
            [
             0.5555555555555556,
             "#d8576b"
            ],
            [
             0.6666666666666666,
             "#ed7953"
            ],
            [
             0.7777777777777778,
             "#fb9f3a"
            ],
            [
             0.8888888888888888,
             "#fdca26"
            ],
            [
             1,
             "#f0f921"
            ]
           ]
          },
          "colorway": [
           "#636efa",
           "#EF553B",
           "#00cc96",
           "#ab63fa",
           "#FFA15A",
           "#19d3f3",
           "#FF6692",
           "#B6E880",
           "#FF97FF",
           "#FECB52"
          ],
          "font": {
           "color": "#2a3f5f"
          },
          "geo": {
           "bgcolor": "white",
           "lakecolor": "white",
           "landcolor": "#E5ECF6",
           "showlakes": true,
           "showland": true,
           "subunitcolor": "white"
          },
          "hoverlabel": {
           "align": "left"
          },
          "hovermode": "closest",
          "mapbox": {
           "style": "light"
          },
          "paper_bgcolor": "white",
          "plot_bgcolor": "#E5ECF6",
          "polar": {
           "angularaxis": {
            "gridcolor": "white",
            "linecolor": "white",
            "ticks": ""
           },
           "bgcolor": "#E5ECF6",
           "radialaxis": {
            "gridcolor": "white",
            "linecolor": "white",
            "ticks": ""
           }
          },
          "scene": {
           "xaxis": {
            "backgroundcolor": "#E5ECF6",
            "gridcolor": "white",
            "gridwidth": 2,
            "linecolor": "white",
            "showbackground": true,
            "ticks": "",
            "zerolinecolor": "white"
           },
           "yaxis": {
            "backgroundcolor": "#E5ECF6",
            "gridcolor": "white",
            "gridwidth": 2,
            "linecolor": "white",
            "showbackground": true,
            "ticks": "",
            "zerolinecolor": "white"
           },
           "zaxis": {
            "backgroundcolor": "#E5ECF6",
            "gridcolor": "white",
            "gridwidth": 2,
            "linecolor": "white",
            "showbackground": true,
            "ticks": "",
            "zerolinecolor": "white"
           }
          },
          "shapedefaults": {
           "line": {
            "color": "#2a3f5f"
           }
          },
          "ternary": {
           "aaxis": {
            "gridcolor": "white",
            "linecolor": "white",
            "ticks": ""
           },
           "baxis": {
            "gridcolor": "white",
            "linecolor": "white",
            "ticks": ""
           },
           "bgcolor": "#E5ECF6",
           "caxis": {
            "gridcolor": "white",
            "linecolor": "white",
            "ticks": ""
           }
          },
          "title": {
           "x": 0.05
          },
          "xaxis": {
           "automargin": true,
           "gridcolor": "white",
           "linecolor": "white",
           "ticks": "",
           "title": {
            "standoff": 15
           },
           "zerolinecolor": "white",
           "zerolinewidth": 2
          },
          "yaxis": {
           "automargin": true,
           "gridcolor": "white",
           "linecolor": "white",
           "ticks": "",
           "title": {
            "standoff": 15
           },
           "zerolinecolor": "white",
           "zerolinewidth": 2
          }
         }
        },
        "title": {
         "text": " Top frequent TVUmpire in the Matches"
        },
        "xaxis": {
         "anchor": "y",
         "domain": [
          0,
          1
         ],
         "title": {
          "text": "Count"
         }
        },
        "yaxis": {
         "anchor": "x",
         "domain": [
          0,
          1
         ],
         "title": {
          "text": "tv_umpire"
         }
        }
       }
      }
     },
     "metadata": {},
     "output_type": "display_data"
    }
   ],
   "source": [
    "fig = px.bar(tvunp, y=tvunp.index, x=tvunp.values, orientation='h', \n",
    "             labels={'x': 'Count', 'y': 'Umpire of the Match'}, title=' Top frequent TVUmpire in the Matches')\n",
    "fig.show()"
   ]
  },
  {
   "cell_type": "markdown",
   "id": "8aba925e",
   "metadata": {
    "papermill": {
     "duration": 0.014204,
     "end_time": "2024-03-18T06:08:12.465956",
     "exception": false,
     "start_time": "2024-03-18T06:08:12.451752",
     "status": "completed"
    },
    "tags": []
   },
   "source": [
    "## Matches played on which ground?"
   ]
  },
  {
   "cell_type": "code",
   "execution_count": 29,
   "id": "c1da8380",
   "metadata": {
    "execution": {
     "iopub.execute_input": "2024-03-18T06:08:12.496332Z",
     "iopub.status.busy": "2024-03-18T06:08:12.495898Z",
     "iopub.status.idle": "2024-03-18T06:08:12.501957Z",
     "shell.execute_reply": "2024-03-18T06:08:12.500755Z"
    },
    "papermill": {
     "duration": 0.023615,
     "end_time": "2024-03-18T06:08:12.503978",
     "exception": false,
     "start_time": "2024-03-18T06:08:12.480363",
     "status": "completed"
    },
    "tags": []
   },
   "outputs": [],
   "source": [
    "match = data['venue_name'].value_counts()"
   ]
  },
  {
   "cell_type": "code",
   "execution_count": 30,
   "id": "fe170dab",
   "metadata": {
    "execution": {
     "iopub.execute_input": "2024-03-18T06:08:12.535390Z",
     "iopub.status.busy": "2024-03-18T06:08:12.534258Z",
     "iopub.status.idle": "2024-03-18T06:08:12.542420Z",
     "shell.execute_reply": "2024-03-18T06:08:12.541356Z"
    },
    "papermill": {
     "duration": 0.026146,
     "end_time": "2024-03-18T06:08:12.544620",
     "exception": false,
     "start_time": "2024-03-18T06:08:12.518474",
     "status": "completed"
    },
    "tags": []
   },
   "outputs": [
    {
     "data": {
      "text/plain": [
       "37"
      ]
     },
     "execution_count": 30,
     "metadata": {},
     "output_type": "execute_result"
    }
   ],
   "source": [
    "data['venue_name'].nunique()"
   ]
  },
  {
   "cell_type": "code",
   "execution_count": 31,
   "id": "3841c0de",
   "metadata": {
    "execution": {
     "iopub.execute_input": "2024-03-18T06:08:12.577164Z",
     "iopub.status.busy": "2024-03-18T06:08:12.576053Z",
     "iopub.status.idle": "2024-03-18T06:08:12.634502Z",
     "shell.execute_reply": "2024-03-18T06:08:12.633348Z"
    },
    "papermill": {
     "duration": 0.077499,
     "end_time": "2024-03-18T06:08:12.636856",
     "exception": false,
     "start_time": "2024-03-18T06:08:12.559357",
     "status": "completed"
    },
    "tags": []
   },
   "outputs": [
    {
     "data": {
      "application/vnd.plotly.v1+json": {
       "config": {
        "plotlyServerURL": "https://plot.ly"
       },
       "data": [
        {
         "alignmentgroup": "True",
         "hovertemplate": "Count=%{x}<br>venue_name=%{y}<extra></extra>",
         "legendgroup": "",
         "marker": {
          "color": "#636efa",
          "pattern": {
           "shape": ""
          }
         },
         "name": "",
         "offsetgroup": "",
         "orientation": "h",
         "showlegend": false,
         "textposition": "auto",
         "type": "bar",
         "x": [
          99,
          74,
          73,
          72,
          66,
          59,
          58,
          50,
          47,
          41,
          34,
          25,
          24,
          18,
          13,
          12,
          12,
          12,
          11,
          10,
          10,
          9,
          7,
          6,
          6,
          6,
          6,
          6,
          6,
          5,
          5,
          4,
          3,
          3,
          3,
          2,
          2
         ],
         "xaxis": "x",
         "y": [
          "Wankhede Stadium, Mumbai",
          "M.Chinnaswamy Stadium, Bengaluru",
          "Eden Gardens, Kolkata",
          "Arun Jaitley Stadium, Delhi",
          "MA Chidambaram Stadium, Chepauk, Chennai",
          "Rajiv Gandhi International Stadium, Uppal, Hyderabad",
          "Punjab Cricket Association IS Bindra Stadium, Mohali, Chandigarh",
          "Sawai Mansingh Stadium, Jaipur",
          "Maharashtra Cricket Association Stadium, Pune",
          "Dubai International Cricket Stadium",
          "Sheikh Zayed Stadium, Abu Dhabi",
          "Sharjah Cricket Stadium",
          "Brabourne Stadium, Mumbai",
          "Dr DY Patil Sports Academy, Navi Mumbai",
          "Kingsmead, Durban",
          "Narendra Modi Stadium, Motera, Ahmedabad",
          "Dr DY Patil Sports Academy, Mumbai",
          "Sardar Patel (Gujarat) Stadium, Motera, Ahmedabad",
          "Dr. Y.S. Rajasekhara Reddy ACA-VDCA Cricket Stadium, Visakhapatnam",
          "SuperSport Park, Centurion",
          "Himachal Pradesh Cricket Association Stadium, Dharamsala",
          "Holkar Cricket Stadium, Indore",
          "Saurashtra Cricket Association Stadium, Rajkot",
          "Shaheed Veer Narayan Singh International Stadium, Raipur",
          "JSCA International Stadium Complex, Ranchi",
          "Barabati Stadium, Cuttack",
          "St George's Park, Port Elizabeth",
          "Bharat Ratna Shri Atal Bihari Vajpayee Ekana Cricket Stadium, Lucknow",
          "The Wanderers Stadium, Johannesburg",
          "Nehru Stadium, Kochi",
          "Newlands, Cape Town",
          "Green Park, Kanpur",
          "Vidarbha Cricket Association Stadium, Jamtha, Nagpur",
          "Buffalo Park, East London",
          "Diamond Oval, Kimberley",
          "Barsapara Cricket Stadium, Guwahati",
          "Mangaung Oval, Bloemfontein"
         ],
         "yaxis": "y"
        }
       ],
       "layout": {
        "barmode": "relative",
        "legend": {
         "tracegroupgap": 0
        },
        "template": {
         "data": {
          "bar": [
           {
            "error_x": {
             "color": "#2a3f5f"
            },
            "error_y": {
             "color": "#2a3f5f"
            },
            "marker": {
             "line": {
              "color": "#E5ECF6",
              "width": 0.5
             },
             "pattern": {
              "fillmode": "overlay",
              "size": 10,
              "solidity": 0.2
             }
            },
            "type": "bar"
           }
          ],
          "barpolar": [
           {
            "marker": {
             "line": {
              "color": "#E5ECF6",
              "width": 0.5
             },
             "pattern": {
              "fillmode": "overlay",
              "size": 10,
              "solidity": 0.2
             }
            },
            "type": "barpolar"
           }
          ],
          "carpet": [
           {
            "aaxis": {
             "endlinecolor": "#2a3f5f",
             "gridcolor": "white",
             "linecolor": "white",
             "minorgridcolor": "white",
             "startlinecolor": "#2a3f5f"
            },
            "baxis": {
             "endlinecolor": "#2a3f5f",
             "gridcolor": "white",
             "linecolor": "white",
             "minorgridcolor": "white",
             "startlinecolor": "#2a3f5f"
            },
            "type": "carpet"
           }
          ],
          "choropleth": [
           {
            "colorbar": {
             "outlinewidth": 0,
             "ticks": ""
            },
            "type": "choropleth"
           }
          ],
          "contour": [
           {
            "colorbar": {
             "outlinewidth": 0,
             "ticks": ""
            },
            "colorscale": [
             [
              0,
              "#0d0887"
             ],
             [
              0.1111111111111111,
              "#46039f"
             ],
             [
              0.2222222222222222,
              "#7201a8"
             ],
             [
              0.3333333333333333,
              "#9c179e"
             ],
             [
              0.4444444444444444,
              "#bd3786"
             ],
             [
              0.5555555555555556,
              "#d8576b"
             ],
             [
              0.6666666666666666,
              "#ed7953"
             ],
             [
              0.7777777777777778,
              "#fb9f3a"
             ],
             [
              0.8888888888888888,
              "#fdca26"
             ],
             [
              1,
              "#f0f921"
             ]
            ],
            "type": "contour"
           }
          ],
          "contourcarpet": [
           {
            "colorbar": {
             "outlinewidth": 0,
             "ticks": ""
            },
            "type": "contourcarpet"
           }
          ],
          "heatmap": [
           {
            "colorbar": {
             "outlinewidth": 0,
             "ticks": ""
            },
            "colorscale": [
             [
              0,
              "#0d0887"
             ],
             [
              0.1111111111111111,
              "#46039f"
             ],
             [
              0.2222222222222222,
              "#7201a8"
             ],
             [
              0.3333333333333333,
              "#9c179e"
             ],
             [
              0.4444444444444444,
              "#bd3786"
             ],
             [
              0.5555555555555556,
              "#d8576b"
             ],
             [
              0.6666666666666666,
              "#ed7953"
             ],
             [
              0.7777777777777778,
              "#fb9f3a"
             ],
             [
              0.8888888888888888,
              "#fdca26"
             ],
             [
              1,
              "#f0f921"
             ]
            ],
            "type": "heatmap"
           }
          ],
          "heatmapgl": [
           {
            "colorbar": {
             "outlinewidth": 0,
             "ticks": ""
            },
            "colorscale": [
             [
              0,
              "#0d0887"
             ],
             [
              0.1111111111111111,
              "#46039f"
             ],
             [
              0.2222222222222222,
              "#7201a8"
             ],
             [
              0.3333333333333333,
              "#9c179e"
             ],
             [
              0.4444444444444444,
              "#bd3786"
             ],
             [
              0.5555555555555556,
              "#d8576b"
             ],
             [
              0.6666666666666666,
              "#ed7953"
             ],
             [
              0.7777777777777778,
              "#fb9f3a"
             ],
             [
              0.8888888888888888,
              "#fdca26"
             ],
             [
              1,
              "#f0f921"
             ]
            ],
            "type": "heatmapgl"
           }
          ],
          "histogram": [
           {
            "marker": {
             "pattern": {
              "fillmode": "overlay",
              "size": 10,
              "solidity": 0.2
             }
            },
            "type": "histogram"
           }
          ],
          "histogram2d": [
           {
            "colorbar": {
             "outlinewidth": 0,
             "ticks": ""
            },
            "colorscale": [
             [
              0,
              "#0d0887"
             ],
             [
              0.1111111111111111,
              "#46039f"
             ],
             [
              0.2222222222222222,
              "#7201a8"
             ],
             [
              0.3333333333333333,
              "#9c179e"
             ],
             [
              0.4444444444444444,
              "#bd3786"
             ],
             [
              0.5555555555555556,
              "#d8576b"
             ],
             [
              0.6666666666666666,
              "#ed7953"
             ],
             [
              0.7777777777777778,
              "#fb9f3a"
             ],
             [
              0.8888888888888888,
              "#fdca26"
             ],
             [
              1,
              "#f0f921"
             ]
            ],
            "type": "histogram2d"
           }
          ],
          "histogram2dcontour": [
           {
            "colorbar": {
             "outlinewidth": 0,
             "ticks": ""
            },
            "colorscale": [
             [
              0,
              "#0d0887"
             ],
             [
              0.1111111111111111,
              "#46039f"
             ],
             [
              0.2222222222222222,
              "#7201a8"
             ],
             [
              0.3333333333333333,
              "#9c179e"
             ],
             [
              0.4444444444444444,
              "#bd3786"
             ],
             [
              0.5555555555555556,
              "#d8576b"
             ],
             [
              0.6666666666666666,
              "#ed7953"
             ],
             [
              0.7777777777777778,
              "#fb9f3a"
             ],
             [
              0.8888888888888888,
              "#fdca26"
             ],
             [
              1,
              "#f0f921"
             ]
            ],
            "type": "histogram2dcontour"
           }
          ],
          "mesh3d": [
           {
            "colorbar": {
             "outlinewidth": 0,
             "ticks": ""
            },
            "type": "mesh3d"
           }
          ],
          "parcoords": [
           {
            "line": {
             "colorbar": {
              "outlinewidth": 0,
              "ticks": ""
             }
            },
            "type": "parcoords"
           }
          ],
          "pie": [
           {
            "automargin": true,
            "type": "pie"
           }
          ],
          "scatter": [
           {
            "fillpattern": {
             "fillmode": "overlay",
             "size": 10,
             "solidity": 0.2
            },
            "type": "scatter"
           }
          ],
          "scatter3d": [
           {
            "line": {
             "colorbar": {
              "outlinewidth": 0,
              "ticks": ""
             }
            },
            "marker": {
             "colorbar": {
              "outlinewidth": 0,
              "ticks": ""
             }
            },
            "type": "scatter3d"
           }
          ],
          "scattercarpet": [
           {
            "marker": {
             "colorbar": {
              "outlinewidth": 0,
              "ticks": ""
             }
            },
            "type": "scattercarpet"
           }
          ],
          "scattergeo": [
           {
            "marker": {
             "colorbar": {
              "outlinewidth": 0,
              "ticks": ""
             }
            },
            "type": "scattergeo"
           }
          ],
          "scattergl": [
           {
            "marker": {
             "colorbar": {
              "outlinewidth": 0,
              "ticks": ""
             }
            },
            "type": "scattergl"
           }
          ],
          "scattermapbox": [
           {
            "marker": {
             "colorbar": {
              "outlinewidth": 0,
              "ticks": ""
             }
            },
            "type": "scattermapbox"
           }
          ],
          "scatterpolar": [
           {
            "marker": {
             "colorbar": {
              "outlinewidth": 0,
              "ticks": ""
             }
            },
            "type": "scatterpolar"
           }
          ],
          "scatterpolargl": [
           {
            "marker": {
             "colorbar": {
              "outlinewidth": 0,
              "ticks": ""
             }
            },
            "type": "scatterpolargl"
           }
          ],
          "scatterternary": [
           {
            "marker": {
             "colorbar": {
              "outlinewidth": 0,
              "ticks": ""
             }
            },
            "type": "scatterternary"
           }
          ],
          "surface": [
           {
            "colorbar": {
             "outlinewidth": 0,
             "ticks": ""
            },
            "colorscale": [
             [
              0,
              "#0d0887"
             ],
             [
              0.1111111111111111,
              "#46039f"
             ],
             [
              0.2222222222222222,
              "#7201a8"
             ],
             [
              0.3333333333333333,
              "#9c179e"
             ],
             [
              0.4444444444444444,
              "#bd3786"
             ],
             [
              0.5555555555555556,
              "#d8576b"
             ],
             [
              0.6666666666666666,
              "#ed7953"
             ],
             [
              0.7777777777777778,
              "#fb9f3a"
             ],
             [
              0.8888888888888888,
              "#fdca26"
             ],
             [
              1,
              "#f0f921"
             ]
            ],
            "type": "surface"
           }
          ],
          "table": [
           {
            "cells": {
             "fill": {
              "color": "#EBF0F8"
             },
             "line": {
              "color": "white"
             }
            },
            "header": {
             "fill": {
              "color": "#C8D4E3"
             },
             "line": {
              "color": "white"
             }
            },
            "type": "table"
           }
          ]
         },
         "layout": {
          "annotationdefaults": {
           "arrowcolor": "#2a3f5f",
           "arrowhead": 0,
           "arrowwidth": 1
          },
          "autotypenumbers": "strict",
          "coloraxis": {
           "colorbar": {
            "outlinewidth": 0,
            "ticks": ""
           }
          },
          "colorscale": {
           "diverging": [
            [
             0,
             "#8e0152"
            ],
            [
             0.1,
             "#c51b7d"
            ],
            [
             0.2,
             "#de77ae"
            ],
            [
             0.3,
             "#f1b6da"
            ],
            [
             0.4,
             "#fde0ef"
            ],
            [
             0.5,
             "#f7f7f7"
            ],
            [
             0.6,
             "#e6f5d0"
            ],
            [
             0.7,
             "#b8e186"
            ],
            [
             0.8,
             "#7fbc41"
            ],
            [
             0.9,
             "#4d9221"
            ],
            [
             1,
             "#276419"
            ]
           ],
           "sequential": [
            [
             0,
             "#0d0887"
            ],
            [
             0.1111111111111111,
             "#46039f"
            ],
            [
             0.2222222222222222,
             "#7201a8"
            ],
            [
             0.3333333333333333,
             "#9c179e"
            ],
            [
             0.4444444444444444,
             "#bd3786"
            ],
            [
             0.5555555555555556,
             "#d8576b"
            ],
            [
             0.6666666666666666,
             "#ed7953"
            ],
            [
             0.7777777777777778,
             "#fb9f3a"
            ],
            [
             0.8888888888888888,
             "#fdca26"
            ],
            [
             1,
             "#f0f921"
            ]
           ],
           "sequentialminus": [
            [
             0,
             "#0d0887"
            ],
            [
             0.1111111111111111,
             "#46039f"
            ],
            [
             0.2222222222222222,
             "#7201a8"
            ],
            [
             0.3333333333333333,
             "#9c179e"
            ],
            [
             0.4444444444444444,
             "#bd3786"
            ],
            [
             0.5555555555555556,
             "#d8576b"
            ],
            [
             0.6666666666666666,
             "#ed7953"
            ],
            [
             0.7777777777777778,
             "#fb9f3a"
            ],
            [
             0.8888888888888888,
             "#fdca26"
            ],
            [
             1,
             "#f0f921"
            ]
           ]
          },
          "colorway": [
           "#636efa",
           "#EF553B",
           "#00cc96",
           "#ab63fa",
           "#FFA15A",
           "#19d3f3",
           "#FF6692",
           "#B6E880",
           "#FF97FF",
           "#FECB52"
          ],
          "font": {
           "color": "#2a3f5f"
          },
          "geo": {
           "bgcolor": "white",
           "lakecolor": "white",
           "landcolor": "#E5ECF6",
           "showlakes": true,
           "showland": true,
           "subunitcolor": "white"
          },
          "hoverlabel": {
           "align": "left"
          },
          "hovermode": "closest",
          "mapbox": {
           "style": "light"
          },
          "paper_bgcolor": "white",
          "plot_bgcolor": "#E5ECF6",
          "polar": {
           "angularaxis": {
            "gridcolor": "white",
            "linecolor": "white",
            "ticks": ""
           },
           "bgcolor": "#E5ECF6",
           "radialaxis": {
            "gridcolor": "white",
            "linecolor": "white",
            "ticks": ""
           }
          },
          "scene": {
           "xaxis": {
            "backgroundcolor": "#E5ECF6",
            "gridcolor": "white",
            "gridwidth": 2,
            "linecolor": "white",
            "showbackground": true,
            "ticks": "",
            "zerolinecolor": "white"
           },
           "yaxis": {
            "backgroundcolor": "#E5ECF6",
            "gridcolor": "white",
            "gridwidth": 2,
            "linecolor": "white",
            "showbackground": true,
            "ticks": "",
            "zerolinecolor": "white"
           },
           "zaxis": {
            "backgroundcolor": "#E5ECF6",
            "gridcolor": "white",
            "gridwidth": 2,
            "linecolor": "white",
            "showbackground": true,
            "ticks": "",
            "zerolinecolor": "white"
           }
          },
          "shapedefaults": {
           "line": {
            "color": "#2a3f5f"
           }
          },
          "ternary": {
           "aaxis": {
            "gridcolor": "white",
            "linecolor": "white",
            "ticks": ""
           },
           "baxis": {
            "gridcolor": "white",
            "linecolor": "white",
            "ticks": ""
           },
           "bgcolor": "#E5ECF6",
           "caxis": {
            "gridcolor": "white",
            "linecolor": "white",
            "ticks": ""
           }
          },
          "title": {
           "x": 0.05
          },
          "xaxis": {
           "automargin": true,
           "gridcolor": "white",
           "linecolor": "white",
           "ticks": "",
           "title": {
            "standoff": 15
           },
           "zerolinecolor": "white",
           "zerolinewidth": 2
          },
          "yaxis": {
           "automargin": true,
           "gridcolor": "white",
           "linecolor": "white",
           "ticks": "",
           "title": {
            "standoff": 15
           },
           "zerolinecolor": "white",
           "zerolinewidth": 2
          }
         }
        },
        "title": {
         "text": " Most played Matches "
        },
        "xaxis": {
         "anchor": "y",
         "domain": [
          0,
          1
         ],
         "title": {
          "text": "Count"
         }
        },
        "yaxis": {
         "anchor": "x",
         "domain": [
          0,
          1
         ],
         "title": {
          "text": "venue_name"
         }
        }
       }
      }
     },
     "metadata": {},
     "output_type": "display_data"
    }
   ],
   "source": [
    "fig = px.bar(match, y=match.index, x=match.values, orientation='h', \n",
    "             labels={'x': 'Count', 'y': 'Venue of the Matches'}, title=' Most played Matches ')\n",
    "fig.show()"
   ]
  },
  {
   "cell_type": "markdown",
   "id": "a2131389",
   "metadata": {
    "papermill": {
     "duration": 0.014853,
     "end_time": "2024-03-18T06:08:12.666779",
     "exception": false,
     "start_time": "2024-03-18T06:08:12.651926",
     "status": "completed"
    },
    "tags": []
   },
   "source": [
    "## Super Over"
   ]
  },
  {
   "cell_type": "code",
   "execution_count": 32,
   "id": "f31865e4",
   "metadata": {
    "execution": {
     "iopub.execute_input": "2024-03-18T06:08:12.698461Z",
     "iopub.status.busy": "2024-03-18T06:08:12.698042Z",
     "iopub.status.idle": "2024-03-18T06:08:12.705821Z",
     "shell.execute_reply": "2024-03-18T06:08:12.704492Z"
    },
    "papermill": {
     "duration": 0.026171,
     "end_time": "2024-03-18T06:08:12.708097",
     "exception": false,
     "start_time": "2024-03-18T06:08:12.681926",
     "status": "completed"
    },
    "tags": []
   },
   "outputs": [],
   "source": [
    "sup = data['super_over'].value_counts()"
   ]
  },
  {
   "cell_type": "code",
   "execution_count": 33,
   "id": "4962ec95",
   "metadata": {
    "execution": {
     "iopub.execute_input": "2024-03-18T06:08:12.739515Z",
     "iopub.status.busy": "2024-03-18T06:08:12.738895Z",
     "iopub.status.idle": "2024-03-18T06:08:12.788541Z",
     "shell.execute_reply": "2024-03-18T06:08:12.787370Z"
    },
    "papermill": {
     "duration": 0.068386,
     "end_time": "2024-03-18T06:08:12.791212",
     "exception": false,
     "start_time": "2024-03-18T06:08:12.722826",
     "status": "completed"
    },
    "tags": []
   },
   "outputs": [
    {
     "data": {
      "application/vnd.plotly.v1+json": {
       "config": {
        "plotlyServerURL": "https://plot.ly"
       },
       "data": [
        {
         "domain": {
          "x": [
           0,
           1
          ],
          "y": [
           0,
           1
          ]
         },
         "hovertemplate": "label=%{label}<br>value=%{value}<extra></extra>",
         "labels": [
          false,
          true
         ],
         "legendgroup": "",
         "name": "",
         "showlegend": true,
         "type": "pie",
         "values": [
          887,
          12
         ]
        }
       ],
       "layout": {
        "legend": {
         "tracegroupgap": 0
        },
        "template": {
         "data": {
          "bar": [
           {
            "error_x": {
             "color": "#2a3f5f"
            },
            "error_y": {
             "color": "#2a3f5f"
            },
            "marker": {
             "line": {
              "color": "#E5ECF6",
              "width": 0.5
             },
             "pattern": {
              "fillmode": "overlay",
              "size": 10,
              "solidity": 0.2
             }
            },
            "type": "bar"
           }
          ],
          "barpolar": [
           {
            "marker": {
             "line": {
              "color": "#E5ECF6",
              "width": 0.5
             },
             "pattern": {
              "fillmode": "overlay",
              "size": 10,
              "solidity": 0.2
             }
            },
            "type": "barpolar"
           }
          ],
          "carpet": [
           {
            "aaxis": {
             "endlinecolor": "#2a3f5f",
             "gridcolor": "white",
             "linecolor": "white",
             "minorgridcolor": "white",
             "startlinecolor": "#2a3f5f"
            },
            "baxis": {
             "endlinecolor": "#2a3f5f",
             "gridcolor": "white",
             "linecolor": "white",
             "minorgridcolor": "white",
             "startlinecolor": "#2a3f5f"
            },
            "type": "carpet"
           }
          ],
          "choropleth": [
           {
            "colorbar": {
             "outlinewidth": 0,
             "ticks": ""
            },
            "type": "choropleth"
           }
          ],
          "contour": [
           {
            "colorbar": {
             "outlinewidth": 0,
             "ticks": ""
            },
            "colorscale": [
             [
              0,
              "#0d0887"
             ],
             [
              0.1111111111111111,
              "#46039f"
             ],
             [
              0.2222222222222222,
              "#7201a8"
             ],
             [
              0.3333333333333333,
              "#9c179e"
             ],
             [
              0.4444444444444444,
              "#bd3786"
             ],
             [
              0.5555555555555556,
              "#d8576b"
             ],
             [
              0.6666666666666666,
              "#ed7953"
             ],
             [
              0.7777777777777778,
              "#fb9f3a"
             ],
             [
              0.8888888888888888,
              "#fdca26"
             ],
             [
              1,
              "#f0f921"
             ]
            ],
            "type": "contour"
           }
          ],
          "contourcarpet": [
           {
            "colorbar": {
             "outlinewidth": 0,
             "ticks": ""
            },
            "type": "contourcarpet"
           }
          ],
          "heatmap": [
           {
            "colorbar": {
             "outlinewidth": 0,
             "ticks": ""
            },
            "colorscale": [
             [
              0,
              "#0d0887"
             ],
             [
              0.1111111111111111,
              "#46039f"
             ],
             [
              0.2222222222222222,
              "#7201a8"
             ],
             [
              0.3333333333333333,
              "#9c179e"
             ],
             [
              0.4444444444444444,
              "#bd3786"
             ],
             [
              0.5555555555555556,
              "#d8576b"
             ],
             [
              0.6666666666666666,
              "#ed7953"
             ],
             [
              0.7777777777777778,
              "#fb9f3a"
             ],
             [
              0.8888888888888888,
              "#fdca26"
             ],
             [
              1,
              "#f0f921"
             ]
            ],
            "type": "heatmap"
           }
          ],
          "heatmapgl": [
           {
            "colorbar": {
             "outlinewidth": 0,
             "ticks": ""
            },
            "colorscale": [
             [
              0,
              "#0d0887"
             ],
             [
              0.1111111111111111,
              "#46039f"
             ],
             [
              0.2222222222222222,
              "#7201a8"
             ],
             [
              0.3333333333333333,
              "#9c179e"
             ],
             [
              0.4444444444444444,
              "#bd3786"
             ],
             [
              0.5555555555555556,
              "#d8576b"
             ],
             [
              0.6666666666666666,
              "#ed7953"
             ],
             [
              0.7777777777777778,
              "#fb9f3a"
             ],
             [
              0.8888888888888888,
              "#fdca26"
             ],
             [
              1,
              "#f0f921"
             ]
            ],
            "type": "heatmapgl"
           }
          ],
          "histogram": [
           {
            "marker": {
             "pattern": {
              "fillmode": "overlay",
              "size": 10,
              "solidity": 0.2
             }
            },
            "type": "histogram"
           }
          ],
          "histogram2d": [
           {
            "colorbar": {
             "outlinewidth": 0,
             "ticks": ""
            },
            "colorscale": [
             [
              0,
              "#0d0887"
             ],
             [
              0.1111111111111111,
              "#46039f"
             ],
             [
              0.2222222222222222,
              "#7201a8"
             ],
             [
              0.3333333333333333,
              "#9c179e"
             ],
             [
              0.4444444444444444,
              "#bd3786"
             ],
             [
              0.5555555555555556,
              "#d8576b"
             ],
             [
              0.6666666666666666,
              "#ed7953"
             ],
             [
              0.7777777777777778,
              "#fb9f3a"
             ],
             [
              0.8888888888888888,
              "#fdca26"
             ],
             [
              1,
              "#f0f921"
             ]
            ],
            "type": "histogram2d"
           }
          ],
          "histogram2dcontour": [
           {
            "colorbar": {
             "outlinewidth": 0,
             "ticks": ""
            },
            "colorscale": [
             [
              0,
              "#0d0887"
             ],
             [
              0.1111111111111111,
              "#46039f"
             ],
             [
              0.2222222222222222,
              "#7201a8"
             ],
             [
              0.3333333333333333,
              "#9c179e"
             ],
             [
              0.4444444444444444,
              "#bd3786"
             ],
             [
              0.5555555555555556,
              "#d8576b"
             ],
             [
              0.6666666666666666,
              "#ed7953"
             ],
             [
              0.7777777777777778,
              "#fb9f3a"
             ],
             [
              0.8888888888888888,
              "#fdca26"
             ],
             [
              1,
              "#f0f921"
             ]
            ],
            "type": "histogram2dcontour"
           }
          ],
          "mesh3d": [
           {
            "colorbar": {
             "outlinewidth": 0,
             "ticks": ""
            },
            "type": "mesh3d"
           }
          ],
          "parcoords": [
           {
            "line": {
             "colorbar": {
              "outlinewidth": 0,
              "ticks": ""
             }
            },
            "type": "parcoords"
           }
          ],
          "pie": [
           {
            "automargin": true,
            "type": "pie"
           }
          ],
          "scatter": [
           {
            "fillpattern": {
             "fillmode": "overlay",
             "size": 10,
             "solidity": 0.2
            },
            "type": "scatter"
           }
          ],
          "scatter3d": [
           {
            "line": {
             "colorbar": {
              "outlinewidth": 0,
              "ticks": ""
             }
            },
            "marker": {
             "colorbar": {
              "outlinewidth": 0,
              "ticks": ""
             }
            },
            "type": "scatter3d"
           }
          ],
          "scattercarpet": [
           {
            "marker": {
             "colorbar": {
              "outlinewidth": 0,
              "ticks": ""
             }
            },
            "type": "scattercarpet"
           }
          ],
          "scattergeo": [
           {
            "marker": {
             "colorbar": {
              "outlinewidth": 0,
              "ticks": ""
             }
            },
            "type": "scattergeo"
           }
          ],
          "scattergl": [
           {
            "marker": {
             "colorbar": {
              "outlinewidth": 0,
              "ticks": ""
             }
            },
            "type": "scattergl"
           }
          ],
          "scattermapbox": [
           {
            "marker": {
             "colorbar": {
              "outlinewidth": 0,
              "ticks": ""
             }
            },
            "type": "scattermapbox"
           }
          ],
          "scatterpolar": [
           {
            "marker": {
             "colorbar": {
              "outlinewidth": 0,
              "ticks": ""
             }
            },
            "type": "scatterpolar"
           }
          ],
          "scatterpolargl": [
           {
            "marker": {
             "colorbar": {
              "outlinewidth": 0,
              "ticks": ""
             }
            },
            "type": "scatterpolargl"
           }
          ],
          "scatterternary": [
           {
            "marker": {
             "colorbar": {
              "outlinewidth": 0,
              "ticks": ""
             }
            },
            "type": "scatterternary"
           }
          ],
          "surface": [
           {
            "colorbar": {
             "outlinewidth": 0,
             "ticks": ""
            },
            "colorscale": [
             [
              0,
              "#0d0887"
             ],
             [
              0.1111111111111111,
              "#46039f"
             ],
             [
              0.2222222222222222,
              "#7201a8"
             ],
             [
              0.3333333333333333,
              "#9c179e"
             ],
             [
              0.4444444444444444,
              "#bd3786"
             ],
             [
              0.5555555555555556,
              "#d8576b"
             ],
             [
              0.6666666666666666,
              "#ed7953"
             ],
             [
              0.7777777777777778,
              "#fb9f3a"
             ],
             [
              0.8888888888888888,
              "#fdca26"
             ],
             [
              1,
              "#f0f921"
             ]
            ],
            "type": "surface"
           }
          ],
          "table": [
           {
            "cells": {
             "fill": {
              "color": "#EBF0F8"
             },
             "line": {
              "color": "white"
             }
            },
            "header": {
             "fill": {
              "color": "#C8D4E3"
             },
             "line": {
              "color": "white"
             }
            },
            "type": "table"
           }
          ]
         },
         "layout": {
          "annotationdefaults": {
           "arrowcolor": "#2a3f5f",
           "arrowhead": 0,
           "arrowwidth": 1
          },
          "autotypenumbers": "strict",
          "coloraxis": {
           "colorbar": {
            "outlinewidth": 0,
            "ticks": ""
           }
          },
          "colorscale": {
           "diverging": [
            [
             0,
             "#8e0152"
            ],
            [
             0.1,
             "#c51b7d"
            ],
            [
             0.2,
             "#de77ae"
            ],
            [
             0.3,
             "#f1b6da"
            ],
            [
             0.4,
             "#fde0ef"
            ],
            [
             0.5,
             "#f7f7f7"
            ],
            [
             0.6,
             "#e6f5d0"
            ],
            [
             0.7,
             "#b8e186"
            ],
            [
             0.8,
             "#7fbc41"
            ],
            [
             0.9,
             "#4d9221"
            ],
            [
             1,
             "#276419"
            ]
           ],
           "sequential": [
            [
             0,
             "#0d0887"
            ],
            [
             0.1111111111111111,
             "#46039f"
            ],
            [
             0.2222222222222222,
             "#7201a8"
            ],
            [
             0.3333333333333333,
             "#9c179e"
            ],
            [
             0.4444444444444444,
             "#bd3786"
            ],
            [
             0.5555555555555556,
             "#d8576b"
            ],
            [
             0.6666666666666666,
             "#ed7953"
            ],
            [
             0.7777777777777778,
             "#fb9f3a"
            ],
            [
             0.8888888888888888,
             "#fdca26"
            ],
            [
             1,
             "#f0f921"
            ]
           ],
           "sequentialminus": [
            [
             0,
             "#0d0887"
            ],
            [
             0.1111111111111111,
             "#46039f"
            ],
            [
             0.2222222222222222,
             "#7201a8"
            ],
            [
             0.3333333333333333,
             "#9c179e"
            ],
            [
             0.4444444444444444,
             "#bd3786"
            ],
            [
             0.5555555555555556,
             "#d8576b"
            ],
            [
             0.6666666666666666,
             "#ed7953"
            ],
            [
             0.7777777777777778,
             "#fb9f3a"
            ],
            [
             0.8888888888888888,
             "#fdca26"
            ],
            [
             1,
             "#f0f921"
            ]
           ]
          },
          "colorway": [
           "#636efa",
           "#EF553B",
           "#00cc96",
           "#ab63fa",
           "#FFA15A",
           "#19d3f3",
           "#FF6692",
           "#B6E880",
           "#FF97FF",
           "#FECB52"
          ],
          "font": {
           "color": "#2a3f5f"
          },
          "geo": {
           "bgcolor": "white",
           "lakecolor": "white",
           "landcolor": "#E5ECF6",
           "showlakes": true,
           "showland": true,
           "subunitcolor": "white"
          },
          "hoverlabel": {
           "align": "left"
          },
          "hovermode": "closest",
          "mapbox": {
           "style": "light"
          },
          "paper_bgcolor": "white",
          "plot_bgcolor": "#E5ECF6",
          "polar": {
           "angularaxis": {
            "gridcolor": "white",
            "linecolor": "white",
            "ticks": ""
           },
           "bgcolor": "#E5ECF6",
           "radialaxis": {
            "gridcolor": "white",
            "linecolor": "white",
            "ticks": ""
           }
          },
          "scene": {
           "xaxis": {
            "backgroundcolor": "#E5ECF6",
            "gridcolor": "white",
            "gridwidth": 2,
            "linecolor": "white",
            "showbackground": true,
            "ticks": "",
            "zerolinecolor": "white"
           },
           "yaxis": {
            "backgroundcolor": "#E5ECF6",
            "gridcolor": "white",
            "gridwidth": 2,
            "linecolor": "white",
            "showbackground": true,
            "ticks": "",
            "zerolinecolor": "white"
           },
           "zaxis": {
            "backgroundcolor": "#E5ECF6",
            "gridcolor": "white",
            "gridwidth": 2,
            "linecolor": "white",
            "showbackground": true,
            "ticks": "",
            "zerolinecolor": "white"
           }
          },
          "shapedefaults": {
           "line": {
            "color": "#2a3f5f"
           }
          },
          "ternary": {
           "aaxis": {
            "gridcolor": "white",
            "linecolor": "white",
            "ticks": ""
           },
           "baxis": {
            "gridcolor": "white",
            "linecolor": "white",
            "ticks": ""
           },
           "bgcolor": "#E5ECF6",
           "caxis": {
            "gridcolor": "white",
            "linecolor": "white",
            "ticks": ""
           }
          },
          "title": {
           "x": 0.05
          },
          "xaxis": {
           "automargin": true,
           "gridcolor": "white",
           "linecolor": "white",
           "ticks": "",
           "title": {
            "standoff": 15
           },
           "zerolinecolor": "white",
           "zerolinewidth": 2
          },
          "yaxis": {
           "automargin": true,
           "gridcolor": "white",
           "linecolor": "white",
           "ticks": "",
           "title": {
            "standoff": 15
           },
           "zerolinecolor": "white",
           "zerolinewidth": 2
          }
         }
        },
        "title": {
         "text": "Pie Chart of Super Overs in the Match"
        }
       }
      }
     },
     "metadata": {},
     "output_type": "display_data"
    }
   ],
   "source": [
    "fig = px.pie(names=sup.index, values=sup.values, title='Pie Chart of Super Overs in the Match')\n",
    "fig.show()"
   ]
  },
  {
   "cell_type": "markdown",
   "id": "701462e5",
   "metadata": {
    "papermill": {
     "duration": 0.014998,
     "end_time": "2024-03-18T06:08:12.821711",
     "exception": false,
     "start_time": "2024-03-18T06:08:12.806713",
     "status": "completed"
    },
    "tags": []
   },
   "source": [
    "## Some in depth analysis using relational plots"
   ]
  },
  {
   "cell_type": "code",
   "execution_count": 34,
   "id": "c830e99c",
   "metadata": {
    "execution": {
     "iopub.execute_input": "2024-03-18T06:08:12.853960Z",
     "iopub.status.busy": "2024-03-18T06:08:12.852919Z",
     "iopub.status.idle": "2024-03-18T06:08:13.976308Z",
     "shell.execute_reply": "2024-03-18T06:08:13.975151Z"
    },
    "papermill": {
     "duration": 1.141951,
     "end_time": "2024-03-18T06:08:13.978475",
     "exception": false,
     "start_time": "2024-03-18T06:08:12.836524",
     "status": "completed"
    },
    "tags": []
   },
   "outputs": [
    {
     "name": "stderr",
     "output_type": "stream",
     "text": [
      "c:\\Users\\moham\\anaconda3\\Lib\\site-packages\\seaborn\\axisgrid.py:118: UserWarning:\n",
      "\n",
      "The figure layout has changed to tight\n",
      "\n"
     ]
    },
    {
     "data": {
      "image/png": "[encoded data removed]",
      "text/plain": [
       "<Figure size 987.125x600 with 1 Axes>"
      ]
     },
     "metadata": {},
     "output_type": "display_data"
    }
   ],
   "source": [
    "sbs.relplot(x=\"home_team\", y=\"decision\", hue=\"winner\", data=data, palette=\"viridis\", height=6, aspect=1.5)\n",
    "plt.title('Relationship between Home Team and Decision with Winner')\n",
    "plt.xlabel('Home Team')\n",
    "plt.ylabel('Decision')\n",
    "plt.xticks(rotation=45)  \n",
    "plt.show()"
   ]
  },
  {
   "cell_type": "code",
   "execution_count": 35,
   "id": "b33bbaad",
   "metadata": {
    "execution": {
     "iopub.execute_input": "2024-03-18T06:08:14.012280Z",
     "iopub.status.busy": "2024-03-18T06:08:14.011832Z",
     "iopub.status.idle": "2024-03-18T06:08:15.085830Z",
     "shell.execute_reply": "2024-03-18T06:08:15.084923Z"
    },
    "papermill": {
     "duration": 1.093922,
     "end_time": "2024-03-18T06:08:15.088258",
     "exception": false,
     "start_time": "2024-03-18T06:08:13.994336",
     "status": "completed"
    },
    "tags": []
   },
   "outputs": [
    {
     "name": "stderr",
     "output_type": "stream",
     "text": [
      "c:\\Users\\moham\\anaconda3\\Lib\\site-packages\\seaborn\\axisgrid.py:118: UserWarning:\n",
      "\n",
      "The figure layout has changed to tight\n",
      "\n"
     ]
    },
    {
     "data": {
      "image/png": "[encoded data removed]",
      "text/plain": [
       "<Figure size 987.125x600 with 1 Axes>"
      ]
     },
     "metadata": {},
     "output_type": "display_data"
    }
   ],
   "source": [
    "sbs.relplot(x=\"away_team\", y=\"decision\", hue=\"winner\", data=data, palette=\"viridis\", height=6, aspect=1.5)\n",
    "plt.title('Relationship between Away Team and Toss Decision with Winner')\n",
    "plt.xlabel('Away Team')\n",
    "plt.ylabel('Toss Decision')\n",
    "plt.xticks(rotation=45)  \n",
    "plt.show()"
   ]
  },
  {
   "cell_type": "markdown",
   "id": "99429e28",
   "metadata": {
    "papermill": {
     "duration": 0.016568,
     "end_time": "2024-03-18T06:08:15.121559",
     "exception": false,
     "start_time": "2024-03-18T06:08:15.104991",
     "status": "completed"
    },
    "tags": []
   },
   "source": [
    "## Heatmap"
   ]
  },
  {
   "cell_type": "code",
   "execution_count": 36,
   "id": "d04ca08f",
   "metadata": {
    "execution": {
     "iopub.execute_input": "2024-03-18T06:08:15.156596Z",
     "iopub.status.busy": "2024-03-18T06:08:15.156190Z",
     "iopub.status.idle": "2024-03-18T06:08:15.949113Z",
     "shell.execute_reply": "2024-03-18T06:08:15.947834Z"
    },
    "papermill": {
     "duration": 0.813489,
     "end_time": "2024-03-18T06:08:15.951646",
     "exception": false,
     "start_time": "2024-03-18T06:08:15.138157",
     "status": "completed"
    },
    "tags": []
   },
   "outputs": [
    {
     "data": {
      "image/png": "[encoded data removed]",
      "text/plain": [
       "<Figure size 1000x800 with 2 Axes>"
      ]
     },
     "metadata": {},
     "output_type": "display_data"
    }
   ],
   "source": [
    "warnings.filterwarnings(\"ignore\", category=DeprecationWarning)\n",
    "sbs.set(font_scale=1.2)  # Adjust font size if needed\n",
    "plt.figure(figsize=(10, 8))  # Adjust figure size if needed\n",
    "numerical_data = data.select_dtypes(include=['float64', 'int64'])\n",
    "corr_matrix = numerical_data.corr()\n",
    "sbs.heatmap(corr_matrix, annot=True, cmap='coolwarm', fmt=\".2f\", annot_kws={\"size\": 10})\n",
    "plt.title('Correlation Heatmap')\n",
    "plt.show()\n"
   ]
  },
  {
   "cell_type": "markdown",
   "id": "6e62a205",
   "metadata": {
    "papermill": {
     "duration": 0.018581,
     "end_time": "2024-03-18T06:08:15.989250",
     "exception": false,
     "start_time": "2024-03-18T06:08:15.970669",
     "status": "completed"
    },
    "tags": []
   },
   "source": [
    "## Scatter plot using plotly and seaborn."
   ]
  },
  {
   "cell_type": "code",
   "execution_count": 37,
   "id": "880211d8",
   "metadata": {
    "execution": {
     "iopub.execute_input": "2024-03-18T06:08:16.028081Z",
     "iopub.status.busy": "2024-03-18T06:08:16.027655Z",
     "iopub.status.idle": "2024-03-18T06:08:16.212934Z",
     "shell.execute_reply": "2024-03-18T06:08:16.212076Z"
    },
    "papermill": {
     "duration": 0.207668,
     "end_time": "2024-03-18T06:08:16.215485",
     "exception": false,
     "start_time": "2024-03-18T06:08:16.007817",
     "status": "completed"
    },
    "tags": []
   },
   "outputs": [
    {
     "data": {
      "application/vnd.plotly.v1+json": {
       "config": {
        "plotlyServerURL": "https://plot.ly"
       },
       "data": [
        {
         "hovertemplate": "winner=GT<br>home_wickets=%{x}<br>away_wickets=%{y}<br>season=%{z}<extra></extra>",
         "legendgroup": "GT",
         "marker": {
          "color": "#636efa",
          "symbol": "circle"
         },
         "mode": "markers",
         "name": "GT",
         "scene": "scene",
         "showlegend": true,
         "type": "scatter3d",
         "x": [
          5,
          9,
          2,
          10,
          7,
          6,
          7,
          8,
          8,
          5,
          5,
          6,
          9,
          9,
          7,
          8,
          5,
          4,
          10,
          5
         ],
         "y": [
          4,
          9,
          7,
          1,
          3,
          9,
          6,
          4,
          4,
          7,
          6,
          9,
          4,
          4,
          5,
          9,
          6,
          6,
          4,
          3
         ],
         "z": [
          2023,
          2023,
          2023,
          2023,
          2023,
          2023,
          2023,
          2023,
          2023,
          2023,
          2022,
          2022,
          2022,
          2022,
          2022,
          2022,
          2022,
          2022,
          2022,
          2022
         ]
        },
        {
         "hovertemplate": "winner=MI<br>home_wickets=%{x}<br>away_wickets=%{y}<br>season=%{z}<extra></extra>",
         "legendgroup": "MI",
         "marker": {
          "color": "#EF553B",
          "symbol": "circle"
         },
         "mode": "markers",
         "name": "MI",
         "scene": "scene",
         "showlegend": true,
         "type": "scatter3d",
         "x": [
          2,
          5,
          4,
          3,
          4,
          10,
          5,
          10,
          6,
          5,
          10,
          5,
          9,
          4,
          6,
          3,
          5,
          7,
          9,
          3,
          8,
          5,
          4,
          5,
          2,
          9,
          5,
          9,
          5,
          5,
          10,
          7,
          5,
          9,
          10,
          1,
          6,
          5,
          6,
          4,
          10,
          8,
          6,
          6,
          5,
          4,
          4,
          8,
          9,
          5,
          10,
          8,
          5,
          4,
          7,
          4,
          5,
          4,
          4,
          7,
          8,
          5,
          7,
          5,
          5,
          4,
          10,
          5,
          5,
          3,
          8,
          8,
          10,
          5,
          9,
          5,
          3,
          6,
          7,
          3,
          5,
          6,
          8,
          3,
          8,
          10,
          9,
          6,
          3,
          5,
          6,
          8,
          4,
          6,
          6,
          10,
          4,
          3,
          4,
          8,
          5,
          7,
          4,
          7,
          6,
          9,
          3,
          5,
          10,
          6,
          5,
          8,
          4,
          9,
          7,
          9,
          6,
          7,
          9,
          8,
          8,
          3,
          1,
          2,
          7
         ],
         "y": [
          5,
          8,
          6,
          4,
          7,
          5,
          6,
          4,
          5,
          6,
          5,
          7,
          2,
          6,
          4,
          4,
          10,
          10,
          5,
          5,
          4,
          7,
          10,
          4,
          5,
          0,
          6,
          1,
          8,
          8,
          7,
          4,
          7,
          5,
          4,
          7,
          8,
          2,
          4,
          6,
          6,
          5,
          7,
          8,
          6,
          4,
          2,
          7,
          10,
          8,
          3,
          5,
          4,
          7,
          6,
          5,
          2,
          4,
          10,
          7,
          8,
          7,
          3,
          6,
          4,
          7,
          1,
          5,
          8,
          3,
          3,
          3,
          4,
          4,
          6,
          9,
          8,
          5,
          7,
          10,
          10,
          10,
          5,
          3,
          7,
          2,
          5,
          10,
          6,
          10,
          9,
          8,
          1,
          5,
          0,
          2,
          1,
          10,
          9,
          4,
          8,
          7,
          10,
          5,
          7,
          7,
          3,
          2,
          7,
          10,
          10,
          5,
          7,
          4,
          7,
          6,
          6,
          2,
          2,
          3,
          10,
          10,
          6,
          10,
          7
         ],
         "z": [
          2023,
          2023,
          2023,
          2023,
          2023,
          2023,
          2023,
          2023,
          2022,
          2022,
          2022,
          2022,
          2021,
          2021,
          2021,
          2021,
          2021,
          2021,
          2020,
          2020,
          2020,
          2020,
          2020,
          2020,
          2020,
          2020,
          2020,
          2020,
          2019,
          2019,
          2019,
          2019,
          2019,
          2019,
          2019,
          2019,
          2018,
          2018,
          2018,
          2018,
          2018,
          2018,
          2017,
          2017,
          2017,
          2017,
          2017,
          2017,
          2017,
          2017,
          2017,
          2017,
          2016,
          2016,
          2016,
          2016,
          2016,
          2016,
          2016,
          2015,
          2015,
          2015,
          2015,
          2015,
          2015,
          2015,
          2015,
          2014,
          2014,
          2014,
          2014,
          2014,
          2014,
          2014,
          2013,
          2013,
          2013,
          2013,
          2013,
          2013,
          2013,
          2013,
          2013,
          2013,
          2013,
          2012,
          2012,
          2012,
          2012,
          2012,
          2012,
          2012,
          2012,
          2012,
          2012,
          2011,
          2011,
          2011,
          2011,
          2011,
          2011,
          2011,
          2011,
          2011,
          2010,
          2010,
          2010,
          2010,
          2010,
          2010,
          2010,
          2010,
          2010,
          2010,
          2009,
          2009,
          2009,
          2009,
          2009,
          2008,
          2008,
          2008,
          2008,
          2008,
          2008
         ]
        },
        {
         "hovertemplate": "winner=LSG<br>home_wickets=%{x}<br>away_wickets=%{y}<br>season=%{z}<extra></extra>",
         "legendgroup": "LSG",
         "marker": {
          "color": "#00cc96",
          "symbol": "circle"
         },
         "mode": "markers",
         "name": "LSG",
         "scene": "scene",
         "showlegend": true,
         "type": "scatter3d",
         "x": [
          7,
          3,
          6,
          10,
          6,
          2,
          5,
          6,
          4,
          4,
          9,
          6,
          8,
          7,
          7,
          8
         ],
         "y": [
          8,
          5,
          3,
          5,
          7,
          9,
          8,
          9,
          7,
          3,
          4,
          8,
          8,
          3,
          10,
          0
         ],
         "z": [
          2023,
          2023,
          2023,
          2023,
          2023,
          2023,
          2023,
          2023,
          2022,
          2022,
          2022,
          2022,
          2022,
          2022,
          2022,
          2022
         ]
        },
        {
         "hovertemplate": "winner=CSK<br>home_wickets=%{x}<br>away_wickets=%{y}<br>season=%{z}<extra></extra>",
         "legendgroup": "CSK",
         "marker": {
          "color": "#ab63fa",
          "symbol": "circle"
         },
         "mode": "markers",
         "name": "CSK",
         "scene": "scene",
         "showlegend": true,
         "type": "scatter3d",
         "x": [
          9,
          8,
          4,
          8,
          3,
          8,
          8,
          7,
          4,
          7,
          6,
          6,
          7,
          8,
          6,
          6,
          3,
          4,
          10,
          9,
          8,
          9,
          4,
          8,
          6,
          4,
          1,
          3,
          6,
          5,
          3,
          3,
          7,
          8,
          4,
          4,
          4,
          5,
          5,
          6,
          8,
          4,
          4,
          2,
          5,
          7,
          4,
          7,
          8,
          3,
          6,
          9,
          5,
          7,
          7,
          10,
          3,
          5,
          3,
          5,
          6,
          5,
          6,
          10,
          6,
          10,
          9,
          5,
          5,
          3,
          9,
          4,
          8,
          4,
          10,
          5,
          5,
          3,
          6,
          6,
          1,
          6,
          4,
          5,
          6,
          6,
          5,
          2,
          10,
          4,
          5,
          10,
          6,
          5,
          5,
          4,
          1,
          3,
          5,
          10,
          3,
          3,
          3,
          3,
          9,
          4,
          5,
          1,
          4,
          5
         ],
         "y": [
          3,
          8,
          8,
          4,
          7,
          6,
          3,
          7,
          9,
          7,
          2,
          10,
          4,
          6,
          4,
          8,
          3,
          9,
          3,
          9,
          4,
          5,
          0,
          6,
          2,
          5,
          6,
          10,
          4,
          8,
          5,
          9,
          6,
          5,
          3,
          10,
          9,
          6,
          10,
          3,
          5,
          5,
          9,
          4,
          10,
          9,
          6,
          4,
          8,
          9,
          9,
          10,
          9,
          3,
          9,
          6,
          7,
          5,
          9,
          2,
          6,
          8,
          2,
          0,
          6,
          4,
          6,
          4,
          6,
          4,
          3,
          6,
          3,
          9,
          6,
          8,
          7,
          4,
          5,
          6,
          5,
          5,
          7,
          7,
          9,
          2,
          8,
          6,
          3,
          6,
          5,
          3,
          5,
          4,
          5,
          9,
          8,
          4,
          9,
          8,
          10,
          3,
          7,
          5,
          8,
          5,
          7,
          9,
          9,
          0
         ],
         "z": [
          2023,
          2023,
          2023,
          2023,
          2023,
          2023,
          2023,
          2023,
          2022,
          2022,
          2022,
          2022,
          2021,
          2021,
          2021,
          2021,
          2021,
          2021,
          2021,
          2021,
          2021,
          2020,
          2020,
          2020,
          2020,
          2020,
          2020,
          2019,
          2019,
          2019,
          2019,
          2019,
          2019,
          2019,
          2019,
          2019,
          2018,
          2018,
          2018,
          2018,
          2018,
          2018,
          2018,
          2018,
          2018,
          2015,
          2015,
          2015,
          2015,
          2015,
          2015,
          2015,
          2015,
          2015,
          2014,
          2014,
          2014,
          2014,
          2014,
          2014,
          2014,
          2014,
          2014,
          2013,
          2013,
          2013,
          2013,
          2013,
          2013,
          2013,
          2013,
          2013,
          2013,
          2013,
          2012,
          2012,
          2012,
          2012,
          2012,
          2012,
          2012,
          2012,
          2011,
          2011,
          2011,
          2011,
          2011,
          2011,
          2011,
          2011,
          2011,
          2010,
          2010,
          2010,
          2010,
          2010,
          2010,
          2010,
          2009,
          2009,
          2009,
          2009,
          2009,
          2009,
          2009,
          2008,
          2008,
          2008,
          2008,
          2008
         ]
        },
        {
         "hovertemplate": "winner=RR<br>home_wickets=%{x}<br>away_wickets=%{y}<br>season=%{z}<extra></extra>",
         "legendgroup": "RR",
         "marker": {
          "color": "#FFA15A",
          "symbol": "circle"
         },
         "mode": "markers",
         "name": "RR",
         "scene": "scene",
         "showlegend": true,
         "type": "scatter3d",
         "x": [
          5,
          8,
          5,
          7,
          6,
          4,
          8,
          7,
          8,
          5,
          8,
          10,
          5,
          8,
          5,
          3,
          4,
          3,
          4,
          7,
          7,
          6,
          4,
          5,
          2,
          4,
          3,
          5,
          5,
          6,
          3,
          5,
          6,
          7,
          8,
          6,
          6,
          5,
          8,
          3,
          3,
          5,
          2,
          6,
          6,
          4,
          5,
          6,
          5,
          6,
          6,
          6,
          4,
          3,
          2,
          6,
          5,
          1,
          6,
          5,
          4,
          5,
          10,
          5,
          8,
          6,
          4,
          8,
          4,
          2,
          3,
          4,
          5,
          7,
          10,
          2,
          8,
          10,
          1,
          7,
          5,
          8,
          10,
          10,
          4,
          5,
          8,
          7,
          2,
          1,
          8,
          5
         ],
         "y": [
          6,
          1,
          6,
          7,
          8,
          9,
          5,
          6,
          8,
          10,
          2,
          8,
          4,
          6,
          6,
          4,
          10,
          8,
          9,
          8,
          6,
          2,
          5,
          3,
          5,
          3,
          4,
          6,
          5,
          7,
          8,
          4,
          4,
          7,
          7,
          4,
          3,
          10,
          7,
          7,
          5,
          4,
          4,
          9,
          6,
          10,
          3,
          6,
          5,
          9,
          7,
          10,
          10,
          10,
          9,
          6,
          4,
          4,
          2,
          4,
          9,
          10,
          2,
          2,
          6,
          3,
          9,
          2,
          6,
          10,
          8,
          7,
          0,
          5,
          5,
          9,
          6,
          10,
          6,
          5,
          7,
          4,
          3,
          7,
          8,
          7,
          3,
          10,
          10,
          9,
          4,
          7
         ],
         "z": [
          2023,
          2023,
          2023,
          2023,
          2023,
          2023,
          2023,
          2022,
          2022,
          2022,
          2022,
          2022,
          2022,
          2022,
          2022,
          2021,
          2021,
          2021,
          2021,
          2021,
          2020,
          2020,
          2020,
          2020,
          2020,
          2020,
          2019,
          2019,
          2019,
          2019,
          2019,
          2018,
          2018,
          2018,
          2018,
          2018,
          2018,
          2018,
          2015,
          2015,
          2015,
          2015,
          2015,
          2015,
          2014,
          2014,
          2014,
          2014,
          2014,
          2014,
          2013,
          2013,
          2013,
          2013,
          2013,
          2013,
          2013,
          2013,
          2013,
          2013,
          2012,
          2012,
          2012,
          2012,
          2012,
          2012,
          2012,
          2011,
          2011,
          2011,
          2011,
          2011,
          2011,
          2010,
          2010,
          2010,
          2010,
          2010,
          2010,
          2009,
          2009,
          2009,
          2009,
          2009,
          2008,
          2008,
          2008,
          2008,
          2008,
          2008,
          2008,
          2008
         ]
        },
        {
         "hovertemplate": "winner=RCB<br>home_wickets=%{x}<br>away_wickets=%{y}<br>season=%{z}<extra></extra>",
         "legendgroup": "RCB",
         "marker": {
          "color": "#19d3f3",
          "symbol": "circle"
         },
         "mode": "markers",
         "name": "RCB",
         "scene": "scene",
         "showlegend": true,
         "type": "scatter3d",
         "x": [
          5,
          10,
          10,
          9,
          10,
          6,
          2,
          7,
          3,
          3,
          7,
          8,
          8,
          10,
          2,
          3,
          7,
          9,
          6,
          4,
          0,
          4,
          9,
          10,
          2,
          8,
          2,
          6,
          8,
          4,
          5,
          7,
          4,
          6,
          4,
          7,
          4,
          10,
          6,
          8,
          7,
          10,
          4,
          4,
          3,
          5,
          3,
          8,
          6,
          9,
          10,
          3,
          3,
          7,
          3,
          4,
          3,
          6,
          4,
          4,
          5,
          3,
          2,
          7,
          3,
          5,
          9,
          7,
          2,
          8,
          4,
          6,
          7,
          5,
          6,
          9,
          9,
          5,
          5,
          6,
          5,
          6,
          1,
          6,
          6,
          2,
          2,
          0,
          9,
          5,
          5,
          3,
          6,
          5,
          9,
          1,
          4,
          3,
          4,
          6,
          8,
          8
         ],
         "y": [
          2,
          5,
          9,
          6,
          4,
          9,
          7,
          10,
          6,
          6,
          5,
          6,
          8,
          3,
          5,
          5,
          6,
          3,
          10,
          5,
          9,
          8,
          8,
          5,
          6,
          4,
          9,
          3,
          2,
          2,
          4,
          8,
          7,
          10,
          5,
          7,
          5,
          0,
          3,
          9,
          2,
          6,
          6,
          6,
          10,
          1,
          9,
          4,
          7,
          1,
          0,
          4,
          10,
          1,
          4,
          2,
          9,
          6,
          7,
          5,
          5,
          6,
          8,
          5,
          10,
          9,
          3,
          4,
          6,
          7,
          6,
          5,
          3,
          2,
          1,
          3,
          1,
          4,
          1,
          7,
          5,
          9,
          9,
          1,
          4,
          8,
          3,
          10,
          3,
          7,
          4,
          9,
          5,
          6,
          7,
          4,
          4,
          7,
          6,
          5,
          6,
          8
         ],
         "z": [
          2023,
          2023,
          2023,
          2023,
          2023,
          2023,
          2023,
          2022,
          2022,
          2022,
          2022,
          2022,
          2022,
          2022,
          2022,
          2021,
          2021,
          2021,
          2021,
          2021,
          2021,
          2021,
          2021,
          2020,
          2020,
          2020,
          2020,
          2020,
          2020,
          2019,
          2019,
          2019,
          2019,
          2018,
          2018,
          2018,
          2018,
          2018,
          2018,
          2017,
          2017,
          2017,
          2016,
          2016,
          2016,
          2016,
          2016,
          2016,
          2015,
          2015,
          2015,
          2015,
          2015,
          2015,
          2015,
          2014,
          2014,
          2014,
          2014,
          2014,
          2013,
          2013,
          2013,
          2013,
          2013,
          2013,
          2013,
          2013,
          2013,
          2012,
          2012,
          2012,
          2012,
          2012,
          2012,
          2012,
          2012,
          2011,
          2011,
          2011,
          2011,
          2011,
          2011,
          2011,
          2011,
          2011,
          2010,
          2010,
          2010,
          2010,
          2010,
          2010,
          2010,
          2009,
          2009,
          2009,
          2009,
          2009,
          2009,
          2008,
          2008,
          2008
         ]
        },
        {
         "hovertemplate": "winner=DC<br>home_wickets=%{x}<br>away_wickets=%{y}<br>season=%{z}<extra></extra>",
         "legendgroup": "DC",
         "marker": {
          "color": "#FF6692",
          "symbol": "circle"
         },
         "mode": "markers",
         "name": "DC",
         "scene": "scene",
         "showlegend": true,
         "type": "scatter3d",
         "x": [
          8,
          3,
          6,
          6,
          6,
          6,
          1,
          6,
          3,
          6,
          9,
          7,
          8,
          6,
          2,
          6,
          3,
          4,
          4,
          7,
          4,
          9,
          10,
          7,
          5,
          4,
          9,
          6,
          8,
          7,
          10,
          5,
          6,
          5,
          5,
          7,
          4,
          6,
          5,
          4,
          10,
          6,
          4,
          3,
          5,
          8,
          2,
          5,
          8,
          7,
          8,
          4,
          7,
          8,
          4,
          1,
          4,
          5,
          4,
          1,
          5,
          3,
          9,
          2,
          10,
          2,
          5,
          6,
          6,
          5,
          8,
          5,
          4,
          10,
          9,
          6,
          9,
          4,
          6,
          5,
          9,
          0,
          9,
          7,
          1,
          3,
          3,
          3,
          6,
          5,
          6,
          7
         ],
         "y": [
          2,
          4,
          8,
          9,
          10,
          5,
          10,
          9,
          8,
          2,
          7,
          5,
          6,
          6,
          9,
          3,
          6,
          9,
          4,
          3,
          8,
          4,
          8,
          8,
          4,
          7,
          6,
          8,
          6,
          3,
          7,
          7,
          4,
          7,
          9,
          3,
          9,
          5,
          6,
          10,
          4,
          9,
          3,
          7,
          8,
          7,
          9,
          3,
          10,
          2,
          3,
          7,
          5,
          4,
          9,
          8,
          6,
          6,
          6,
          4,
          4,
          7,
          2,
          8,
          3,
          2,
          9,
          3,
          4,
          8,
          4,
          7,
          6,
          7,
          5,
          4,
          4,
          9,
          10,
          9,
          4,
          7,
          5,
          4,
          3,
          10,
          8,
          9,
          8,
          5,
          2,
          5
         ],
         "z": [
          2023,
          2023,
          2023,
          2023,
          2023,
          2022,
          2022,
          2022,
          2022,
          2022,
          2022,
          2021,
          2021,
          2021,
          2021,
          2021,
          2021,
          2021,
          2021,
          2020,
          2020,
          2020,
          2020,
          2020,
          2020,
          2020,
          2019,
          2019,
          2019,
          2019,
          2019,
          2019,
          2019,
          2019,
          2019,
          2018,
          2018,
          2018,
          2018,
          2018,
          2017,
          2017,
          2017,
          2017,
          2017,
          2017,
          2016,
          2016,
          2016,
          2016,
          2016,
          2016,
          2015,
          2015,
          2015,
          2015,
          2015,
          2014,
          2014,
          2013,
          2013,
          2013,
          2012,
          2012,
          2012,
          2012,
          2012,
          2012,
          2012,
          2012,
          2012,
          2011,
          2011,
          2011,
          2010,
          2010,
          2010,
          2010,
          2010,
          2010,
          2010,
          2009,
          2009,
          2009,
          2009,
          2009,
          2009,
          2009,
          2009,
          2008,
          2008,
          2008
         ]
        },
        {
         "hovertemplate": "winner=KKR<br>home_wickets=%{x}<br>away_wickets=%{y}<br>season=%{z}<extra></extra>",
         "legendgroup": "KKR",
         "marker": {
          "color": "#B6E880",
          "symbol": "circle"
         },
         "mode": "markers",
         "name": "KKR",
         "scene": "scene",
         "showlegend": true,
         "type": "scatter3d",
         "x": [
          6,
          5,
          8,
          8,
          4,
          7,
          5,
          4,
          5,
          3,
          10,
          6,
          4,
          4,
          7,
          6,
          1,
          9,
          5,
          3,
          9,
          10,
          5,
          6,
          7,
          4,
          4,
          3,
          3,
          2,
          6,
          6,
          9,
          8,
          4,
          4,
          8,
          4,
          9,
          4,
          2,
          6,
          7,
          10,
          5,
          3,
          6,
          8,
          7,
          2,
          6,
          3,
          9,
          8,
          3,
          7,
          7,
          9,
          7,
          5,
          8,
          5,
          8,
          4,
          8,
          2,
          4,
          6,
          4,
          4,
          4,
          2,
          10,
          5,
          9,
          5,
          7,
          7,
          4,
          5,
          5,
          9,
          10,
          8,
          4,
          4,
          2,
          9,
          2,
          6,
          2,
          7,
          7,
          3,
          6,
          6,
          3,
          2,
          1,
          6,
          8,
          3,
          6,
          10,
          5
         ],
         "y": [
          4,
          7,
          9,
          5,
          7,
          10,
          4,
          10,
          4,
          5,
          9,
          8,
          10,
          8,
          9,
          3,
          10,
          5,
          6,
          4,
          6,
          5,
          6,
          9,
          9,
          3,
          4,
          5,
          2,
          7,
          3,
          7,
          10,
          3,
          4,
          5,
          6,
          10,
          5,
          0,
          9,
          6,
          6,
          10,
          3,
          6,
          4,
          4,
          5,
          6,
          8,
          3,
          6,
          4,
          9,
          9,
          6,
          5,
          5,
          7,
          5,
          2,
          1,
          5,
          3,
          4,
          5,
          7,
          10,
          7,
          6,
          6,
          6,
          9,
          8,
          5,
          2,
          5,
          6,
          5,
          8,
          4,
          7,
          4,
          8,
          1,
          10,
          7,
          6,
          4,
          4,
          3,
          4,
          7,
          5,
          5,
          8,
          9,
          8,
          1,
          6,
          3,
          9,
          3,
          10
         ],
         "z": [
          2023,
          2023,
          2023,
          2023,
          2023,
          2023,
          2022,
          2022,
          2022,
          2022,
          2022,
          2022,
          2021,
          2021,
          2021,
          2021,
          2021,
          2021,
          2021,
          2020,
          2020,
          2020,
          2020,
          2020,
          2020,
          2019,
          2019,
          2019,
          2019,
          2019,
          2019,
          2018,
          2018,
          2018,
          2018,
          2018,
          2018,
          2018,
          2018,
          2017,
          2017,
          2017,
          2017,
          2017,
          2017,
          2017,
          2017,
          2016,
          2016,
          2016,
          2016,
          2015,
          2015,
          2015,
          2015,
          2015,
          2015,
          2015,
          2014,
          2014,
          2014,
          2014,
          2014,
          2014,
          2014,
          2014,
          2014,
          2014,
          2013,
          2013,
          2013,
          2013,
          2013,
          2013,
          2012,
          2012,
          2012,
          2012,
          2012,
          2012,
          2012,
          2012,
          2012,
          2012,
          2011,
          2011,
          2011,
          2011,
          2011,
          2011,
          2011,
          2011,
          2010,
          2010,
          2010,
          2010,
          2010,
          2010,
          2010,
          2009,
          2009,
          2009,
          2009,
          2008,
          2008
         ]
        },
        {
         "hovertemplate": "winner=PBKS<br>home_wickets=%{x}<br>away_wickets=%{y}<br>season=%{z}<extra></extra>",
         "legendgroup": "PBKS",
         "marker": {
          "color": "#FF97FF",
          "symbol": "circle"
         },
         "mode": "markers",
         "name": "PBKS",
         "scene": "scene",
         "showlegend": true,
         "type": "scatter3d",
         "x": [
          8,
          4,
          6,
          8,
          7,
          5,
          5,
          10,
          9,
          4,
          8,
          9,
          8,
          6,
          7,
          7,
          5,
          1,
          7
         ],
         "y": [
          7,
          6,
          8,
          8,
          4,
          7,
          2,
          8,
          5,
          6,
          2,
          9,
          5,
          4,
          5,
          7,
          8,
          6,
          6
         ],
         "z": [
          2023,
          2023,
          2023,
          2023,
          2023,
          2023,
          2022,
          2022,
          2022,
          2022,
          2022,
          2022,
          2022,
          2021,
          2021,
          2021,
          2021,
          2021,
          2021
         ]
        },
        {
         "hovertemplate": "winner=SRH<br>home_wickets=%{x}<br>away_wickets=%{y}<br>season=%{z}<extra></extra>",
         "legendgroup": "SRH",
         "marker": {
          "color": "#FECB52",
          "symbol": "circle"
         },
         "mode": "markers",
         "name": "SRH",
         "scene": "scene",
         "showlegend": true,
         "type": "scatter3d",
         "x": [
          2,
          6,
          7,
          2,
          7,
          3,
          10,
          10,
          7,
          6,
          3,
          7,
          10,
          7,
          5,
          6,
          6,
          2,
          0,
          5,
          2,
          8,
          4,
          1,
          6,
          5,
          1,
          9,
          8,
          10,
          6,
          6,
          3,
          10,
          5,
          1,
          6,
          4,
          9,
          3,
          3,
          10,
          3,
          5,
          5,
          10,
          8,
          4,
          10,
          4,
          9,
          7,
          7,
          4,
          5,
          1,
          7,
          10,
          7,
          3,
          3,
          6,
          7,
          8,
          10,
          3,
          4,
          9,
          9,
          5,
          7,
          4,
          5,
          7,
          5,
          10,
          8,
          9,
          10,
          9,
          7,
          6,
          4,
          6,
          3,
          2,
          9,
          6,
          6,
          7,
          4,
          7,
          7
         ],
         "y": [
          6,
          6,
          4,
          9,
          2,
          8,
          3,
          1,
          6,
          7,
          5,
          4,
          1,
          4,
          5,
          10,
          5,
          10,
          8,
          2,
          10,
          5,
          5,
          8,
          8,
          6,
          9,
          8,
          5,
          10,
          10,
          7,
          5,
          6,
          1,
          7,
          10,
          5,
          3,
          7,
          7,
          2,
          6,
          6,
          6,
          3,
          8,
          3,
          2,
          4,
          6,
          6,
          4,
          4,
          7,
          4,
          5,
          9,
          2,
          6,
          4,
          10,
          8,
          7,
          8,
          4,
          10,
          7,
          9,
          7,
          4,
          5,
          8,
          9,
          9,
          7,
          6,
          4,
          2,
          4,
          8,
          3,
          8,
          10,
          5,
          10,
          7,
          4,
          8,
          10,
          5,
          0,
          3
         ],
         "z": [
          2023,
          2023,
          2023,
          2023,
          2022,
          2022,
          2022,
          2022,
          2022,
          2021,
          2021,
          2021,
          2021,
          2020,
          2020,
          2020,
          2020,
          2020,
          2020,
          2019,
          2019,
          2019,
          2019,
          2019,
          2019,
          2019,
          2018,
          2018,
          2018,
          2018,
          2018,
          2018,
          2018,
          2018,
          2018,
          2017,
          2017,
          2017,
          2017,
          2017,
          2017,
          2017,
          2016,
          2016,
          2016,
          2016,
          2016,
          2016,
          2015,
          2015,
          2015,
          2015,
          2015,
          2015,
          2015,
          2014,
          2014,
          2014,
          2014,
          2014,
          2014,
          2013,
          2013,
          2013,
          2013,
          2013,
          2013,
          2013,
          2013,
          2013,
          2012,
          2012,
          2012,
          2012,
          2011,
          2011,
          2011,
          2011,
          2011,
          2010,
          2010,
          2010,
          2010,
          2010,
          2010,
          2009,
          2009,
          2009,
          2009,
          2009,
          2009,
          2008,
          2008
         ]
        },
        {
         "hovertemplate": "winner=KXIP<br>home_wickets=%{x}<br>away_wickets=%{y}<br>season=%{z}<extra></extra>",
         "legendgroup": "KXIP",
         "marker": {
          "color": "#636efa",
          "symbol": "circle"
         },
         "mode": "markers",
         "name": "KXIP",
         "scene": "scene",
         "showlegend": true,
         "type": "scatter3d",
         "x": [
          8,
          3,
          6,
          6,
          5,
          7,
          9,
          9,
          2,
          9,
          4,
          6,
          4,
          4,
          7,
          3,
          7,
          8,
          4,
          4,
          2,
          7,
          0,
          10,
          6,
          6,
          9,
          9,
          7,
          6,
          6,
          4,
          5,
          6,
          10,
          5,
          4,
          9,
          5,
          7,
          4,
          3,
          9,
          3,
          7,
          4,
          5,
          4,
          3,
          7,
          6,
          8,
          5,
          8,
          6,
          4,
          4,
          8,
          7,
          8,
          7,
          6,
          2,
          3,
          4,
          10,
          9,
          6,
          8,
          4,
          5,
          9,
          8,
          10,
          6,
          8,
          6,
          10,
          1,
          4,
          4,
          3
         ],
         "y": [
          8,
          10,
          2,
          6,
          5,
          10,
          2,
          4,
          7,
          10,
          4,
          7,
          5,
          7,
          5,
          4,
          1,
          8,
          9,
          6,
          4,
          7,
          10,
          7,
          6,
          3,
          10,
          3,
          5,
          6,
          6,
          4,
          3,
          10,
          9,
          8,
          6,
          8,
          4,
          6,
          8,
          10,
          2,
          4,
          5,
          3,
          3,
          7,
          10,
          9,
          4,
          8,
          6,
          5,
          4,
          7,
          4,
          2,
          7,
          10,
          4,
          8,
          10,
          2,
          9,
          3,
          3,
          7,
          7,
          3,
          7,
          4,
          7,
          9,
          8,
          3,
          6,
          4,
          8,
          3,
          4,
          7
         ],
         "z": [
          2020,
          2020,
          2020,
          2020,
          2020,
          2020,
          2020,
          2019,
          2019,
          2019,
          2019,
          2019,
          2019,
          2018,
          2018,
          2018,
          2018,
          2018,
          2018,
          2017,
          2017,
          2017,
          2017,
          2017,
          2017,
          2017,
          2016,
          2016,
          2015,
          2015,
          2015,
          2014,
          2014,
          2014,
          2014,
          2014,
          2014,
          2014,
          2014,
          2014,
          2014,
          2014,
          2013,
          2013,
          2013,
          2013,
          2013,
          2013,
          2012,
          2012,
          2012,
          2012,
          2012,
          2012,
          2012,
          2012,
          2011,
          2011,
          2011,
          2011,
          2011,
          2011,
          2011,
          2010,
          2010,
          2010,
          2009,
          2009,
          2009,
          2009,
          2009,
          2009,
          2009,
          2008,
          2008,
          2008,
          2008,
          2008,
          2008,
          2008,
          2008,
          2008
         ]
        },
        {
         "hovertemplate": "winner=RPS<br>home_wickets=%{x}<br>away_wickets=%{y}<br>season=%{z}<extra></extra>",
         "legendgroup": "RPS",
         "marker": {
          "color": "#EF553B",
          "symbol": "circle"
         },
         "mode": "markers",
         "name": "RPS",
         "scene": "scene",
         "showlegend": true,
         "type": "scatter3d",
         "x": [
          3,
          9,
          4,
          8,
          3,
          5,
          8,
          9,
          1,
          8,
          8,
          7,
          1,
          6
         ],
         "y": [
          8,
          8,
          3,
          6,
          9,
          10,
          6,
          8,
          10,
          1,
          3,
          3,
          6,
          7
         ],
         "z": [
          2017,
          2017,
          2017,
          2017,
          2017,
          2017,
          2017,
          2017,
          2017,
          2016,
          2016,
          2016,
          2016,
          2016
         ]
        },
        {
         "hovertemplate": "winner=GL<br>home_wickets=%{x}<br>away_wickets=%{y}<br>season=%{z}<extra></extra>",
         "legendgroup": "GL",
         "marker": {
          "color": "#00cc96",
          "symbol": "circle"
         },
         "mode": "markers",
         "name": "GL",
         "scene": "scene",
         "showlegend": true,
         "type": "scatter3d",
         "x": [
          3,
          5,
          10,
          3,
          6,
          8,
          5,
          3,
          4,
          4,
          4
         ],
         "y": [
          8,
          6,
          3,
          4,
          5,
          7,
          6,
          7,
          5,
          8,
          8
         ],
         "z": [
          2017,
          2017,
          2017,
          2017,
          2016,
          2016,
          2016,
          2016,
          2016,
          2016,
          2016
         ]
        },
        {
         "hovertemplate": "winner=PWI<br>home_wickets=%{x}<br>away_wickets=%{y}<br>season=%{z}<extra></extra>",
         "legendgroup": "PWI",
         "marker": {
          "color": "#ab63fa",
          "symbol": "circle"
         },
         "mode": "markers",
         "name": "PWI",
         "scene": "scene",
         "showlegend": true,
         "type": "scatter3d",
         "x": [
          3,
          8,
          7,
          5,
          9,
          6,
          3,
          7,
          3,
          6,
          8,
          8
         ],
         "y": [
          5,
          5,
          4,
          9,
          9,
          8,
          5,
          3,
          8,
          8,
          5,
          4
         ],
         "z": [
          2013,
          2013,
          2013,
          2013,
          2012,
          2012,
          2012,
          2012,
          2011,
          2011,
          2011,
          2011
         ]
        },
        {
         "hovertemplate": "winner=Kochi<br>home_wickets=%{x}<br>away_wickets=%{y}<br>season=%{z}<extra></extra>",
         "legendgroup": "Kochi",
         "marker": {
          "color": "#FFA15A",
          "symbol": "circle"
         },
         "mode": "markers",
         "name": "Kochi",
         "scene": "scene",
         "showlegend": true,
         "type": "scatter3d",
         "x": [
          2,
          3,
          9,
          6,
          5,
          2
         ],
         "y": [
          2,
          4,
          7,
          3,
          7,
          10
         ],
         "z": [
          2011,
          2011,
          2011,
          2011,
          2011,
          2011
         ]
        }
       ],
       "layout": {
        "legend": {
         "title": {
          "text": "winner"
         },
         "tracegroupgap": 0
        },
        "margin": {
         "t": 60
        },
        "scene": {
         "domain": {
          "x": [
           0,
           1
          ],
          "y": [
           0,
           1
          ]
         },
         "xaxis": {
          "title": {
           "text": "Home Wickets"
          }
         },
         "yaxis": {
          "title": {
           "text": "Away Wickets"
          }
         },
         "zaxis": {
          "title": {
           "text": "Winner"
          }
         }
        },
        "template": {
         "data": {
          "bar": [
           {
            "error_x": {
             "color": "#2a3f5f"
            },
            "error_y": {
             "color": "#2a3f5f"
            },
            "marker": {
             "line": {
              "color": "#E5ECF6",
              "width": 0.5
             },
             "pattern": {
              "fillmode": "overlay",
              "size": 10,
              "solidity": 0.2
             }
            },
            "type": "bar"
           }
          ],
          "barpolar": [
           {
            "marker": {
             "line": {
              "color": "#E5ECF6",
              "width": 0.5
             },
             "pattern": {
              "fillmode": "overlay",
              "size": 10,
              "solidity": 0.2
             }
            },
            "type": "barpolar"
           }
          ],
          "carpet": [
           {
            "aaxis": {
             "endlinecolor": "#2a3f5f",
             "gridcolor": "white",
             "linecolor": "white",
             "minorgridcolor": "white",
             "startlinecolor": "#2a3f5f"
            },
            "baxis": {
             "endlinecolor": "#2a3f5f",
             "gridcolor": "white",
             "linecolor": "white",
             "minorgridcolor": "white",
             "startlinecolor": "#2a3f5f"
            },
            "type": "carpet"
           }
          ],
          "choropleth": [
           {
            "colorbar": {
             "outlinewidth": 0,
             "ticks": ""
            },
            "type": "choropleth"
           }
          ],
          "contour": [
           {
            "colorbar": {
             "outlinewidth": 0,
             "ticks": ""
            },
            "colorscale": [
             [
              0,
              "#0d0887"
             ],
             [
              0.1111111111111111,
              "#46039f"
             ],
             [
              0.2222222222222222,
              "#7201a8"
             ],
             [
              0.3333333333333333,
              "#9c179e"
             ],
             [
              0.4444444444444444,
              "#bd3786"
             ],
             [
              0.5555555555555556,
              "#d8576b"
             ],
             [
              0.6666666666666666,
              "#ed7953"
             ],
             [
              0.7777777777777778,
              "#fb9f3a"
             ],
             [
              0.8888888888888888,
              "#fdca26"
             ],
             [
              1,
              "#f0f921"
             ]
            ],
            "type": "contour"
           }
          ],
          "contourcarpet": [
           {
            "colorbar": {
             "outlinewidth": 0,
             "ticks": ""
            },
            "type": "contourcarpet"
           }
          ],
          "heatmap": [
           {
            "colorbar": {
             "outlinewidth": 0,
             "ticks": ""
            },
            "colorscale": [
             [
              0,
              "#0d0887"
             ],
             [
              0.1111111111111111,
              "#46039f"
             ],
             [
              0.2222222222222222,
              "#7201a8"
             ],
             [
              0.3333333333333333,
              "#9c179e"
             ],
             [
              0.4444444444444444,
              "#bd3786"
             ],
             [
              0.5555555555555556,
              "#d8576b"
             ],
             [
              0.6666666666666666,
              "#ed7953"
             ],
             [
              0.7777777777777778,
              "#fb9f3a"
             ],
             [
              0.8888888888888888,
              "#fdca26"
             ],
             [
              1,
              "#f0f921"
             ]
            ],
            "type": "heatmap"
           }
          ],
          "heatmapgl": [
           {
            "colorbar": {
             "outlinewidth": 0,
             "ticks": ""
            },
            "colorscale": [
             [
              0,
              "#0d0887"
             ],
             [
              0.1111111111111111,
              "#46039f"
             ],
             [
              0.2222222222222222,
              "#7201a8"
             ],
             [
              0.3333333333333333,
              "#9c179e"
             ],
             [
              0.4444444444444444,
              "#bd3786"
             ],
             [
              0.5555555555555556,
              "#d8576b"
             ],
             [
              0.6666666666666666,
              "#ed7953"
             ],
             [
              0.7777777777777778,
              "#fb9f3a"
             ],
             [
              0.8888888888888888,
              "#fdca26"
             ],
             [
              1,
              "#f0f921"
             ]
            ],
            "type": "heatmapgl"
           }
          ],
          "histogram": [
           {
            "marker": {
             "pattern": {
              "fillmode": "overlay",
              "size": 10,
              "solidity": 0.2
             }
            },
            "type": "histogram"
           }
          ],
          "histogram2d": [
           {
            "colorbar": {
             "outlinewidth": 0,
             "ticks": ""
            },
            "colorscale": [
             [
              0,
              "#0d0887"
             ],
             [
              0.1111111111111111,
              "#46039f"
             ],
             [
              0.2222222222222222,
              "#7201a8"
             ],
             [
              0.3333333333333333,
              "#9c179e"
             ],
             [
              0.4444444444444444,
              "#bd3786"
             ],
             [
              0.5555555555555556,
              "#d8576b"
             ],
             [
              0.6666666666666666,
              "#ed7953"
             ],
             [
              0.7777777777777778,
              "#fb9f3a"
             ],
             [
              0.8888888888888888,
              "#fdca26"
             ],
             [
              1,
              "#f0f921"
             ]
            ],
            "type": "histogram2d"
           }
          ],
          "histogram2dcontour": [
           {
            "colorbar": {
             "outlinewidth": 0,
             "ticks": ""
            },
            "colorscale": [
             [
              0,
              "#0d0887"
             ],
             [
              0.1111111111111111,
              "#46039f"
             ],
             [
              0.2222222222222222,
              "#7201a8"
             ],
             [
              0.3333333333333333,
              "#9c179e"
             ],
             [
              0.4444444444444444,
              "#bd3786"
             ],
             [
              0.5555555555555556,
              "#d8576b"
             ],
             [
              0.6666666666666666,
              "#ed7953"
             ],
             [
              0.7777777777777778,
              "#fb9f3a"
             ],
             [
              0.8888888888888888,
              "#fdca26"
             ],
             [
              1,
              "#f0f921"
             ]
            ],
            "type": "histogram2dcontour"
           }
          ],
          "mesh3d": [
           {
            "colorbar": {
             "outlinewidth": 0,
             "ticks": ""
            },
            "type": "mesh3d"
           }
          ],
          "parcoords": [
           {
            "line": {
             "colorbar": {
              "outlinewidth": 0,
              "ticks": ""
             }
            },
            "type": "parcoords"
           }
          ],
          "pie": [
           {
            "automargin": true,
            "type": "pie"
           }
          ],
          "scatter": [
           {
            "fillpattern": {
             "fillmode": "overlay",
             "size": 10,
             "solidity": 0.2
            },
            "type": "scatter"
           }
          ],
          "scatter3d": [
           {
            "line": {
             "colorbar": {
              "outlinewidth": 0,
              "ticks": ""
             }
            },
            "marker": {
             "colorbar": {
              "outlinewidth": 0,
              "ticks": ""
             }
            },
            "type": "scatter3d"
           }
          ],
          "scattercarpet": [
           {
            "marker": {
             "colorbar": {
              "outlinewidth": 0,
              "ticks": ""
             }
            },
            "type": "scattercarpet"
           }
          ],
          "scattergeo": [
           {
            "marker": {
             "colorbar": {
              "outlinewidth": 0,
              "ticks": ""
             }
            },
            "type": "scattergeo"
           }
          ],
          "scattergl": [
           {
            "marker": {
             "colorbar": {
              "outlinewidth": 0,
              "ticks": ""
             }
            },
            "type": "scattergl"
           }
          ],
          "scattermapbox": [
           {
            "marker": {
             "colorbar": {
              "outlinewidth": 0,
              "ticks": ""
             }
            },
            "type": "scattermapbox"
           }
          ],
          "scatterpolar": [
           {
            "marker": {
             "colorbar": {
              "outlinewidth": 0,
              "ticks": ""
             }
            },
            "type": "scatterpolar"
           }
          ],
          "scatterpolargl": [
           {
            "marker": {
             "colorbar": {
              "outlinewidth": 0,
              "ticks": ""
             }
            },
            "type": "scatterpolargl"
           }
          ],
          "scatterternary": [
           {
            "marker": {
             "colorbar": {
              "outlinewidth": 0,
              "ticks": ""
             }
            },
            "type": "scatterternary"
           }
          ],
          "surface": [
           {
            "colorbar": {
             "outlinewidth": 0,
             "ticks": ""
            },
            "colorscale": [
             [
              0,
              "#0d0887"
             ],
             [
              0.1111111111111111,
              "#46039f"
             ],
             [
              0.2222222222222222,
              "#7201a8"
             ],
             [
              0.3333333333333333,
              "#9c179e"
             ],
             [
              0.4444444444444444,
              "#bd3786"
             ],
             [
              0.5555555555555556,
              "#d8576b"
             ],
             [
              0.6666666666666666,
              "#ed7953"
             ],
             [
              0.7777777777777778,
              "#fb9f3a"
             ],
             [
              0.8888888888888888,
              "#fdca26"
             ],
             [
              1,
              "#f0f921"
             ]
            ],
            "type": "surface"
           }
          ],
          "table": [
           {
            "cells": {
             "fill": {
              "color": "#EBF0F8"
             },
             "line": {
              "color": "white"
             }
            },
            "header": {
             "fill": {
              "color": "#C8D4E3"
             },
             "line": {
              "color": "white"
             }
            },
            "type": "table"
           }
          ]
         },
         "layout": {
          "annotationdefaults": {
           "arrowcolor": "#2a3f5f",
           "arrowhead": 0,
           "arrowwidth": 1
          },
          "autotypenumbers": "strict",
          "coloraxis": {
           "colorbar": {
            "outlinewidth": 0,
            "ticks": ""
           }
          },
          "colorscale": {
           "diverging": [
            [
             0,
             "#8e0152"
            ],
            [
             0.1,
             "#c51b7d"
            ],
            [
             0.2,
             "#de77ae"
            ],
            [
             0.3,
             "#f1b6da"
            ],
            [
             0.4,
             "#fde0ef"
            ],
            [
             0.5,
             "#f7f7f7"
            ],
            [
             0.6,
             "#e6f5d0"
            ],
            [
             0.7,
             "#b8e186"
            ],
            [
             0.8,
             "#7fbc41"
            ],
            [
             0.9,
             "#4d9221"
            ],
            [
             1,
             "#276419"
            ]
           ],
           "sequential": [
            [
             0,
             "#0d0887"
            ],
            [
             0.1111111111111111,
             "#46039f"
            ],
            [
             0.2222222222222222,
             "#7201a8"
            ],
            [
             0.3333333333333333,
             "#9c179e"
            ],
            [
             0.4444444444444444,
             "#bd3786"
            ],
            [
             0.5555555555555556,
             "#d8576b"
            ],
            [
             0.6666666666666666,
             "#ed7953"
            ],
            [
             0.7777777777777778,
             "#fb9f3a"
            ],
            [
             0.8888888888888888,
             "#fdca26"
            ],
            [
             1,
             "#f0f921"
            ]
           ],
           "sequentialminus": [
            [
             0,
             "#0d0887"
            ],
            [
             0.1111111111111111,
             "#46039f"
            ],
            [
             0.2222222222222222,
             "#7201a8"
            ],
            [
             0.3333333333333333,
             "#9c179e"
            ],
            [
             0.4444444444444444,
             "#bd3786"
            ],
            [
             0.5555555555555556,
             "#d8576b"
            ],
            [
             0.6666666666666666,
             "#ed7953"
            ],
            [
             0.7777777777777778,
             "#fb9f3a"
            ],
            [
             0.8888888888888888,
             "#fdca26"
            ],
            [
             1,
             "#f0f921"
            ]
           ]
          },
          "colorway": [
           "#636efa",
           "#EF553B",
           "#00cc96",
           "#ab63fa",
           "#FFA15A",
           "#19d3f3",
           "#FF6692",
           "#B6E880",
           "#FF97FF",
           "#FECB52"
          ],
          "font": {
           "color": "#2a3f5f"
          },
          "geo": {
           "bgcolor": "white",
           "lakecolor": "white",
           "landcolor": "#E5ECF6",
           "showlakes": true,
           "showland": true,
           "subunitcolor": "white"
          },
          "hoverlabel": {
           "align": "left"
          },
          "hovermode": "closest",
          "mapbox": {
           "style": "light"
          },
          "paper_bgcolor": "white",
          "plot_bgcolor": "#E5ECF6",
          "polar": {
           "angularaxis": {
            "gridcolor": "white",
            "linecolor": "white",
            "ticks": ""
           },
           "bgcolor": "#E5ECF6",
           "radialaxis": {
            "gridcolor": "white",
            "linecolor": "white",
            "ticks": ""
           }
          },
          "scene": {
           "xaxis": {
            "backgroundcolor": "#E5ECF6",
            "gridcolor": "white",
            "gridwidth": 2,
            "linecolor": "white",
            "showbackground": true,
            "ticks": "",
            "zerolinecolor": "white"
           },
           "yaxis": {
            "backgroundcolor": "#E5ECF6",
            "gridcolor": "white",
            "gridwidth": 2,
            "linecolor": "white",
            "showbackground": true,
            "ticks": "",
            "zerolinecolor": "white"
           },
           "zaxis": {
            "backgroundcolor": "#E5ECF6",
            "gridcolor": "white",
            "gridwidth": 2,
            "linecolor": "white",
            "showbackground": true,
            "ticks": "",
            "zerolinecolor": "white"
           }
          },
          "shapedefaults": {
           "line": {
            "color": "#2a3f5f"
           }
          },
          "ternary": {
           "aaxis": {
            "gridcolor": "white",
            "linecolor": "white",
            "ticks": ""
           },
           "baxis": {
            "gridcolor": "white",
            "linecolor": "white",
            "ticks": ""
           },
           "bgcolor": "#E5ECF6",
           "caxis": {
            "gridcolor": "white",
            "linecolor": "white",
            "ticks": ""
           }
          },
          "title": {
           "x": 0.05
          },
          "xaxis": {
           "automargin": true,
           "gridcolor": "white",
           "linecolor": "white",
           "ticks": "",
           "title": {
            "standoff": 15
           },
           "zerolinecolor": "white",
           "zerolinewidth": 2
          },
          "yaxis": {
           "automargin": true,
           "gridcolor": "white",
           "linecolor": "white",
           "ticks": "",
           "title": {
            "standoff": 15
           },
           "zerolinecolor": "white",
           "zerolinewidth": 2
          }
         }
        }
       }
      }
     },
     "metadata": {},
     "output_type": "display_data"
    }
   ],
   "source": [
    "fig = px.scatter_3d(data, x='home_wickets', y='away_wickets', z='season', color='winner')\n",
    "fig.update_layout(scene=dict(xaxis_title='Home Wickets', yaxis_title='Away Wickets', zaxis_title='Winner'))\n",
    "fig.show()\n"
   ]
  },
  {
   "cell_type": "code",
   "execution_count": null,
   "id": "29ac824f",
   "metadata": {
    "papermill": {
     "duration": 0.018671,
     "end_time": "2024-03-18T06:08:16.253163",
     "exception": false,
     "start_time": "2024-03-18T06:08:16.234492",
     "status": "completed"
    },
    "tags": []
   },
   "outputs": [],
   "source": []
  }
 ],
 "metadata": {
  "kaggle": {
   "accelerator": "none",
   "dataSources": [
    {
     "datasetId": 4617400,
     "sourceId": 7869409,
     "sourceType": "datasetVersion"
    }
   ],
   "dockerImageVersionId": 30664,
   "isGpuEnabled": false,
   "isInternetEnabled": true,
   "language": "python",
   "sourceType": "notebook"
  },
  "kernelspec": {
   "display_name": "Python 3",
   "language": "python",
   "name": "python3"
  },
  "language_info": {
   "codemirror_mode": {
    "name": "ipython",
    "version": 3
   },
   "file_extension": ".py",
   "mimetype": "text/x-python",
   "name": "python",
   "nbconvert_exporter": "python",
   "pygments_lexer": "ipython3",
   "version": "3.11.5"
  },
  "papermill": {
   "default_parameters": {},
   "duration": 14.14999,
   "end_time": "2024-03-18T06:08:16.993605",
   "environment_variables": {},
   "exception": null,
   "input_path": "__notebook__.ipynb",
   "output_path": "__notebook__.ipynb",
   "parameters": {},
   "start_time": "2024-03-18T06:08:02.843615",
   "version": "2.5.0"
  }
 },
 "nbformat": 4,
 "nbformat_minor": 5
}
